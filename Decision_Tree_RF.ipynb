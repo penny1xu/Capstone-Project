{
  "nbformat": 4,
  "nbformat_minor": 0,
  "metadata": {
    "colab": {
      "provenance": [],
      "collapsed_sections": [],
      "include_colab_link": true
    },
    "kernelspec": {
      "name": "python3",
      "display_name": "Python 3"
    },
    "language_info": {
      "name": "python"
    }
  },
  "cells": [
    {
      "cell_type": "markdown",
      "metadata": {
        "id": "view-in-github",
        "colab_type": "text"
      },
      "source": [
        "<a href=\"https://colab.research.google.com/github/penny1xu/Capstone-Project/blob/main/Decision_Tree_RF.ipynb\" target=\"_parent\"><img src=\"https://colab.research.google.com/assets/colab-badge.svg\" alt=\"Open In Colab\"/></a>"
      ]
    },
    {
      "cell_type": "markdown",
      "source": [
        "## Decision Tree Classification Model"
      ],
      "metadata": {
        "id": "0CIKyA1Y54PT"
      }
    },
    {
      "cell_type": "markdown",
      "source": [
        "We will use the built in Pima Indians Diabetes dataset. It is available as part of the SKlearn datasets. We have made it easily available for you."
      ],
      "metadata": {
        "id": "qJDS973r7g4m"
      }
    },
    {
      "cell_type": "code",
      "source": [
        "import pandas as pd\n",
        "\n",
        "col_names = ['pregnant', 'glucose', 'bp', 'skin', 'insulin', 'bmi', 'pedigree', 'age', 'label']\n",
        "# load dataset\n",
        "pima = pd.read_csv(\"https://an-utd-python.s3.us-west-1.amazonaws.com/pima-indians-diabetes.csv\", header=None, names=col_names)"
      ],
      "metadata": {
        "id": "_fvB4o4vipx4"
      },
      "execution_count": null,
      "outputs": []
    },
    {
      "cell_type": "code",
      "source": [
        "pima.head()"
      ],
      "metadata": {
        "id": "30AXEePjiuDc",
        "colab": {
          "base_uri": "https://localhost:8080/",
          "height": 206
        },
        "outputId": "0abee81b-4f5d-4fc8-872d-8d600b70c020"
      },
      "execution_count": null,
      "outputs": [
        {
          "output_type": "execute_result",
          "data": {
            "text/plain": [
              "   pregnant  glucose  bp  skin  insulin   bmi  pedigree  age  label\n",
              "0         6      148  72    35        0  33.6     0.627   50      1\n",
              "1         1       85  66    29        0  26.6     0.351   31      0\n",
              "2         8      183  64     0        0  23.3     0.672   32      1\n",
              "3         1       89  66    23       94  28.1     0.167   21      0\n",
              "4         0      137  40    35      168  43.1     2.288   33      1"
            ],
            "text/html": [
              "\n",
              "  <div id=\"df-7bf93e9c-c94f-492c-bdad-58f282cbf40f\">\n",
              "    <div class=\"colab-df-container\">\n",
              "      <div>\n",
              "<style scoped>\n",
              "    .dataframe tbody tr th:only-of-type {\n",
              "        vertical-align: middle;\n",
              "    }\n",
              "\n",
              "    .dataframe tbody tr th {\n",
              "        vertical-align: top;\n",
              "    }\n",
              "\n",
              "    .dataframe thead th {\n",
              "        text-align: right;\n",
              "    }\n",
              "</style>\n",
              "<table border=\"1\" class=\"dataframe\">\n",
              "  <thead>\n",
              "    <tr style=\"text-align: right;\">\n",
              "      <th></th>\n",
              "      <th>pregnant</th>\n",
              "      <th>glucose</th>\n",
              "      <th>bp</th>\n",
              "      <th>skin</th>\n",
              "      <th>insulin</th>\n",
              "      <th>bmi</th>\n",
              "      <th>pedigree</th>\n",
              "      <th>age</th>\n",
              "      <th>label</th>\n",
              "    </tr>\n",
              "  </thead>\n",
              "  <tbody>\n",
              "    <tr>\n",
              "      <th>0</th>\n",
              "      <td>6</td>\n",
              "      <td>148</td>\n",
              "      <td>72</td>\n",
              "      <td>35</td>\n",
              "      <td>0</td>\n",
              "      <td>33.6</td>\n",
              "      <td>0.627</td>\n",
              "      <td>50</td>\n",
              "      <td>1</td>\n",
              "    </tr>\n",
              "    <tr>\n",
              "      <th>1</th>\n",
              "      <td>1</td>\n",
              "      <td>85</td>\n",
              "      <td>66</td>\n",
              "      <td>29</td>\n",
              "      <td>0</td>\n",
              "      <td>26.6</td>\n",
              "      <td>0.351</td>\n",
              "      <td>31</td>\n",
              "      <td>0</td>\n",
              "    </tr>\n",
              "    <tr>\n",
              "      <th>2</th>\n",
              "      <td>8</td>\n",
              "      <td>183</td>\n",
              "      <td>64</td>\n",
              "      <td>0</td>\n",
              "      <td>0</td>\n",
              "      <td>23.3</td>\n",
              "      <td>0.672</td>\n",
              "      <td>32</td>\n",
              "      <td>1</td>\n",
              "    </tr>\n",
              "    <tr>\n",
              "      <th>3</th>\n",
              "      <td>1</td>\n",
              "      <td>89</td>\n",
              "      <td>66</td>\n",
              "      <td>23</td>\n",
              "      <td>94</td>\n",
              "      <td>28.1</td>\n",
              "      <td>0.167</td>\n",
              "      <td>21</td>\n",
              "      <td>0</td>\n",
              "    </tr>\n",
              "    <tr>\n",
              "      <th>4</th>\n",
              "      <td>0</td>\n",
              "      <td>137</td>\n",
              "      <td>40</td>\n",
              "      <td>35</td>\n",
              "      <td>168</td>\n",
              "      <td>43.1</td>\n",
              "      <td>2.288</td>\n",
              "      <td>33</td>\n",
              "      <td>1</td>\n",
              "    </tr>\n",
              "  </tbody>\n",
              "</table>\n",
              "</div>\n",
              "      <button class=\"colab-df-convert\" onclick=\"convertToInteractive('df-7bf93e9c-c94f-492c-bdad-58f282cbf40f')\"\n",
              "              title=\"Convert this dataframe to an interactive table.\"\n",
              "              style=\"display:none;\">\n",
              "        \n",
              "  <svg xmlns=\"http://www.w3.org/2000/svg\" height=\"24px\"viewBox=\"0 0 24 24\"\n",
              "       width=\"24px\">\n",
              "    <path d=\"M0 0h24v24H0V0z\" fill=\"none\"/>\n",
              "    <path d=\"M18.56 5.44l.94 2.06.94-2.06 2.06-.94-2.06-.94-.94-2.06-.94 2.06-2.06.94zm-11 1L8.5 8.5l.94-2.06 2.06-.94-2.06-.94L8.5 2.5l-.94 2.06-2.06.94zm10 10l.94 2.06.94-2.06 2.06-.94-2.06-.94-.94-2.06-.94 2.06-2.06.94z\"/><path d=\"M17.41 7.96l-1.37-1.37c-.4-.4-.92-.59-1.43-.59-.52 0-1.04.2-1.43.59L10.3 9.45l-7.72 7.72c-.78.78-.78 2.05 0 2.83L4 21.41c.39.39.9.59 1.41.59.51 0 1.02-.2 1.41-.59l7.78-7.78 2.81-2.81c.8-.78.8-2.07 0-2.86zM5.41 20L4 18.59l7.72-7.72 1.47 1.35L5.41 20z\"/>\n",
              "  </svg>\n",
              "      </button>\n",
              "      \n",
              "  <style>\n",
              "    .colab-df-container {\n",
              "      display:flex;\n",
              "      flex-wrap:wrap;\n",
              "      gap: 12px;\n",
              "    }\n",
              "\n",
              "    .colab-df-convert {\n",
              "      background-color: #E8F0FE;\n",
              "      border: none;\n",
              "      border-radius: 50%;\n",
              "      cursor: pointer;\n",
              "      display: none;\n",
              "      fill: #1967D2;\n",
              "      height: 32px;\n",
              "      padding: 0 0 0 0;\n",
              "      width: 32px;\n",
              "    }\n",
              "\n",
              "    .colab-df-convert:hover {\n",
              "      background-color: #E2EBFA;\n",
              "      box-shadow: 0px 1px 2px rgba(60, 64, 67, 0.3), 0px 1px 3px 1px rgba(60, 64, 67, 0.15);\n",
              "      fill: #174EA6;\n",
              "    }\n",
              "\n",
              "    [theme=dark] .colab-df-convert {\n",
              "      background-color: #3B4455;\n",
              "      fill: #D2E3FC;\n",
              "    }\n",
              "\n",
              "    [theme=dark] .colab-df-convert:hover {\n",
              "      background-color: #434B5C;\n",
              "      box-shadow: 0px 1px 3px 1px rgba(0, 0, 0, 0.15);\n",
              "      filter: drop-shadow(0px 1px 2px rgba(0, 0, 0, 0.3));\n",
              "      fill: #FFFFFF;\n",
              "    }\n",
              "  </style>\n",
              "\n",
              "      <script>\n",
              "        const buttonEl =\n",
              "          document.querySelector('#df-7bf93e9c-c94f-492c-bdad-58f282cbf40f button.colab-df-convert');\n",
              "        buttonEl.style.display =\n",
              "          google.colab.kernel.accessAllowed ? 'block' : 'none';\n",
              "\n",
              "        async function convertToInteractive(key) {\n",
              "          const element = document.querySelector('#df-7bf93e9c-c94f-492c-bdad-58f282cbf40f');\n",
              "          const dataTable =\n",
              "            await google.colab.kernel.invokeFunction('convertToInteractive',\n",
              "                                                     [key], {});\n",
              "          if (!dataTable) return;\n",
              "\n",
              "          const docLinkHtml = 'Like what you see? Visit the ' +\n",
              "            '<a target=\"_blank\" href=https://colab.research.google.com/notebooks/data_table.ipynb>data table notebook</a>'\n",
              "            + ' to learn more about interactive tables.';\n",
              "          element.innerHTML = '';\n",
              "          dataTable['output_type'] = 'display_data';\n",
              "          await google.colab.output.renderOutput(dataTable, element);\n",
              "          const docLink = document.createElement('div');\n",
              "          docLink.innerHTML = docLinkHtml;\n",
              "          element.appendChild(docLink);\n",
              "        }\n",
              "      </script>\n",
              "    </div>\n",
              "  </div>\n",
              "  "
            ]
          },
          "metadata": {},
          "execution_count": 2
        }
      ]
    },
    {
      "cell_type": "code",
      "source": [
        "feature_cols = ['pregnant', 'insulin', 'bmi', 'age','glucose','bp','pedigree']\n",
        "X = pima[feature_cols] # Features\n",
        "y = pima.label # Target variable"
      ],
      "metadata": {
        "id": "wjvS1wUNiw5Z"
      },
      "execution_count": null,
      "outputs": []
    },
    {
      "cell_type": "code",
      "source": [
        "from sklearn.model_selection import train_test_split\n",
        "X_train, X_test, y_train, y_test = train_test_split(X, y, test_size=0.3, random_state=1) # 70% training and 30% test"
      ],
      "metadata": {
        "id": "GYOtZ1ZLiztk"
      },
      "execution_count": null,
      "outputs": []
    },
    {
      "cell_type": "code",
      "source": [
        "from sklearn.tree import DecisionTreeClassifier\n",
        "# Create Decision Tree classifer object\n",
        "clf = DecisionTreeClassifier(min_samples_leaf=10)\n",
        "\n",
        "# Train Decision Tree Classifer\n",
        "clf = clf.fit(X_train,y_train)\n",
        "\n",
        "#Predict the response for test dataset\n",
        "predictions = clf.predict(X_test)"
      ],
      "metadata": {
        "id": "XydVD68Ri83n"
      },
      "execution_count": null,
      "outputs": []
    },
    {
      "cell_type": "code",
      "source": [
        "from sklearn.metrics import classification_report, accuracy_score\n",
        "\n",
        "print(classification_report(y_test, predictions)) # predictions contain predicted values (derived from probability with 0.5 threshold)\n",
        "print('Predicted labels: ', predictions)\n",
        "print('Accuracy: ', accuracy_score(y_test, predictions))\n"
      ],
      "metadata": {
        "id": "KBuDwuPZCBNO",
        "colab": {
          "base_uri": "https://localhost:8080/"
        },
        "outputId": "7715160e-7b52-4ffc-bd07-1808210f0d5d"
      },
      "execution_count": null,
      "outputs": [
        {
          "output_type": "stream",
          "name": "stdout",
          "text": [
            "              precision    recall  f1-score   support\n",
            "\n",
            "           0       0.75      0.90      0.82       146\n",
            "           1       0.73      0.48      0.58        85\n",
            "\n",
            "    accuracy                           0.74       231\n",
            "   macro avg       0.74      0.69      0.70       231\n",
            "weighted avg       0.74      0.74      0.73       231\n",
            "\n",
            "Predicted labels:  [0 0 0 0 0 0 0 0 0 0 1 0 1 1 0 1 0 0 0 0 0 0 1 0 0 0 0 1 0 0 0 0 0 1 0 1 0\n",
            " 0 0 0 0 0 0 0 0 0 1 1 0 0 0 0 1 0 1 0 0 0 0 0 1 0 0 0 0 0 0 0 1 1 1 1 0 0\n",
            " 0 0 0 0 0 0 1 0 0 0 0 1 0 0 0 1 0 0 0 0 1 0 1 0 1 0 0 0 1 0 0 0 0 0 0 0 0\n",
            " 0 0 0 0 0 0 0 0 0 0 1 0 0 0 0 0 1 0 0 1 0 0 0 0 0 0 1 0 0 1 0 0 1 0 0 0 0\n",
            " 0 0 1 1 0 0 1 1 0 0 0 0 1 1 0 0 0 0 0 1 1 0 1 1 0 0 1 1 0 0 0 0 1 1 0 1 0\n",
            " 0 0 1 0 0 0 0 0 0 1 0 0 0 0 1 1 1 0 0 0 1 0 1 0 1 0 0 0 0 0 1 0 0 0 0 0 0\n",
            " 0 1 0 0 0 0 0 1 0]\n",
            "Accuracy:  0.7445887445887446\n"
          ]
        }
      ]
    },
    {
      "cell_type": "code",
      "source": [
        "!pip install graphviz"
      ],
      "metadata": {
        "id": "IWku9XDkCCNa",
        "colab": {
          "base_uri": "https://localhost:8080/"
        },
        "outputId": "d08fc54c-218e-4464-8ae0-d2f83ef4ede2"
      },
      "execution_count": null,
      "outputs": [
        {
          "output_type": "stream",
          "name": "stdout",
          "text": [
            "Looking in indexes: https://pypi.org/simple, https://us-python.pkg.dev/colab-wheels/public/simple/\n",
            "Requirement already satisfied: graphviz in /usr/local/lib/python3.7/dist-packages (0.10.1)\n"
          ]
        }
      ]
    },
    {
      "cell_type": "code",
      "source": [
        "X.columns"
      ],
      "metadata": {
        "id": "ofNHbzxnCR3v",
        "colab": {
          "base_uri": "https://localhost:8080/"
        },
        "outputId": "bd41cb5d-08d3-47f6-cfaf-a4de31848260"
      },
      "execution_count": null,
      "outputs": [
        {
          "output_type": "execute_result",
          "data": {
            "text/plain": [
              "Index(['pregnant', 'insulin', 'bmi', 'age', 'glucose', 'bp', 'pedigree'], dtype='object')"
            ]
          },
          "metadata": {},
          "execution_count": 9
        }
      ]
    },
    {
      "cell_type": "code",
      "source": [
        "classes = y.unique()"
      ],
      "metadata": {
        "id": "vKQ7ucJhCUR6"
      },
      "execution_count": null,
      "outputs": []
    },
    {
      "cell_type": "code",
      "source": [
        "import graphviz \n",
        "from sklearn import tree\n",
        "dot_data = tree.export_graphviz(clf, out_file=None, \n",
        "                     feature_names = feature_cols,class_names=['0','1'],\n",
        "                     filled=True, rounded=True,\n",
        "                     special_characters=True)  \n",
        "graph = graphviz.Source(dot_data)  \n",
        "graph "
      ],
      "metadata": {
        "id": "QufTChnRCfQI",
        "colab": {
          "base_uri": "https://localhost:8080/",
          "height": 1000
        },
        "outputId": "083dab11-a425-4665-e2ac-98899193239e"
      },
      "execution_count": null,
      "outputs": [
        {
          "output_type": "execute_result",
          "data": {
            "text/plain": [
              "<graphviz.files.Source at 0x7fa2c26c3550>"
            ],
            "image/svg+xml": "<?xml version=\"1.0\" encoding=\"UTF-8\" standalone=\"no\"?>\n<!DOCTYPE svg PUBLIC \"-//W3C//DTD SVG 1.1//EN\"\n \"http://www.w3.org/Graphics/SVG/1.1/DTD/svg11.dtd\">\n<!-- Generated by graphviz version 2.40.1 (20161225.0304)\n -->\n<!-- Title: Tree Pages: 1 -->\n<svg width=\"2302pt\" height=\"1147pt\"\n viewBox=\"0.00 0.00 2302.00 1147.00\" xmlns=\"http://www.w3.org/2000/svg\" xmlns:xlink=\"http://www.w3.org/1999/xlink\">\n<g id=\"graph0\" class=\"graph\" transform=\"scale(1 1) rotate(0) translate(4 1143)\">\n<title>Tree</title>\n<polygon fill=\"#ffffff\" stroke=\"transparent\" points=\"-4,4 -4,-1143 2298,-1143 2298,4 -4,4\"/>\n<!-- 0 -->\n<g id=\"node1\" class=\"node\">\n<title>0</title>\n<path fill=\"#f2c29f\" stroke=\"#000000\" d=\"M1080,-1139C1080,-1139 972,-1139 972,-1139 966,-1139 960,-1133 960,-1127 960,-1127 960,-1068 960,-1068 960,-1062 966,-1056 972,-1056 972,-1056 1080,-1056 1080,-1056 1086,-1056 1092,-1062 1092,-1068 1092,-1068 1092,-1127 1092,-1127 1092,-1133 1086,-1139 1080,-1139\"/>\n<text text-anchor=\"start\" x=\"974.5\" y=\"-1123.8\" font-family=\"Helvetica,sans-Serif\" font-size=\"14.00\" fill=\"#000000\">glucose ≤ 129.5</text>\n<text text-anchor=\"start\" x=\"988\" y=\"-1108.8\" font-family=\"Helvetica,sans-Serif\" font-size=\"14.00\" fill=\"#000000\">gini = 0.449</text>\n<text text-anchor=\"start\" x=\"978\" y=\"-1093.8\" font-family=\"Helvetica,sans-Serif\" font-size=\"14.00\" fill=\"#000000\">samples = 537</text>\n<text text-anchor=\"start\" x=\"968\" y=\"-1078.8\" font-family=\"Helvetica,sans-Serif\" font-size=\"14.00\" fill=\"#000000\">value = [354, 183]</text>\n<text text-anchor=\"start\" x=\"997\" y=\"-1063.8\" font-family=\"Helvetica,sans-Serif\" font-size=\"14.00\" fill=\"#000000\">class = 0</text>\n</g>\n<!-- 1 -->\n<g id=\"node2\" class=\"node\">\n<title>1</title>\n<path fill=\"#eca26d\" stroke=\"#000000\" d=\"M676,-1020C676,-1020 576,-1020 576,-1020 570,-1020 564,-1014 564,-1008 564,-1008 564,-949 564,-949 564,-943 570,-937 576,-937 576,-937 676,-937 676,-937 682,-937 688,-943 688,-949 688,-949 688,-1008 688,-1008 688,-1014 682,-1020 676,-1020\"/>\n<text text-anchor=\"start\" x=\"592.5\" y=\"-1004.8\" font-family=\"Helvetica,sans-Serif\" font-size=\"14.00\" fill=\"#000000\">bmi ≤ 26.3</text>\n<text text-anchor=\"start\" x=\"588\" y=\"-989.8\" font-family=\"Helvetica,sans-Serif\" font-size=\"14.00\" fill=\"#000000\">gini = 0.329</text>\n<text text-anchor=\"start\" x=\"578\" y=\"-974.8\" font-family=\"Helvetica,sans-Serif\" font-size=\"14.00\" fill=\"#000000\">samples = 357</text>\n<text text-anchor=\"start\" x=\"572\" y=\"-959.8\" font-family=\"Helvetica,sans-Serif\" font-size=\"14.00\" fill=\"#000000\">value = [283, 74]</text>\n<text text-anchor=\"start\" x=\"597\" y=\"-944.8\" font-family=\"Helvetica,sans-Serif\" font-size=\"14.00\" fill=\"#000000\">class = 0</text>\n</g>\n<!-- 0&#45;&gt;1 -->\n<g id=\"edge1\" class=\"edge\">\n<title>0&#45;&gt;1</title>\n<path fill=\"none\" stroke=\"#000000\" d=\"M959.9481,-1077.8496C887.745,-1056.3691 772.4356,-1022.0646 697.9732,-999.912\"/>\n<polygon fill=\"#000000\" stroke=\"#000000\" points=\"698.781,-996.5008 688.1981,-997.0039 696.7849,-1003.2102 698.781,-996.5008\"/>\n<text text-anchor=\"middle\" x=\"700.1011\" y=\"-1015.2885\" font-family=\"Helvetica,sans-Serif\" font-size=\"14.00\" fill=\"#000000\">True</text>\n</g>\n<!-- 44 -->\n<g id=\"node45\" class=\"node\">\n<title>44</title>\n<path fill=\"#baddf6\" stroke=\"#000000\" d=\"M1359,-1020C1359,-1020 1259,-1020 1259,-1020 1253,-1020 1247,-1014 1247,-1008 1247,-1008 1247,-949 1247,-949 1247,-943 1253,-937 1259,-937 1259,-937 1359,-937 1359,-937 1365,-937 1371,-943 1371,-949 1371,-949 1371,-1008 1371,-1008 1371,-1014 1365,-1020 1359,-1020\"/>\n<text text-anchor=\"start\" x=\"1271\" y=\"-1004.8\" font-family=\"Helvetica,sans-Serif\" font-size=\"14.00\" fill=\"#000000\">bmi ≤ 27.85</text>\n<text text-anchor=\"start\" x=\"1271\" y=\"-989.8\" font-family=\"Helvetica,sans-Serif\" font-size=\"14.00\" fill=\"#000000\">gini = 0.478</text>\n<text text-anchor=\"start\" x=\"1261\" y=\"-974.8\" font-family=\"Helvetica,sans-Serif\" font-size=\"14.00\" fill=\"#000000\">samples = 180</text>\n<text text-anchor=\"start\" x=\"1255\" y=\"-959.8\" font-family=\"Helvetica,sans-Serif\" font-size=\"14.00\" fill=\"#000000\">value = [71, 109]</text>\n<text text-anchor=\"start\" x=\"1280\" y=\"-944.8\" font-family=\"Helvetica,sans-Serif\" font-size=\"14.00\" fill=\"#000000\">class = 1</text>\n</g>\n<!-- 0&#45;&gt;44 -->\n<g id=\"edge44\" class=\"edge\">\n<title>0&#45;&gt;44</title>\n<path fill=\"none\" stroke=\"#000000\" d=\"M1092.3509,-1069.5998C1135.9724,-1051.2572 1193.017,-1027.2702 1237.6211,-1008.5145\"/>\n<polygon fill=\"#000000\" stroke=\"#000000\" points=\"1239.0794,-1011.6981 1246.9409,-1004.5955 1236.366,-1005.2454 1239.0794,-1011.6981\"/>\n<text text-anchor=\"middle\" x=\"1237.4975\" y=\"-1024.0433\" font-family=\"Helvetica,sans-Serif\" font-size=\"14.00\" fill=\"#000000\">False</text>\n</g>\n<!-- 2 -->\n<g id=\"node3\" class=\"node\">\n<title>2</title>\n<path fill=\"#e6853f\" stroke=\"#000000\" d=\"M226.5,-901C226.5,-901 143.5,-901 143.5,-901 137.5,-901 131.5,-895 131.5,-889 131.5,-889 131.5,-830 131.5,-830 131.5,-824 137.5,-818 143.5,-818 143.5,-818 226.5,-818 226.5,-818 232.5,-818 238.5,-824 238.5,-830 238.5,-830 238.5,-889 238.5,-889 238.5,-895 232.5,-901 226.5,-901\"/>\n<text text-anchor=\"start\" x=\"147\" y=\"-885.8\" font-family=\"Helvetica,sans-Serif\" font-size=\"14.00\" fill=\"#000000\">bmi ≤ 18.85</text>\n<text text-anchor=\"start\" x=\"151.5\" y=\"-870.8\" font-family=\"Helvetica,sans-Serif\" font-size=\"14.00\" fill=\"#000000\">gini = 0.06</text>\n<text text-anchor=\"start\" x=\"141\" y=\"-855.8\" font-family=\"Helvetica,sans-Serif\" font-size=\"14.00\" fill=\"#000000\">samples = 97</text>\n<text text-anchor=\"start\" x=\"139.5\" y=\"-840.8\" font-family=\"Helvetica,sans-Serif\" font-size=\"14.00\" fill=\"#000000\">value = [94, 3]</text>\n<text text-anchor=\"start\" x=\"156\" y=\"-825.8\" font-family=\"Helvetica,sans-Serif\" font-size=\"14.00\" fill=\"#000000\">class = 0</text>\n</g>\n<!-- 1&#45;&gt;2 -->\n<g id=\"edge2\" class=\"edge\">\n<title>1&#45;&gt;2</title>\n<path fill=\"none\" stroke=\"#000000\" d=\"M563.7508,-961.7026C480.1626,-939.1471 332.4474,-899.2874 248.3171,-876.5856\"/>\n<polygon fill=\"#000000\" stroke=\"#000000\" points=\"249.1975,-873.198 238.6309,-873.9718 247.3738,-879.9563 249.1975,-873.198\"/>\n</g>\n<!-- 7 -->\n<g id=\"node8\" class=\"node\">\n<title>7</title>\n<path fill=\"#efb083\" stroke=\"#000000\" d=\"M676,-901C676,-901 576,-901 576,-901 570,-901 564,-895 564,-889 564,-889 564,-830 564,-830 564,-824 570,-818 576,-818 576,-818 676,-818 676,-818 682,-818 688,-824 688,-830 688,-830 688,-889 688,-889 688,-895 682,-901 676,-901\"/>\n<text text-anchor=\"start\" x=\"591.5\" y=\"-885.8\" font-family=\"Helvetica,sans-Serif\" font-size=\"14.00\" fill=\"#000000\">age ≤ 27.5</text>\n<text text-anchor=\"start\" x=\"588\" y=\"-870.8\" font-family=\"Helvetica,sans-Serif\" font-size=\"14.00\" fill=\"#000000\">gini = 0.397</text>\n<text text-anchor=\"start\" x=\"578\" y=\"-855.8\" font-family=\"Helvetica,sans-Serif\" font-size=\"14.00\" fill=\"#000000\">samples = 260</text>\n<text text-anchor=\"start\" x=\"572\" y=\"-840.8\" font-family=\"Helvetica,sans-Serif\" font-size=\"14.00\" fill=\"#000000\">value = [189, 71]</text>\n<text text-anchor=\"start\" x=\"597\" y=\"-825.8\" font-family=\"Helvetica,sans-Serif\" font-size=\"14.00\" fill=\"#000000\">class = 0</text>\n</g>\n<!-- 1&#45;&gt;7 -->\n<g id=\"edge7\" class=\"edge\">\n<title>1&#45;&gt;7</title>\n<path fill=\"none\" stroke=\"#000000\" d=\"M626,-936.8796C626,-928.6838 626,-919.9891 626,-911.5013\"/>\n<polygon fill=\"#000000\" stroke=\"#000000\" points=\"629.5001,-911.298 626,-901.2981 622.5001,-911.2981 629.5001,-911.298\"/>\n</g>\n<!-- 3 -->\n<g id=\"node4\" class=\"node\">\n<title>3</title>\n<path fill=\"#eca06a\" stroke=\"#000000\" d=\"M92,-774.5C92,-774.5 12,-774.5 12,-774.5 6,-774.5 0,-768.5 0,-762.5 0,-762.5 0,-718.5 0,-718.5 0,-712.5 6,-706.5 12,-706.5 12,-706.5 92,-706.5 92,-706.5 98,-706.5 104,-712.5 104,-718.5 104,-718.5 104,-762.5 104,-762.5 104,-768.5 98,-774.5 92,-774.5\"/>\n<text text-anchor=\"start\" x=\"18.5\" y=\"-759.3\" font-family=\"Helvetica,sans-Serif\" font-size=\"14.00\" fill=\"#000000\">gini = 0.32</text>\n<text text-anchor=\"start\" x=\"8\" y=\"-744.3\" font-family=\"Helvetica,sans-Serif\" font-size=\"14.00\" fill=\"#000000\">samples = 10</text>\n<text text-anchor=\"start\" x=\"10.5\" y=\"-729.3\" font-family=\"Helvetica,sans-Serif\" font-size=\"14.00\" fill=\"#000000\">value = [8, 2]</text>\n<text text-anchor=\"start\" x=\"23\" y=\"-714.3\" font-family=\"Helvetica,sans-Serif\" font-size=\"14.00\" fill=\"#000000\">class = 0</text>\n</g>\n<!-- 2&#45;&gt;3 -->\n<g id=\"edge3\" class=\"edge\">\n<title>2&#45;&gt;3</title>\n<path fill=\"none\" stroke=\"#000000\" d=\"M138.4831,-817.8796C125.333,-806.1138 111.0337,-793.3197 97.9191,-781.5855\"/>\n<polygon fill=\"#000000\" stroke=\"#000000\" points=\"100.1382,-778.8746 90.352,-774.8149 95.4706,-784.0913 100.1382,-778.8746\"/>\n</g>\n<!-- 4 -->\n<g id=\"node5\" class=\"node\">\n<title>4</title>\n<path fill=\"#e5823b\" stroke=\"#000000\" d=\"M235.5,-782C235.5,-782 134.5,-782 134.5,-782 128.5,-782 122.5,-776 122.5,-770 122.5,-770 122.5,-711 122.5,-711 122.5,-705 128.5,-699 134.5,-699 134.5,-699 235.5,-699 235.5,-699 241.5,-699 247.5,-705 247.5,-711 247.5,-711 247.5,-770 247.5,-770 247.5,-776 241.5,-782 235.5,-782\"/>\n<text text-anchor=\"start\" x=\"130.5\" y=\"-766.8\" font-family=\"Helvetica,sans-Serif\" font-size=\"14.00\" fill=\"#000000\">pedigree ≤ 0.669</text>\n<text text-anchor=\"start\" x=\"147\" y=\"-751.8\" font-family=\"Helvetica,sans-Serif\" font-size=\"14.00\" fill=\"#000000\">gini = 0.023</text>\n<text text-anchor=\"start\" x=\"141\" y=\"-736.8\" font-family=\"Helvetica,sans-Serif\" font-size=\"14.00\" fill=\"#000000\">samples = 87</text>\n<text text-anchor=\"start\" x=\"139.5\" y=\"-721.8\" font-family=\"Helvetica,sans-Serif\" font-size=\"14.00\" fill=\"#000000\">value = [86, 1]</text>\n<text text-anchor=\"start\" x=\"156\" y=\"-706.8\" font-family=\"Helvetica,sans-Serif\" font-size=\"14.00\" fill=\"#000000\">class = 0</text>\n</g>\n<!-- 2&#45;&gt;4 -->\n<g id=\"edge4\" class=\"edge\">\n<title>2&#45;&gt;4</title>\n<path fill=\"none\" stroke=\"#000000\" d=\"M185,-817.8796C185,-809.6838 185,-800.9891 185,-792.5013\"/>\n<polygon fill=\"#000000\" stroke=\"#000000\" points=\"188.5001,-792.298 185,-782.2981 181.5001,-792.2981 188.5001,-792.298\"/>\n</g>\n<!-- 5 -->\n<g id=\"node6\" class=\"node\">\n<title>5</title>\n<path fill=\"#e58139\" stroke=\"#000000\" d=\"M101.5,-655.5C101.5,-655.5 18.5,-655.5 18.5,-655.5 12.5,-655.5 6.5,-649.5 6.5,-643.5 6.5,-643.5 6.5,-599.5 6.5,-599.5 6.5,-593.5 12.5,-587.5 18.5,-587.5 18.5,-587.5 101.5,-587.5 101.5,-587.5 107.5,-587.5 113.5,-593.5 113.5,-599.5 113.5,-599.5 113.5,-643.5 113.5,-643.5 113.5,-649.5 107.5,-655.5 101.5,-655.5\"/>\n<text text-anchor=\"start\" x=\"30.5\" y=\"-640.3\" font-family=\"Helvetica,sans-Serif\" font-size=\"14.00\" fill=\"#000000\">gini = 0.0</text>\n<text text-anchor=\"start\" x=\"16\" y=\"-625.3\" font-family=\"Helvetica,sans-Serif\" font-size=\"14.00\" fill=\"#000000\">samples = 72</text>\n<text text-anchor=\"start\" x=\"14.5\" y=\"-610.3\" font-family=\"Helvetica,sans-Serif\" font-size=\"14.00\" fill=\"#000000\">value = [72, 0]</text>\n<text text-anchor=\"start\" x=\"31\" y=\"-595.3\" font-family=\"Helvetica,sans-Serif\" font-size=\"14.00\" fill=\"#000000\">class = 0</text>\n</g>\n<!-- 4&#45;&gt;5 -->\n<g id=\"edge5\" class=\"edge\">\n<title>4&#45;&gt;5</title>\n<path fill=\"none\" stroke=\"#000000\" d=\"M141.2811,-698.8796C129.0375,-687.2237 115.7339,-674.5587 103.5029,-662.9148\"/>\n<polygon fill=\"#000000\" stroke=\"#000000\" points=\"105.7012,-660.1751 96.0451,-655.8149 100.8746,-665.245 105.7012,-660.1751\"/>\n</g>\n<!-- 6 -->\n<g id=\"node7\" class=\"node\">\n<title>6</title>\n<path fill=\"#e78a47\" stroke=\"#000000\" d=\"M226.5,-655.5C226.5,-655.5 143.5,-655.5 143.5,-655.5 137.5,-655.5 131.5,-649.5 131.5,-643.5 131.5,-643.5 131.5,-599.5 131.5,-599.5 131.5,-593.5 137.5,-587.5 143.5,-587.5 143.5,-587.5 226.5,-587.5 226.5,-587.5 232.5,-587.5 238.5,-593.5 238.5,-599.5 238.5,-599.5 238.5,-643.5 238.5,-643.5 238.5,-649.5 232.5,-655.5 226.5,-655.5\"/>\n<text text-anchor=\"start\" x=\"147\" y=\"-640.3\" font-family=\"Helvetica,sans-Serif\" font-size=\"14.00\" fill=\"#000000\">gini = 0.124</text>\n<text text-anchor=\"start\" x=\"141\" y=\"-625.3\" font-family=\"Helvetica,sans-Serif\" font-size=\"14.00\" fill=\"#000000\">samples = 15</text>\n<text text-anchor=\"start\" x=\"139.5\" y=\"-610.3\" font-family=\"Helvetica,sans-Serif\" font-size=\"14.00\" fill=\"#000000\">value = [14, 1]</text>\n<text text-anchor=\"start\" x=\"156\" y=\"-595.3\" font-family=\"Helvetica,sans-Serif\" font-size=\"14.00\" fill=\"#000000\">class = 0</text>\n</g>\n<!-- 4&#45;&gt;6 -->\n<g id=\"edge6\" class=\"edge\">\n<title>4&#45;&gt;6</title>\n<path fill=\"none\" stroke=\"#000000\" d=\"M185,-698.8796C185,-688.2134 185,-676.7021 185,-665.9015\"/>\n<polygon fill=\"#000000\" stroke=\"#000000\" points=\"188.5001,-665.8149 185,-655.8149 181.5001,-665.815 188.5001,-665.8149\"/>\n</g>\n<!-- 8 -->\n<g id=\"node9\" class=\"node\">\n<title>8</title>\n<path fill=\"#e9965a\" stroke=\"#000000\" d=\"M561,-782C561,-782 461,-782 461,-782 455,-782 449,-776 449,-770 449,-770 449,-711 449,-711 449,-705 455,-699 461,-699 461,-699 561,-699 561,-699 567,-699 573,-705 573,-711 573,-711 573,-770 573,-770 573,-776 567,-782 561,-782\"/>\n<text text-anchor=\"start\" x=\"476.5\" y=\"-766.8\" font-family=\"Helvetica,sans-Serif\" font-size=\"14.00\" fill=\"#000000\">age ≤ 22.5</text>\n<text text-anchor=\"start\" x=\"473\" y=\"-751.8\" font-family=\"Helvetica,sans-Serif\" font-size=\"14.00\" fill=\"#000000\">gini = 0.243</text>\n<text text-anchor=\"start\" x=\"463\" y=\"-736.8\" font-family=\"Helvetica,sans-Serif\" font-size=\"14.00\" fill=\"#000000\">samples = 120</text>\n<text text-anchor=\"start\" x=\"457\" y=\"-721.8\" font-family=\"Helvetica,sans-Serif\" font-size=\"14.00\" fill=\"#000000\">value = [103, 17]</text>\n<text text-anchor=\"start\" x=\"482\" y=\"-706.8\" font-family=\"Helvetica,sans-Serif\" font-size=\"14.00\" fill=\"#000000\">class = 0</text>\n</g>\n<!-- 7&#45;&gt;8 -->\n<g id=\"edge8\" class=\"edge\">\n<title>7&#45;&gt;8</title>\n<path fill=\"none\" stroke=\"#000000\" d=\"M585.7786,-817.8796C576.988,-808.7832 567.6034,-799.0722 558.5574,-789.7116\"/>\n<polygon fill=\"#000000\" stroke=\"#000000\" points=\"560.8591,-787.0568 551.3931,-782.2981 555.8255,-791.9212 560.8591,-787.0568\"/>\n</g>\n<!-- 23 -->\n<g id=\"node24\" class=\"node\">\n<title>23</title>\n<path fill=\"#f5d0b5\" stroke=\"#000000\" d=\"M851.5,-782C851.5,-782 750.5,-782 750.5,-782 744.5,-782 738.5,-776 738.5,-770 738.5,-770 738.5,-711 738.5,-711 738.5,-705 744.5,-699 750.5,-699 750.5,-699 851.5,-699 851.5,-699 857.5,-699 863.5,-705 863.5,-711 863.5,-711 863.5,-770 863.5,-770 863.5,-776 857.5,-782 851.5,-782\"/>\n<text text-anchor=\"start\" x=\"746.5\" y=\"-766.8\" font-family=\"Helvetica,sans-Serif\" font-size=\"14.00\" fill=\"#000000\">pedigree ≤ 0.563</text>\n<text text-anchor=\"start\" x=\"763\" y=\"-751.8\" font-family=\"Helvetica,sans-Serif\" font-size=\"14.00\" fill=\"#000000\">gini = 0.474</text>\n<text text-anchor=\"start\" x=\"753\" y=\"-736.8\" font-family=\"Helvetica,sans-Serif\" font-size=\"14.00\" fill=\"#000000\">samples = 140</text>\n<text text-anchor=\"start\" x=\"751\" y=\"-721.8\" font-family=\"Helvetica,sans-Serif\" font-size=\"14.00\" fill=\"#000000\">value = [86, 54]</text>\n<text text-anchor=\"start\" x=\"772\" y=\"-706.8\" font-family=\"Helvetica,sans-Serif\" font-size=\"14.00\" fill=\"#000000\">class = 0</text>\n</g>\n<!-- 7&#45;&gt;23 -->\n<g id=\"edge23\" class=\"edge\">\n<title>7&#45;&gt;23</title>\n<path fill=\"none\" stroke=\"#000000\" d=\"M687.2065,-817.8796C701.4606,-808.1868 716.741,-797.7961 731.3307,-787.8752\"/>\n<polygon fill=\"#000000\" stroke=\"#000000\" points=\"733.5269,-790.6143 739.8281,-782.0969 729.5907,-784.8258 733.5269,-790.6143\"/>\n</g>\n<!-- 9 -->\n<g id=\"node10\" class=\"node\">\n<title>9</title>\n<path fill=\"#e6843e\" stroke=\"#000000\" d=\"M363.5,-663C363.5,-663 268.5,-663 268.5,-663 262.5,-663 256.5,-657 256.5,-651 256.5,-651 256.5,-592 256.5,-592 256.5,-586 262.5,-580 268.5,-580 268.5,-580 363.5,-580 363.5,-580 369.5,-580 375.5,-586 375.5,-592 375.5,-592 375.5,-651 375.5,-651 375.5,-657 369.5,-663 363.5,-663\"/>\n<text text-anchor=\"start\" x=\"264.5\" y=\"-647.8\" font-family=\"Helvetica,sans-Serif\" font-size=\"14.00\" fill=\"#000000\">glucose ≤ 113.5</text>\n<text text-anchor=\"start\" x=\"278\" y=\"-632.8\" font-family=\"Helvetica,sans-Serif\" font-size=\"14.00\" fill=\"#000000\">gini = 0.049</text>\n<text text-anchor=\"start\" x=\"272\" y=\"-617.8\" font-family=\"Helvetica,sans-Serif\" font-size=\"14.00\" fill=\"#000000\">samples = 40</text>\n<text text-anchor=\"start\" x=\"270.5\" y=\"-602.8\" font-family=\"Helvetica,sans-Serif\" font-size=\"14.00\" fill=\"#000000\">value = [39, 1]</text>\n<text text-anchor=\"start\" x=\"287\" y=\"-587.8\" font-family=\"Helvetica,sans-Serif\" font-size=\"14.00\" fill=\"#000000\">class = 0</text>\n</g>\n<!-- 8&#45;&gt;9 -->\n<g id=\"edge9\" class=\"edge\">\n<title>8&#45;&gt;9</title>\n<path fill=\"none\" stroke=\"#000000\" d=\"M448.7646,-702.5205C428.1922,-689.966 405.199,-675.9343 384.2038,-663.1218\"/>\n<polygon fill=\"#000000\" stroke=\"#000000\" points=\"386.0104,-660.124 375.6511,-657.9024 382.3639,-666.0993 386.0104,-660.124\"/>\n</g>\n<!-- 12 -->\n<g id=\"node13\" class=\"node\">\n<title>12</title>\n<path fill=\"#eca06a\" stroke=\"#000000\" d=\"M557,-663C557,-663 465,-663 465,-663 459,-663 453,-657 453,-651 453,-651 453,-592 453,-592 453,-586 459,-580 465,-580 465,-580 557,-580 557,-580 563,-580 569,-586 569,-592 569,-592 569,-651 569,-651 569,-657 563,-663 557,-663\"/>\n<text text-anchor=\"start\" x=\"473\" y=\"-647.8\" font-family=\"Helvetica,sans-Serif\" font-size=\"14.00\" fill=\"#000000\">bmi ≤ 30.45</text>\n<text text-anchor=\"start\" x=\"477.5\" y=\"-632.8\" font-family=\"Helvetica,sans-Serif\" font-size=\"14.00\" fill=\"#000000\">gini = 0.32</text>\n<text text-anchor=\"start\" x=\"467\" y=\"-617.8\" font-family=\"Helvetica,sans-Serif\" font-size=\"14.00\" fill=\"#000000\">samples = 80</text>\n<text text-anchor=\"start\" x=\"461\" y=\"-602.8\" font-family=\"Helvetica,sans-Serif\" font-size=\"14.00\" fill=\"#000000\">value = [64, 16]</text>\n<text text-anchor=\"start\" x=\"482\" y=\"-587.8\" font-family=\"Helvetica,sans-Serif\" font-size=\"14.00\" fill=\"#000000\">class = 0</text>\n</g>\n<!-- 8&#45;&gt;12 -->\n<g id=\"edge12\" class=\"edge\">\n<title>8&#45;&gt;12</title>\n<path fill=\"none\" stroke=\"#000000\" d=\"M511,-698.8796C511,-690.6838 511,-681.9891 511,-673.5013\"/>\n<polygon fill=\"#000000\" stroke=\"#000000\" points=\"514.5001,-673.298 511,-663.2981 507.5001,-673.2981 514.5001,-673.298\"/>\n</g>\n<!-- 10 -->\n<g id=\"node11\" class=\"node\">\n<title>10</title>\n<path fill=\"#e58139\" stroke=\"#000000\" d=\"M203.5,-536.5C203.5,-536.5 120.5,-536.5 120.5,-536.5 114.5,-536.5 108.5,-530.5 108.5,-524.5 108.5,-524.5 108.5,-480.5 108.5,-480.5 108.5,-474.5 114.5,-468.5 120.5,-468.5 120.5,-468.5 203.5,-468.5 203.5,-468.5 209.5,-468.5 215.5,-474.5 215.5,-480.5 215.5,-480.5 215.5,-524.5 215.5,-524.5 215.5,-530.5 209.5,-536.5 203.5,-536.5\"/>\n<text text-anchor=\"start\" x=\"132.5\" y=\"-521.3\" font-family=\"Helvetica,sans-Serif\" font-size=\"14.00\" fill=\"#000000\">gini = 0.0</text>\n<text text-anchor=\"start\" x=\"118\" y=\"-506.3\" font-family=\"Helvetica,sans-Serif\" font-size=\"14.00\" fill=\"#000000\">samples = 30</text>\n<text text-anchor=\"start\" x=\"116.5\" y=\"-491.3\" font-family=\"Helvetica,sans-Serif\" font-size=\"14.00\" fill=\"#000000\">value = [30, 0]</text>\n<text text-anchor=\"start\" x=\"133\" y=\"-476.3\" font-family=\"Helvetica,sans-Serif\" font-size=\"14.00\" fill=\"#000000\">class = 0</text>\n</g>\n<!-- 9&#45;&gt;10 -->\n<g id=\"edge10\" class=\"edge\">\n<title>9&#45;&gt;10</title>\n<path fill=\"none\" stroke=\"#000000\" d=\"M262.1383,-579.8796C246.7696,-568.0038 230.0453,-555.0804 214.7441,-543.2568\"/>\n<polygon fill=\"#000000\" stroke=\"#000000\" points=\"216.4605,-540.1599 206.4076,-536.8149 212.1804,-545.699 216.4605,-540.1599\"/>\n</g>\n<!-- 11 -->\n<g id=\"node12\" class=\"node\">\n<title>11</title>\n<path fill=\"#e88f4f\" stroke=\"#000000\" d=\"M326,-536.5C326,-536.5 246,-536.5 246,-536.5 240,-536.5 234,-530.5 234,-524.5 234,-524.5 234,-480.5 234,-480.5 234,-474.5 240,-468.5 246,-468.5 246,-468.5 326,-468.5 326,-468.5 332,-468.5 338,-474.5 338,-480.5 338,-480.5 338,-524.5 338,-524.5 338,-530.5 332,-536.5 326,-536.5\"/>\n<text text-anchor=\"start\" x=\"252.5\" y=\"-521.3\" font-family=\"Helvetica,sans-Serif\" font-size=\"14.00\" fill=\"#000000\">gini = 0.18</text>\n<text text-anchor=\"start\" x=\"242\" y=\"-506.3\" font-family=\"Helvetica,sans-Serif\" font-size=\"14.00\" fill=\"#000000\">samples = 10</text>\n<text text-anchor=\"start\" x=\"244.5\" y=\"-491.3\" font-family=\"Helvetica,sans-Serif\" font-size=\"14.00\" fill=\"#000000\">value = [9, 1]</text>\n<text text-anchor=\"start\" x=\"257\" y=\"-476.3\" font-family=\"Helvetica,sans-Serif\" font-size=\"14.00\" fill=\"#000000\">class = 0</text>\n</g>\n<!-- 9&#45;&gt;11 -->\n<g id=\"edge11\" class=\"edge\">\n<title>9&#45;&gt;11</title>\n<path fill=\"none\" stroke=\"#000000\" d=\"M305.5075,-579.8796C302.7908,-569.1034 299.8566,-557.4647 297.1095,-546.5677\"/>\n<polygon fill=\"#000000\" stroke=\"#000000\" points=\"300.4892,-545.6559 294.6508,-536.8149 293.7016,-547.3672 300.4892,-545.6559\"/>\n</g>\n<!-- 13 -->\n<g id=\"node14\" class=\"node\">\n<title>13</title>\n<path fill=\"#e58139\" stroke=\"#000000\" d=\"M451.5,-536.5C451.5,-536.5 368.5,-536.5 368.5,-536.5 362.5,-536.5 356.5,-530.5 356.5,-524.5 356.5,-524.5 356.5,-480.5 356.5,-480.5 356.5,-474.5 362.5,-468.5 368.5,-468.5 368.5,-468.5 451.5,-468.5 451.5,-468.5 457.5,-468.5 463.5,-474.5 463.5,-480.5 463.5,-480.5 463.5,-524.5 463.5,-524.5 463.5,-530.5 457.5,-536.5 451.5,-536.5\"/>\n<text text-anchor=\"start\" x=\"380.5\" y=\"-521.3\" font-family=\"Helvetica,sans-Serif\" font-size=\"14.00\" fill=\"#000000\">gini = 0.0</text>\n<text text-anchor=\"start\" x=\"366\" y=\"-506.3\" font-family=\"Helvetica,sans-Serif\" font-size=\"14.00\" fill=\"#000000\">samples = 19</text>\n<text text-anchor=\"start\" x=\"364.5\" y=\"-491.3\" font-family=\"Helvetica,sans-Serif\" font-size=\"14.00\" fill=\"#000000\">value = [19, 0]</text>\n<text text-anchor=\"start\" x=\"381\" y=\"-476.3\" font-family=\"Helvetica,sans-Serif\" font-size=\"14.00\" fill=\"#000000\">class = 0</text>\n</g>\n<!-- 12&#45;&gt;13 -->\n<g id=\"edge13\" class=\"edge\">\n<title>12&#45;&gt;13</title>\n<path fill=\"none\" stroke=\"#000000\" d=\"M475.6751,-579.8796C465.969,-568.4436 455.4384,-556.0363 445.7107,-544.575\"/>\n<polygon fill=\"#000000\" stroke=\"#000000\" points=\"448.2638,-542.1743 439.1244,-536.8149 442.9269,-546.7039 448.2638,-542.1743\"/>\n</g>\n<!-- 14 -->\n<g id=\"node15\" class=\"node\">\n<title>14</title>\n<path fill=\"#eeae7f\" stroke=\"#000000\" d=\"M586,-544C586,-544 494,-544 494,-544 488,-544 482,-538 482,-532 482,-532 482,-473 482,-473 482,-467 488,-461 494,-461 494,-461 586,-461 586,-461 592,-461 598,-467 598,-473 598,-473 598,-532 598,-532 598,-538 592,-544 586,-544\"/>\n<text text-anchor=\"start\" x=\"509.5\" y=\"-528.8\" font-family=\"Helvetica,sans-Serif\" font-size=\"14.00\" fill=\"#000000\">bp ≤ 55.0</text>\n<text text-anchor=\"start\" x=\"502\" y=\"-513.8\" font-family=\"Helvetica,sans-Serif\" font-size=\"14.00\" fill=\"#000000\">gini = 0.387</text>\n<text text-anchor=\"start\" x=\"496\" y=\"-498.8\" font-family=\"Helvetica,sans-Serif\" font-size=\"14.00\" fill=\"#000000\">samples = 61</text>\n<text text-anchor=\"start\" x=\"490\" y=\"-483.8\" font-family=\"Helvetica,sans-Serif\" font-size=\"14.00\" fill=\"#000000\">value = [45, 16]</text>\n<text text-anchor=\"start\" x=\"511\" y=\"-468.8\" font-family=\"Helvetica,sans-Serif\" font-size=\"14.00\" fill=\"#000000\">class = 0</text>\n</g>\n<!-- 12&#45;&gt;14 -->\n<g id=\"edge14\" class=\"edge\">\n<title>12&#45;&gt;14</title>\n<path fill=\"none\" stroke=\"#000000\" d=\"M521.1428,-579.8796C523.162,-571.5938 525.3055,-562.798 527.3956,-554.2216\"/>\n<polygon fill=\"#000000\" stroke=\"#000000\" points=\"530.8466,-554.8425 529.8139,-544.2981 524.0457,-553.185 530.8466,-554.8425\"/>\n</g>\n<!-- 15 -->\n<g id=\"node16\" class=\"node\">\n<title>15</title>\n<path fill=\"#ffffff\" stroke=\"#000000\" d=\"M384,-417.5C384,-417.5 304,-417.5 304,-417.5 298,-417.5 292,-411.5 292,-405.5 292,-405.5 292,-361.5 292,-361.5 292,-355.5 298,-349.5 304,-349.5 304,-349.5 384,-349.5 384,-349.5 390,-349.5 396,-355.5 396,-361.5 396,-361.5 396,-405.5 396,-405.5 396,-411.5 390,-417.5 384,-417.5\"/>\n<text text-anchor=\"start\" x=\"314.5\" y=\"-402.3\" font-family=\"Helvetica,sans-Serif\" font-size=\"14.00\" fill=\"#000000\">gini = 0.5</text>\n<text text-anchor=\"start\" x=\"300\" y=\"-387.3\" font-family=\"Helvetica,sans-Serif\" font-size=\"14.00\" fill=\"#000000\">samples = 10</text>\n<text text-anchor=\"start\" x=\"302.5\" y=\"-372.3\" font-family=\"Helvetica,sans-Serif\" font-size=\"14.00\" fill=\"#000000\">value = [5, 5]</text>\n<text text-anchor=\"start\" x=\"315\" y=\"-357.3\" font-family=\"Helvetica,sans-Serif\" font-size=\"14.00\" fill=\"#000000\">class = 0</text>\n</g>\n<!-- 14&#45;&gt;15 -->\n<g id=\"edge15\" class=\"edge\">\n<title>14&#45;&gt;15</title>\n<path fill=\"none\" stroke=\"#000000\" d=\"M481.8867,-466.7456C478.5524,-464.7841 475.2397,-462.8571 472,-461 442.6726,-444.1887 433.9028,-442.5312 405,-425 404.0417,-424.4188 403.0777,-423.8288 402.1094,-423.2313\"/>\n<polygon fill=\"#000000\" stroke=\"#000000\" points=\"403.6464,-420.0626 393.3213,-417.6869 399.9113,-425.9829 403.6464,-420.0626\"/>\n</g>\n<!-- 16 -->\n<g id=\"node17\" class=\"node\">\n<title>16</title>\n<path fill=\"#eca46f\" stroke=\"#000000\" d=\"M527.5,-425C527.5,-425 426.5,-425 426.5,-425 420.5,-425 414.5,-419 414.5,-413 414.5,-413 414.5,-354 414.5,-354 414.5,-348 420.5,-342 426.5,-342 426.5,-342 527.5,-342 527.5,-342 533.5,-342 539.5,-348 539.5,-354 539.5,-354 539.5,-413 539.5,-413 539.5,-419 533.5,-425 527.5,-425\"/>\n<text text-anchor=\"start\" x=\"422.5\" y=\"-409.8\" font-family=\"Helvetica,sans-Serif\" font-size=\"14.00\" fill=\"#000000\">pedigree ≤ 0.695</text>\n<text text-anchor=\"start\" x=\"439\" y=\"-394.8\" font-family=\"Helvetica,sans-Serif\" font-size=\"14.00\" fill=\"#000000\">gini = 0.338</text>\n<text text-anchor=\"start\" x=\"433\" y=\"-379.8\" font-family=\"Helvetica,sans-Serif\" font-size=\"14.00\" fill=\"#000000\">samples = 51</text>\n<text text-anchor=\"start\" x=\"427\" y=\"-364.8\" font-family=\"Helvetica,sans-Serif\" font-size=\"14.00\" fill=\"#000000\">value = [40, 11]</text>\n<text text-anchor=\"start\" x=\"448\" y=\"-349.8\" font-family=\"Helvetica,sans-Serif\" font-size=\"14.00\" fill=\"#000000\">class = 0</text>\n</g>\n<!-- 14&#45;&gt;16 -->\n<g id=\"edge16\" class=\"edge\">\n<title>14&#45;&gt;16</title>\n<path fill=\"none\" stroke=\"#000000\" d=\"M517.9657,-460.8796C513.436,-452.3236 508.6185,-443.2238 503.9382,-434.3833\"/>\n<polygon fill=\"#000000\" stroke=\"#000000\" points=\"506.9006,-432.4983 499.1284,-425.2981 500.7141,-435.7736 506.9006,-432.4983\"/>\n</g>\n<!-- 17 -->\n<g id=\"node18\" class=\"node\">\n<title>17</title>\n<path fill=\"#ea9b62\" stroke=\"#000000\" d=\"M397.5,-306C397.5,-306 314.5,-306 314.5,-306 308.5,-306 302.5,-300 302.5,-294 302.5,-294 302.5,-235 302.5,-235 302.5,-229 308.5,-223 314.5,-223 314.5,-223 397.5,-223 397.5,-223 403.5,-223 409.5,-229 409.5,-235 409.5,-235 409.5,-294 409.5,-294 409.5,-300 403.5,-306 397.5,-306\"/>\n<text text-anchor=\"start\" x=\"322.5\" y=\"-290.8\" font-family=\"Helvetica,sans-Serif\" font-size=\"14.00\" fill=\"#000000\">bmi ≤ 37.1</text>\n<text text-anchor=\"start\" x=\"318\" y=\"-275.8\" font-family=\"Helvetica,sans-Serif\" font-size=\"14.00\" fill=\"#000000\">gini = 0.283</text>\n<text text-anchor=\"start\" x=\"312\" y=\"-260.8\" font-family=\"Helvetica,sans-Serif\" font-size=\"14.00\" fill=\"#000000\">samples = 41</text>\n<text text-anchor=\"start\" x=\"310.5\" y=\"-245.8\" font-family=\"Helvetica,sans-Serif\" font-size=\"14.00\" fill=\"#000000\">value = [34, 7]</text>\n<text text-anchor=\"start\" x=\"327\" y=\"-230.8\" font-family=\"Helvetica,sans-Serif\" font-size=\"14.00\" fill=\"#000000\">class = 0</text>\n</g>\n<!-- 16&#45;&gt;17 -->\n<g id=\"edge17\" class=\"edge\">\n<title>16&#45;&gt;17</title>\n<path fill=\"none\" stroke=\"#000000\" d=\"M434.6801,-341.8796C425.3392,-332.6931 415.361,-322.8798 405.756,-313.4336\"/>\n<polygon fill=\"#000000\" stroke=\"#000000\" points=\"408.0845,-310.8146 398.5006,-306.2981 403.1762,-315.8054 408.0845,-310.8146\"/>\n</g>\n<!-- 22 -->\n<g id=\"node23\" class=\"node\">\n<title>22</title>\n<path fill=\"#f6d5bd\" stroke=\"#000000\" d=\"M520,-298.5C520,-298.5 440,-298.5 440,-298.5 434,-298.5 428,-292.5 428,-286.5 428,-286.5 428,-242.5 428,-242.5 428,-236.5 434,-230.5 440,-230.5 440,-230.5 520,-230.5 520,-230.5 526,-230.5 532,-236.5 532,-242.5 532,-242.5 532,-286.5 532,-286.5 532,-292.5 526,-298.5 520,-298.5\"/>\n<text text-anchor=\"start\" x=\"446.5\" y=\"-283.3\" font-family=\"Helvetica,sans-Serif\" font-size=\"14.00\" fill=\"#000000\">gini = 0.48</text>\n<text text-anchor=\"start\" x=\"436\" y=\"-268.3\" font-family=\"Helvetica,sans-Serif\" font-size=\"14.00\" fill=\"#000000\">samples = 10</text>\n<text text-anchor=\"start\" x=\"438.5\" y=\"-253.3\" font-family=\"Helvetica,sans-Serif\" font-size=\"14.00\" fill=\"#000000\">value = [6, 4]</text>\n<text text-anchor=\"start\" x=\"451\" y=\"-238.3\" font-family=\"Helvetica,sans-Serif\" font-size=\"14.00\" fill=\"#000000\">class = 0</text>\n</g>\n<!-- 16&#45;&gt;22 -->\n<g id=\"edge22\" class=\"edge\">\n<title>16&#45;&gt;22</title>\n<path fill=\"none\" stroke=\"#000000\" d=\"M478.0493,-341.8796C478.3182,-331.2134 478.6084,-319.7021 478.8806,-308.9015\"/>\n<polygon fill=\"#000000\" stroke=\"#000000\" points=\"482.3817,-308.9 479.1349,-298.8149 475.3839,-308.7235 482.3817,-308.9\"/>\n</g>\n<!-- 18 -->\n<g id=\"node19\" class=\"node\">\n<title>18</title>\n<path fill=\"#e78c4a\" stroke=\"#000000\" d=\"M335.5,-187C335.5,-187 252.5,-187 252.5,-187 246.5,-187 240.5,-181 240.5,-175 240.5,-175 240.5,-116 240.5,-116 240.5,-110 246.5,-104 252.5,-104 252.5,-104 335.5,-104 335.5,-104 341.5,-104 347.5,-110 347.5,-116 347.5,-116 347.5,-175 347.5,-175 347.5,-181 341.5,-187 335.5,-187\"/>\n<text text-anchor=\"start\" x=\"260.5\" y=\"-171.8\" font-family=\"Helvetica,sans-Serif\" font-size=\"14.00\" fill=\"#000000\">bmi ≤ 33.7</text>\n<text text-anchor=\"start\" x=\"256\" y=\"-156.8\" font-family=\"Helvetica,sans-Serif\" font-size=\"14.00\" fill=\"#000000\">gini = 0.147</text>\n<text text-anchor=\"start\" x=\"250\" y=\"-141.8\" font-family=\"Helvetica,sans-Serif\" font-size=\"14.00\" fill=\"#000000\">samples = 25</text>\n<text text-anchor=\"start\" x=\"248.5\" y=\"-126.8\" font-family=\"Helvetica,sans-Serif\" font-size=\"14.00\" fill=\"#000000\">value = [23, 2]</text>\n<text text-anchor=\"start\" x=\"265\" y=\"-111.8\" font-family=\"Helvetica,sans-Serif\" font-size=\"14.00\" fill=\"#000000\">class = 0</text>\n</g>\n<!-- 17&#45;&gt;18 -->\n<g id=\"edge18\" class=\"edge\">\n<title>17&#45;&gt;18</title>\n<path fill=\"none\" stroke=\"#000000\" d=\"M334.3154,-222.8796C329.8577,-214.3236 325.1166,-205.2238 320.5106,-196.3833\"/>\n<polygon fill=\"#000000\" stroke=\"#000000\" points=\"323.5017,-194.5494 315.7771,-187.2981 317.2938,-197.7838 323.5017,-194.5494\"/>\n</g>\n<!-- 21 -->\n<g id=\"node22\" class=\"node\">\n<title>21</title>\n<path fill=\"#f1ba93\" stroke=\"#000000\" d=\"M460.5,-179.5C460.5,-179.5 377.5,-179.5 377.5,-179.5 371.5,-179.5 365.5,-173.5 365.5,-167.5 365.5,-167.5 365.5,-123.5 365.5,-123.5 365.5,-117.5 371.5,-111.5 377.5,-111.5 377.5,-111.5 460.5,-111.5 460.5,-111.5 466.5,-111.5 472.5,-117.5 472.5,-123.5 472.5,-123.5 472.5,-167.5 472.5,-167.5 472.5,-173.5 466.5,-179.5 460.5,-179.5\"/>\n<text text-anchor=\"start\" x=\"385.5\" y=\"-164.3\" font-family=\"Helvetica,sans-Serif\" font-size=\"14.00\" fill=\"#000000\">gini = 0.43</text>\n<text text-anchor=\"start\" x=\"375\" y=\"-149.3\" font-family=\"Helvetica,sans-Serif\" font-size=\"14.00\" fill=\"#000000\">samples = 16</text>\n<text text-anchor=\"start\" x=\"373.5\" y=\"-134.3\" font-family=\"Helvetica,sans-Serif\" font-size=\"14.00\" fill=\"#000000\">value = [11, 5]</text>\n<text text-anchor=\"start\" x=\"390\" y=\"-119.3\" font-family=\"Helvetica,sans-Serif\" font-size=\"14.00\" fill=\"#000000\">class = 0</text>\n</g>\n<!-- 17&#45;&gt;21 -->\n<g id=\"edge21\" class=\"edge\">\n<title>17&#45;&gt;21</title>\n<path fill=\"none\" stroke=\"#000000\" d=\"M378.0343,-222.8796C383.8558,-211.8835 390.1527,-199.9893 396.0227,-188.9015\"/>\n<polygon fill=\"#000000\" stroke=\"#000000\" points=\"399.2476,-190.2905 400.8333,-179.8149 393.0611,-187.0152 399.2476,-190.2905\"/>\n</g>\n<!-- 19 -->\n<g id=\"node20\" class=\"node\">\n<title>19</title>\n<path fill=\"#eca06a\" stroke=\"#000000\" d=\"M272,-68C272,-68 192,-68 192,-68 186,-68 180,-62 180,-56 180,-56 180,-12 180,-12 180,-6 186,0 192,0 192,0 272,0 272,0 278,0 284,-6 284,-12 284,-12 284,-56 284,-56 284,-62 278,-68 272,-68\"/>\n<text text-anchor=\"start\" x=\"198.5\" y=\"-52.8\" font-family=\"Helvetica,sans-Serif\" font-size=\"14.00\" fill=\"#000000\">gini = 0.32</text>\n<text text-anchor=\"start\" x=\"188\" y=\"-37.8\" font-family=\"Helvetica,sans-Serif\" font-size=\"14.00\" fill=\"#000000\">samples = 10</text>\n<text text-anchor=\"start\" x=\"190.5\" y=\"-22.8\" font-family=\"Helvetica,sans-Serif\" font-size=\"14.00\" fill=\"#000000\">value = [8, 2]</text>\n<text text-anchor=\"start\" x=\"203\" y=\"-7.8\" font-family=\"Helvetica,sans-Serif\" font-size=\"14.00\" fill=\"#000000\">class = 0</text>\n</g>\n<!-- 18&#45;&gt;19 -->\n<g id=\"edge19\" class=\"edge\">\n<title>18&#45;&gt;19</title>\n<path fill=\"none\" stroke=\"#000000\" d=\"M270.9135,-103.9815C266.0585,-95.2504 260.926,-86.0202 256.0371,-77.2281\"/>\n<polygon fill=\"#000000\" stroke=\"#000000\" points=\"258.9712,-75.3025 251.0524,-68.2637 252.8533,-78.7043 258.9712,-75.3025\"/>\n</g>\n<!-- 20 -->\n<g id=\"node21\" class=\"node\">\n<title>20</title>\n<path fill=\"#e58139\" stroke=\"#000000\" d=\"M397.5,-68C397.5,-68 314.5,-68 314.5,-68 308.5,-68 302.5,-62 302.5,-56 302.5,-56 302.5,-12 302.5,-12 302.5,-6 308.5,0 314.5,0 314.5,0 397.5,0 397.5,0 403.5,0 409.5,-6 409.5,-12 409.5,-12 409.5,-56 409.5,-56 409.5,-62 403.5,-68 397.5,-68\"/>\n<text text-anchor=\"start\" x=\"326.5\" y=\"-52.8\" font-family=\"Helvetica,sans-Serif\" font-size=\"14.00\" fill=\"#000000\">gini = 0.0</text>\n<text text-anchor=\"start\" x=\"312\" y=\"-37.8\" font-family=\"Helvetica,sans-Serif\" font-size=\"14.00\" fill=\"#000000\">samples = 15</text>\n<text text-anchor=\"start\" x=\"310.5\" y=\"-22.8\" font-family=\"Helvetica,sans-Serif\" font-size=\"14.00\" fill=\"#000000\">value = [15, 0]</text>\n<text text-anchor=\"start\" x=\"327\" y=\"-7.8\" font-family=\"Helvetica,sans-Serif\" font-size=\"14.00\" fill=\"#000000\">class = 0</text>\n</g>\n<!-- 18&#45;&gt;20 -->\n<g id=\"edge20\" class=\"edge\">\n<title>18&#45;&gt;20</title>\n<path fill=\"none\" stroke=\"#000000\" d=\"M317.0865,-103.9815C321.9415,-95.2504 327.074,-86.0202 331.9629,-77.2281\"/>\n<polygon fill=\"#000000\" stroke=\"#000000\" points=\"335.1467,-78.7043 336.9476,-68.2637 329.0288,-75.3025 335.1467,-78.7043\"/>\n</g>\n<!-- 24 -->\n<g id=\"node25\" class=\"node\">\n<title>24</title>\n<path fill=\"#efb388\" stroke=\"#000000\" d=\"M848.5,-663C848.5,-663 753.5,-663 753.5,-663 747.5,-663 741.5,-657 741.5,-651 741.5,-651 741.5,-592 741.5,-592 741.5,-586 747.5,-580 753.5,-580 753.5,-580 848.5,-580 848.5,-580 854.5,-580 860.5,-586 860.5,-592 860.5,-592 860.5,-651 860.5,-651 860.5,-657 854.5,-663 848.5,-663\"/>\n<text text-anchor=\"start\" x=\"749.5\" y=\"-647.8\" font-family=\"Helvetica,sans-Serif\" font-size=\"14.00\" fill=\"#000000\">glucose ≤ 101.5</text>\n<text text-anchor=\"start\" x=\"763\" y=\"-632.8\" font-family=\"Helvetica,sans-Serif\" font-size=\"14.00\" fill=\"#000000\">gini = 0.408</text>\n<text text-anchor=\"start\" x=\"757\" y=\"-617.8\" font-family=\"Helvetica,sans-Serif\" font-size=\"14.00\" fill=\"#000000\">samples = 98</text>\n<text text-anchor=\"start\" x=\"751\" y=\"-602.8\" font-family=\"Helvetica,sans-Serif\" font-size=\"14.00\" fill=\"#000000\">value = [70, 28]</text>\n<text text-anchor=\"start\" x=\"772\" y=\"-587.8\" font-family=\"Helvetica,sans-Serif\" font-size=\"14.00\" fill=\"#000000\">class = 0</text>\n</g>\n<!-- 23&#45;&gt;24 -->\n<g id=\"edge24\" class=\"edge\">\n<title>23&#45;&gt;24</title>\n<path fill=\"none\" stroke=\"#000000\" d=\"M801,-698.8796C801,-690.6838 801,-681.9891 801,-673.5013\"/>\n<polygon fill=\"#000000\" stroke=\"#000000\" points=\"804.5001,-673.298 801,-663.2981 797.5001,-673.2981 804.5001,-673.298\"/>\n</g>\n<!-- 39 -->\n<g id=\"node40\" class=\"node\">\n<title>39</title>\n<path fill=\"#b3d9f5\" stroke=\"#000000\" d=\"M1169,-663C1169,-663 1077,-663 1077,-663 1071,-663 1065,-657 1065,-651 1065,-651 1065,-592 1065,-592 1065,-586 1071,-580 1077,-580 1077,-580 1169,-580 1169,-580 1175,-580 1181,-586 1181,-592 1181,-592 1181,-651 1181,-651 1181,-657 1175,-663 1169,-663\"/>\n<text text-anchor=\"start\" x=\"1076\" y=\"-647.8\" font-family=\"Helvetica,sans-Serif\" font-size=\"14.00\" fill=\"#000000\">pregnant ≤ 6.5</text>\n<text text-anchor=\"start\" x=\"1085\" y=\"-632.8\" font-family=\"Helvetica,sans-Serif\" font-size=\"14.00\" fill=\"#000000\">gini = 0.472</text>\n<text text-anchor=\"start\" x=\"1079\" y=\"-617.8\" font-family=\"Helvetica,sans-Serif\" font-size=\"14.00\" fill=\"#000000\">samples = 42</text>\n<text text-anchor=\"start\" x=\"1073\" y=\"-602.8\" font-family=\"Helvetica,sans-Serif\" font-size=\"14.00\" fill=\"#000000\">value = [16, 26]</text>\n<text text-anchor=\"start\" x=\"1094\" y=\"-587.8\" font-family=\"Helvetica,sans-Serif\" font-size=\"14.00\" fill=\"#000000\">class = 1</text>\n</g>\n<!-- 23&#45;&gt;39 -->\n<g id=\"edge39\" class=\"edge\">\n<title>23&#45;&gt;39</title>\n<path fill=\"none\" stroke=\"#000000\" d=\"M863.8492,-717.2731C918.9542,-696.9082 998.8655,-667.3758 1055.3528,-646.5001\"/>\n<polygon fill=\"#000000\" stroke=\"#000000\" points=\"1056.7452,-649.7169 1064.9118,-642.9674 1054.3186,-643.151 1056.7452,-649.7169\"/>\n</g>\n<!-- 25 -->\n<g id=\"node26\" class=\"node\">\n<title>25</title>\n<path fill=\"#e89253\" stroke=\"#000000\" d=\"M777.5,-544C777.5,-544 694.5,-544 694.5,-544 688.5,-544 682.5,-538 682.5,-532 682.5,-532 682.5,-473 682.5,-473 682.5,-467 688.5,-461 694.5,-461 694.5,-461 777.5,-461 777.5,-461 783.5,-461 789.5,-467 789.5,-473 789.5,-473 789.5,-532 789.5,-532 789.5,-538 783.5,-544 777.5,-544\"/>\n<text text-anchor=\"start\" x=\"701.5\" y=\"-528.8\" font-family=\"Helvetica,sans-Serif\" font-size=\"14.00\" fill=\"#000000\">age ≤ 42.5</text>\n<text text-anchor=\"start\" x=\"698\" y=\"-513.8\" font-family=\"Helvetica,sans-Serif\" font-size=\"14.00\" fill=\"#000000\">gini = 0.208</text>\n<text text-anchor=\"start\" x=\"692\" y=\"-498.8\" font-family=\"Helvetica,sans-Serif\" font-size=\"14.00\" fill=\"#000000\">samples = 34</text>\n<text text-anchor=\"start\" x=\"690.5\" y=\"-483.8\" font-family=\"Helvetica,sans-Serif\" font-size=\"14.00\" fill=\"#000000\">value = [30, 4]</text>\n<text text-anchor=\"start\" x=\"707\" y=\"-468.8\" font-family=\"Helvetica,sans-Serif\" font-size=\"14.00\" fill=\"#000000\">class = 0</text>\n</g>\n<!-- 24&#45;&gt;25 -->\n<g id=\"edge25\" class=\"edge\">\n<title>24&#45;&gt;25</title>\n<path fill=\"none\" stroke=\"#000000\" d=\"M778.2662,-579.8796C773.5435,-571.2335 768.5176,-562.0322 763.641,-553.1042\"/>\n<polygon fill=\"#000000\" stroke=\"#000000\" points=\"766.6963,-551.3964 758.8309,-544.2981 760.553,-554.752 766.6963,-551.3964\"/>\n</g>\n<!-- 30 -->\n<g id=\"node31\" class=\"node\">\n<title>30</title>\n<path fill=\"#f5cdb0\" stroke=\"#000000\" d=\"M912,-544C912,-544 820,-544 820,-544 814,-544 808,-538 808,-532 808,-532 808,-473 808,-473 808,-467 814,-461 820,-461 820,-461 912,-461 912,-461 918,-461 924,-467 924,-473 924,-473 924,-532 924,-532 924,-538 918,-544 912,-544\"/>\n<text text-anchor=\"start\" x=\"835.5\" y=\"-528.8\" font-family=\"Helvetica,sans-Serif\" font-size=\"14.00\" fill=\"#000000\">bp ≤ 67.0</text>\n<text text-anchor=\"start\" x=\"828\" y=\"-513.8\" font-family=\"Helvetica,sans-Serif\" font-size=\"14.00\" fill=\"#000000\">gini = 0.469</text>\n<text text-anchor=\"start\" x=\"822\" y=\"-498.8\" font-family=\"Helvetica,sans-Serif\" font-size=\"14.00\" fill=\"#000000\">samples = 64</text>\n<text text-anchor=\"start\" x=\"816\" y=\"-483.8\" font-family=\"Helvetica,sans-Serif\" font-size=\"14.00\" fill=\"#000000\">value = [40, 24]</text>\n<text text-anchor=\"start\" x=\"837\" y=\"-468.8\" font-family=\"Helvetica,sans-Serif\" font-size=\"14.00\" fill=\"#000000\">class = 0</text>\n</g>\n<!-- 24&#45;&gt;30 -->\n<g id=\"edge30\" class=\"edge\">\n<title>24&#45;&gt;30</title>\n<path fill=\"none\" stroke=\"#000000\" d=\"M823.7338,-579.8796C828.4565,-571.2335 833.4824,-562.0322 838.359,-553.1042\"/>\n<polygon fill=\"#000000\" stroke=\"#000000\" points=\"841.447,-554.752 843.1691,-544.2981 835.3037,-551.3964 841.447,-554.752\"/>\n</g>\n<!-- 26 -->\n<g id=\"node27\" class=\"node\">\n<title>26</title>\n<path fill=\"#e68642\" stroke=\"#000000\" d=\"M656.5,-425C656.5,-425 569.5,-425 569.5,-425 563.5,-425 557.5,-419 557.5,-413 557.5,-413 557.5,-354 557.5,-354 557.5,-348 563.5,-342 569.5,-342 569.5,-342 656.5,-342 656.5,-342 662.5,-342 668.5,-348 668.5,-354 668.5,-354 668.5,-413 668.5,-413 668.5,-419 662.5,-425 656.5,-425\"/>\n<text text-anchor=\"start\" x=\"565.5\" y=\"-409.8\" font-family=\"Helvetica,sans-Serif\" font-size=\"14.00\" fill=\"#000000\">glucose ≤ 88.5</text>\n<text text-anchor=\"start\" x=\"579.5\" y=\"-394.8\" font-family=\"Helvetica,sans-Serif\" font-size=\"14.00\" fill=\"#000000\">gini = 0.08</text>\n<text text-anchor=\"start\" x=\"569\" y=\"-379.8\" font-family=\"Helvetica,sans-Serif\" font-size=\"14.00\" fill=\"#000000\">samples = 24</text>\n<text text-anchor=\"start\" x=\"567.5\" y=\"-364.8\" font-family=\"Helvetica,sans-Serif\" font-size=\"14.00\" fill=\"#000000\">value = [23, 1]</text>\n<text text-anchor=\"start\" x=\"584\" y=\"-349.8\" font-family=\"Helvetica,sans-Serif\" font-size=\"14.00\" fill=\"#000000\">class = 0</text>\n</g>\n<!-- 25&#45;&gt;26 -->\n<g id=\"edge26\" class=\"edge\">\n<title>25&#45;&gt;26</title>\n<path fill=\"none\" stroke=\"#000000\" d=\"M692.9806,-460.8796C683.4853,-451.6931 673.3422,-441.8798 663.5785,-432.4336\"/>\n<polygon fill=\"#000000\" stroke=\"#000000\" points=\"665.8237,-429.7359 656.203,-425.2981 660.9564,-434.7668 665.8237,-429.7359\"/>\n</g>\n<!-- 29 -->\n<g id=\"node30\" class=\"node\">\n<title>29</title>\n<path fill=\"#f0b78e\" stroke=\"#000000\" d=\"M779,-417.5C779,-417.5 699,-417.5 699,-417.5 693,-417.5 687,-411.5 687,-405.5 687,-405.5 687,-361.5 687,-361.5 687,-355.5 693,-349.5 699,-349.5 699,-349.5 779,-349.5 779,-349.5 785,-349.5 791,-355.5 791,-361.5 791,-361.5 791,-405.5 791,-405.5 791,-411.5 785,-417.5 779,-417.5\"/>\n<text text-anchor=\"start\" x=\"705.5\" y=\"-402.3\" font-family=\"Helvetica,sans-Serif\" font-size=\"14.00\" fill=\"#000000\">gini = 0.42</text>\n<text text-anchor=\"start\" x=\"695\" y=\"-387.3\" font-family=\"Helvetica,sans-Serif\" font-size=\"14.00\" fill=\"#000000\">samples = 10</text>\n<text text-anchor=\"start\" x=\"697.5\" y=\"-372.3\" font-family=\"Helvetica,sans-Serif\" font-size=\"14.00\" fill=\"#000000\">value = [7, 3]</text>\n<text text-anchor=\"start\" x=\"710\" y=\"-357.3\" font-family=\"Helvetica,sans-Serif\" font-size=\"14.00\" fill=\"#000000\">class = 0</text>\n</g>\n<!-- 25&#45;&gt;29 -->\n<g id=\"edge29\" class=\"edge\">\n<title>25&#45;&gt;29</title>\n<path fill=\"none\" stroke=\"#000000\" d=\"M737.0493,-460.8796C737.3182,-450.2134 737.6084,-438.7021 737.8806,-427.9015\"/>\n<polygon fill=\"#000000\" stroke=\"#000000\" points=\"741.3817,-427.9 738.1349,-417.8149 734.3839,-427.7235 741.3817,-427.9\"/>\n</g>\n<!-- 27 -->\n<g id=\"node28\" class=\"node\">\n<title>27</title>\n<path fill=\"#e58139\" stroke=\"#000000\" d=\"M648.5,-298.5C648.5,-298.5 565.5,-298.5 565.5,-298.5 559.5,-298.5 553.5,-292.5 553.5,-286.5 553.5,-286.5 553.5,-242.5 553.5,-242.5 553.5,-236.5 559.5,-230.5 565.5,-230.5 565.5,-230.5 648.5,-230.5 648.5,-230.5 654.5,-230.5 660.5,-236.5 660.5,-242.5 660.5,-242.5 660.5,-286.5 660.5,-286.5 660.5,-292.5 654.5,-298.5 648.5,-298.5\"/>\n<text text-anchor=\"start\" x=\"577.5\" y=\"-283.3\" font-family=\"Helvetica,sans-Serif\" font-size=\"14.00\" fill=\"#000000\">gini = 0.0</text>\n<text text-anchor=\"start\" x=\"563\" y=\"-268.3\" font-family=\"Helvetica,sans-Serif\" font-size=\"14.00\" fill=\"#000000\">samples = 14</text>\n<text text-anchor=\"start\" x=\"561.5\" y=\"-253.3\" font-family=\"Helvetica,sans-Serif\" font-size=\"14.00\" fill=\"#000000\">value = [14, 0]</text>\n<text text-anchor=\"start\" x=\"578\" y=\"-238.3\" font-family=\"Helvetica,sans-Serif\" font-size=\"14.00\" fill=\"#000000\">class = 0</text>\n</g>\n<!-- 26&#45;&gt;27 -->\n<g id=\"edge27\" class=\"edge\">\n<title>26&#45;&gt;27</title>\n<path fill=\"none\" stroke=\"#000000\" d=\"M610.9015,-341.8796C610.3637,-331.2134 609.7833,-319.7021 609.2387,-308.9015\"/>\n<polygon fill=\"#000000\" stroke=\"#000000\" points=\"612.7294,-308.626 608.7302,-298.8149 605.7383,-308.9785 612.7294,-308.626\"/>\n</g>\n<!-- 28 -->\n<g id=\"node29\" class=\"node\">\n<title>28</title>\n<path fill=\"#e88f4f\" stroke=\"#000000\" d=\"M771,-298.5C771,-298.5 691,-298.5 691,-298.5 685,-298.5 679,-292.5 679,-286.5 679,-286.5 679,-242.5 679,-242.5 679,-236.5 685,-230.5 691,-230.5 691,-230.5 771,-230.5 771,-230.5 777,-230.5 783,-236.5 783,-242.5 783,-242.5 783,-286.5 783,-286.5 783,-292.5 777,-298.5 771,-298.5\"/>\n<text text-anchor=\"start\" x=\"697.5\" y=\"-283.3\" font-family=\"Helvetica,sans-Serif\" font-size=\"14.00\" fill=\"#000000\">gini = 0.18</text>\n<text text-anchor=\"start\" x=\"687\" y=\"-268.3\" font-family=\"Helvetica,sans-Serif\" font-size=\"14.00\" fill=\"#000000\">samples = 10</text>\n<text text-anchor=\"start\" x=\"689.5\" y=\"-253.3\" font-family=\"Helvetica,sans-Serif\" font-size=\"14.00\" fill=\"#000000\">value = [9, 1]</text>\n<text text-anchor=\"start\" x=\"702\" y=\"-238.3\" font-family=\"Helvetica,sans-Serif\" font-size=\"14.00\" fill=\"#000000\">class = 0</text>\n</g>\n<!-- 26&#45;&gt;28 -->\n<g id=\"edge28\" class=\"edge\">\n<title>26&#45;&gt;28</title>\n<path fill=\"none\" stroke=\"#000000\" d=\"M654.2707,-341.8796C665.7195,-330.3337 678.1503,-317.7976 689.6062,-306.2446\"/>\n<polygon fill=\"#000000\" stroke=\"#000000\" points=\"692.4175,-308.3802 696.9734,-298.8149 687.4469,-303.4514 692.4175,-308.3802\"/>\n</g>\n<!-- 31 -->\n<g id=\"node32\" class=\"node\">\n<title>31</title>\n<path fill=\"#acd6f4\" stroke=\"#000000\" d=\"M904.5,-417.5C904.5,-417.5 821.5,-417.5 821.5,-417.5 815.5,-417.5 809.5,-411.5 809.5,-405.5 809.5,-405.5 809.5,-361.5 809.5,-361.5 809.5,-355.5 815.5,-349.5 821.5,-349.5 821.5,-349.5 904.5,-349.5 904.5,-349.5 910.5,-349.5 916.5,-355.5 916.5,-361.5 916.5,-361.5 916.5,-405.5 916.5,-405.5 916.5,-411.5 910.5,-417.5 904.5,-417.5\"/>\n<text text-anchor=\"start\" x=\"825\" y=\"-402.3\" font-family=\"Helvetica,sans-Serif\" font-size=\"14.00\" fill=\"#000000\">gini = 0.465</text>\n<text text-anchor=\"start\" x=\"819\" y=\"-387.3\" font-family=\"Helvetica,sans-Serif\" font-size=\"14.00\" fill=\"#000000\">samples = 19</text>\n<text text-anchor=\"start\" x=\"817.5\" y=\"-372.3\" font-family=\"Helvetica,sans-Serif\" font-size=\"14.00\" fill=\"#000000\">value = [7, 12]</text>\n<text text-anchor=\"start\" x=\"834\" y=\"-357.3\" font-family=\"Helvetica,sans-Serif\" font-size=\"14.00\" fill=\"#000000\">class = 1</text>\n</g>\n<!-- 30&#45;&gt;31 -->\n<g id=\"edge31\" class=\"edge\">\n<title>30&#45;&gt;31</title>\n<path fill=\"none\" stroke=\"#000000\" d=\"M864.9507,-460.8796C864.6818,-450.2134 864.3916,-438.7021 864.1194,-427.9015\"/>\n<polygon fill=\"#000000\" stroke=\"#000000\" points=\"867.6161,-427.7235 863.8651,-417.8149 860.6183,-427.9 867.6161,-427.7235\"/>\n</g>\n<!-- 32 -->\n<g id=\"node33\" class=\"node\">\n<title>32</title>\n<path fill=\"#eeaf81\" stroke=\"#000000\" d=\"M1039,-425C1039,-425 947,-425 947,-425 941,-425 935,-419 935,-413 935,-413 935,-354 935,-354 935,-348 941,-342 947,-342 947,-342 1039,-342 1039,-342 1045,-342 1051,-348 1051,-354 1051,-354 1051,-413 1051,-413 1051,-419 1045,-425 1039,-425\"/>\n<text text-anchor=\"start\" x=\"946\" y=\"-409.8\" font-family=\"Helvetica,sans-Serif\" font-size=\"14.00\" fill=\"#000000\">pregnant ≤ 2.5</text>\n<text text-anchor=\"start\" x=\"955\" y=\"-394.8\" font-family=\"Helvetica,sans-Serif\" font-size=\"14.00\" fill=\"#000000\">gini = 0.391</text>\n<text text-anchor=\"start\" x=\"949\" y=\"-379.8\" font-family=\"Helvetica,sans-Serif\" font-size=\"14.00\" fill=\"#000000\">samples = 45</text>\n<text text-anchor=\"start\" x=\"943\" y=\"-364.8\" font-family=\"Helvetica,sans-Serif\" font-size=\"14.00\" fill=\"#000000\">value = [33, 12]</text>\n<text text-anchor=\"start\" x=\"964\" y=\"-349.8\" font-family=\"Helvetica,sans-Serif\" font-size=\"14.00\" fill=\"#000000\">class = 0</text>\n</g>\n<!-- 30&#45;&gt;32 -->\n<g id=\"edge32\" class=\"edge\">\n<title>30&#45;&gt;32</title>\n<path fill=\"none\" stroke=\"#000000\" d=\"M910.4184,-460.8796C920.3186,-451.6031 930.9009,-441.6874 941.0731,-432.1559\"/>\n<polygon fill=\"#000000\" stroke=\"#000000\" points=\"943.4879,-434.6896 948.392,-425.2981 938.7016,-429.5816 943.4879,-434.6896\"/>\n</g>\n<!-- 33 -->\n<g id=\"node34\" class=\"node\">\n<title>33</title>\n<path fill=\"#ffffff\" stroke=\"#000000\" d=\"M966,-298.5C966,-298.5 886,-298.5 886,-298.5 880,-298.5 874,-292.5 874,-286.5 874,-286.5 874,-242.5 874,-242.5 874,-236.5 880,-230.5 886,-230.5 886,-230.5 966,-230.5 966,-230.5 972,-230.5 978,-236.5 978,-242.5 978,-242.5 978,-286.5 978,-286.5 978,-292.5 972,-298.5 966,-298.5\"/>\n<text text-anchor=\"start\" x=\"896.5\" y=\"-283.3\" font-family=\"Helvetica,sans-Serif\" font-size=\"14.00\" fill=\"#000000\">gini = 0.5</text>\n<text text-anchor=\"start\" x=\"882\" y=\"-268.3\" font-family=\"Helvetica,sans-Serif\" font-size=\"14.00\" fill=\"#000000\">samples = 10</text>\n<text text-anchor=\"start\" x=\"884.5\" y=\"-253.3\" font-family=\"Helvetica,sans-Serif\" font-size=\"14.00\" fill=\"#000000\">value = [5, 5]</text>\n<text text-anchor=\"start\" x=\"897\" y=\"-238.3\" font-family=\"Helvetica,sans-Serif\" font-size=\"14.00\" fill=\"#000000\">class = 0</text>\n</g>\n<!-- 32&#45;&gt;33 -->\n<g id=\"edge33\" class=\"edge\">\n<title>32&#45;&gt;33</title>\n<path fill=\"none\" stroke=\"#000000\" d=\"M969.5667,-341.8796C963.3137,-330.7735 956.5448,-318.7513 950.249,-307.5691\"/>\n<polygon fill=\"#000000\" stroke=\"#000000\" points=\"953.2761,-305.8116 945.3202,-298.8149 947.1765,-309.2459 953.2761,-305.8116\"/>\n</g>\n<!-- 34 -->\n<g id=\"node35\" class=\"node\">\n<title>34</title>\n<path fill=\"#eca06a\" stroke=\"#000000\" d=\"M1109.5,-306C1109.5,-306 1008.5,-306 1008.5,-306 1002.5,-306 996.5,-300 996.5,-294 996.5,-294 996.5,-235 996.5,-235 996.5,-229 1002.5,-223 1008.5,-223 1008.5,-223 1109.5,-223 1109.5,-223 1115.5,-223 1121.5,-229 1121.5,-235 1121.5,-235 1121.5,-294 1121.5,-294 1121.5,-300 1115.5,-306 1109.5,-306\"/>\n<text text-anchor=\"start\" x=\"1004.5\" y=\"-290.8\" font-family=\"Helvetica,sans-Serif\" font-size=\"14.00\" fill=\"#000000\">pedigree ≤ 0.245</text>\n<text text-anchor=\"start\" x=\"1025.5\" y=\"-275.8\" font-family=\"Helvetica,sans-Serif\" font-size=\"14.00\" fill=\"#000000\">gini = 0.32</text>\n<text text-anchor=\"start\" x=\"1015\" y=\"-260.8\" font-family=\"Helvetica,sans-Serif\" font-size=\"14.00\" fill=\"#000000\">samples = 35</text>\n<text text-anchor=\"start\" x=\"1013.5\" y=\"-245.8\" font-family=\"Helvetica,sans-Serif\" font-size=\"14.00\" fill=\"#000000\">value = [28, 7]</text>\n<text text-anchor=\"start\" x=\"1030\" y=\"-230.8\" font-family=\"Helvetica,sans-Serif\" font-size=\"14.00\" fill=\"#000000\">class = 0</text>\n</g>\n<!-- 32&#45;&gt;34 -->\n<g id=\"edge34\" class=\"edge\">\n<title>32&#45;&gt;34</title>\n<path fill=\"none\" stroke=\"#000000\" d=\"M1016.0836,-341.8796C1020.8789,-333.2335 1025.9822,-324.0322 1030.9338,-315.1042\"/>\n<polygon fill=\"#000000\" stroke=\"#000000\" points=\"1034.0284,-316.7407 1035.8179,-306.2981 1027.9069,-313.3455 1034.0284,-316.7407\"/>\n</g>\n<!-- 35 -->\n<g id=\"node36\" class=\"node\">\n<title>35</title>\n<path fill=\"#f8dbc6\" stroke=\"#000000\" d=\"M1037,-179.5C1037,-179.5 957,-179.5 957,-179.5 951,-179.5 945,-173.5 945,-167.5 945,-167.5 945,-123.5 945,-123.5 945,-117.5 951,-111.5 957,-111.5 957,-111.5 1037,-111.5 1037,-111.5 1043,-111.5 1049,-117.5 1049,-123.5 1049,-123.5 1049,-167.5 1049,-167.5 1049,-173.5 1043,-179.5 1037,-179.5\"/>\n<text text-anchor=\"start\" x=\"959\" y=\"-164.3\" font-family=\"Helvetica,sans-Serif\" font-size=\"14.00\" fill=\"#000000\">gini = 0.486</text>\n<text text-anchor=\"start\" x=\"953\" y=\"-149.3\" font-family=\"Helvetica,sans-Serif\" font-size=\"14.00\" fill=\"#000000\">samples = 12</text>\n<text text-anchor=\"start\" x=\"955.5\" y=\"-134.3\" font-family=\"Helvetica,sans-Serif\" font-size=\"14.00\" fill=\"#000000\">value = [7, 5]</text>\n<text text-anchor=\"start\" x=\"968\" y=\"-119.3\" font-family=\"Helvetica,sans-Serif\" font-size=\"14.00\" fill=\"#000000\">class = 0</text>\n</g>\n<!-- 34&#45;&gt;35 -->\n<g id=\"edge35\" class=\"edge\">\n<title>34&#45;&gt;35</title>\n<path fill=\"none\" stroke=\"#000000\" d=\"M1037.3154,-222.8796C1031.5864,-211.8835 1025.3894,-199.9893 1019.6126,-188.9015\"/>\n<polygon fill=\"#000000\" stroke=\"#000000\" points=\"1022.603,-187.0662 1014.8784,-179.8149 1016.395,-190.3007 1022.603,-187.0662\"/>\n</g>\n<!-- 36 -->\n<g id=\"node37\" class=\"node\">\n<title>36</title>\n<path fill=\"#e78d4c\" stroke=\"#000000\" d=\"M1162.5,-187C1162.5,-187 1079.5,-187 1079.5,-187 1073.5,-187 1067.5,-181 1067.5,-175 1067.5,-175 1067.5,-116 1067.5,-116 1067.5,-110 1073.5,-104 1079.5,-104 1079.5,-104 1162.5,-104 1162.5,-104 1168.5,-104 1174.5,-110 1174.5,-116 1174.5,-116 1174.5,-175 1174.5,-175 1174.5,-181 1168.5,-187 1162.5,-187\"/>\n<text text-anchor=\"start\" x=\"1086.5\" y=\"-171.8\" font-family=\"Helvetica,sans-Serif\" font-size=\"14.00\" fill=\"#000000\">age ≤ 41.5</text>\n<text text-anchor=\"start\" x=\"1083\" y=\"-156.8\" font-family=\"Helvetica,sans-Serif\" font-size=\"14.00\" fill=\"#000000\">gini = 0.159</text>\n<text text-anchor=\"start\" x=\"1077\" y=\"-141.8\" font-family=\"Helvetica,sans-Serif\" font-size=\"14.00\" fill=\"#000000\">samples = 23</text>\n<text text-anchor=\"start\" x=\"1075.5\" y=\"-126.8\" font-family=\"Helvetica,sans-Serif\" font-size=\"14.00\" fill=\"#000000\">value = [21, 2]</text>\n<text text-anchor=\"start\" x=\"1092\" y=\"-111.8\" font-family=\"Helvetica,sans-Serif\" font-size=\"14.00\" fill=\"#000000\">class = 0</text>\n</g>\n<!-- 34&#45;&gt;36 -->\n<g id=\"edge36\" class=\"edge\">\n<title>34&#45;&gt;36</title>\n<path fill=\"none\" stroke=\"#000000\" d=\"M1080.6846,-222.8796C1085.1423,-214.3236 1089.8834,-205.2238 1094.4894,-196.3833\"/>\n<polygon fill=\"#000000\" stroke=\"#000000\" points=\"1097.7062,-197.7838 1099.2229,-187.2981 1091.4983,-194.5494 1097.7062,-197.7838\"/>\n</g>\n<!-- 37 -->\n<g id=\"node38\" class=\"node\">\n<title>37</title>\n<path fill=\"#e58139\" stroke=\"#000000\" d=\"M1100.5,-68C1100.5,-68 1017.5,-68 1017.5,-68 1011.5,-68 1005.5,-62 1005.5,-56 1005.5,-56 1005.5,-12 1005.5,-12 1005.5,-6 1011.5,0 1017.5,0 1017.5,0 1100.5,0 1100.5,0 1106.5,0 1112.5,-6 1112.5,-12 1112.5,-12 1112.5,-56 1112.5,-56 1112.5,-62 1106.5,-68 1100.5,-68\"/>\n<text text-anchor=\"start\" x=\"1029.5\" y=\"-52.8\" font-family=\"Helvetica,sans-Serif\" font-size=\"14.00\" fill=\"#000000\">gini = 0.0</text>\n<text text-anchor=\"start\" x=\"1015\" y=\"-37.8\" font-family=\"Helvetica,sans-Serif\" font-size=\"14.00\" fill=\"#000000\">samples = 13</text>\n<text text-anchor=\"start\" x=\"1013.5\" y=\"-22.8\" font-family=\"Helvetica,sans-Serif\" font-size=\"14.00\" fill=\"#000000\">value = [13, 0]</text>\n<text text-anchor=\"start\" x=\"1030\" y=\"-7.8\" font-family=\"Helvetica,sans-Serif\" font-size=\"14.00\" fill=\"#000000\">class = 0</text>\n</g>\n<!-- 36&#45;&gt;37 -->\n<g id=\"edge37\" class=\"edge\">\n<title>36&#45;&gt;37</title>\n<path fill=\"none\" stroke=\"#000000\" d=\"M1097.9135,-103.9815C1093.0585,-95.2504 1087.926,-86.0202 1083.0371,-77.2281\"/>\n<polygon fill=\"#000000\" stroke=\"#000000\" points=\"1085.9712,-75.3025 1078.0524,-68.2637 1079.8533,-78.7043 1085.9712,-75.3025\"/>\n</g>\n<!-- 38 -->\n<g id=\"node39\" class=\"node\">\n<title>38</title>\n<path fill=\"#eca06a\" stroke=\"#000000\" d=\"M1223,-68C1223,-68 1143,-68 1143,-68 1137,-68 1131,-62 1131,-56 1131,-56 1131,-12 1131,-12 1131,-6 1137,0 1143,0 1143,0 1223,0 1223,0 1229,0 1235,-6 1235,-12 1235,-12 1235,-56 1235,-56 1235,-62 1229,-68 1223,-68\"/>\n<text text-anchor=\"start\" x=\"1149.5\" y=\"-52.8\" font-family=\"Helvetica,sans-Serif\" font-size=\"14.00\" fill=\"#000000\">gini = 0.32</text>\n<text text-anchor=\"start\" x=\"1139\" y=\"-37.8\" font-family=\"Helvetica,sans-Serif\" font-size=\"14.00\" fill=\"#000000\">samples = 10</text>\n<text text-anchor=\"start\" x=\"1141.5\" y=\"-22.8\" font-family=\"Helvetica,sans-Serif\" font-size=\"14.00\" fill=\"#000000\">value = [8, 2]</text>\n<text text-anchor=\"start\" x=\"1154\" y=\"-7.8\" font-family=\"Helvetica,sans-Serif\" font-size=\"14.00\" fill=\"#000000\">class = 0</text>\n</g>\n<!-- 36&#45;&gt;38 -->\n<g id=\"edge38\" class=\"edge\">\n<title>36&#45;&gt;38</title>\n<path fill=\"none\" stroke=\"#000000\" d=\"M1144.0865,-103.9815C1148.9415,-95.2504 1154.074,-86.0202 1158.9629,-77.2281\"/>\n<polygon fill=\"#000000\" stroke=\"#000000\" points=\"1162.1467,-78.7043 1163.9476,-68.2637 1156.0288,-75.3025 1162.1467,-78.7043\"/>\n</g>\n<!-- 40 -->\n<g id=\"node41\" class=\"node\">\n<title>40</title>\n<path fill=\"#fdf5f0\" stroke=\"#000000\" d=\"M1169,-544C1169,-544 1077,-544 1077,-544 1071,-544 1065,-538 1065,-532 1065,-532 1065,-473 1065,-473 1065,-467 1071,-461 1077,-461 1077,-461 1169,-461 1169,-461 1175,-461 1181,-467 1181,-473 1181,-473 1181,-532 1181,-532 1181,-538 1175,-544 1169,-544\"/>\n<text text-anchor=\"start\" x=\"1076\" y=\"-528.8\" font-family=\"Helvetica,sans-Serif\" font-size=\"14.00\" fill=\"#000000\">insulin ≤ 155.5</text>\n<text text-anchor=\"start\" x=\"1085\" y=\"-513.8\" font-family=\"Helvetica,sans-Serif\" font-size=\"14.00\" fill=\"#000000\">gini = 0.499</text>\n<text text-anchor=\"start\" x=\"1079\" y=\"-498.8\" font-family=\"Helvetica,sans-Serif\" font-size=\"14.00\" fill=\"#000000\">samples = 25</text>\n<text text-anchor=\"start\" x=\"1073\" y=\"-483.8\" font-family=\"Helvetica,sans-Serif\" font-size=\"14.00\" fill=\"#000000\">value = [13, 12]</text>\n<text text-anchor=\"start\" x=\"1094\" y=\"-468.8\" font-family=\"Helvetica,sans-Serif\" font-size=\"14.00\" fill=\"#000000\">class = 0</text>\n</g>\n<!-- 39&#45;&gt;40 -->\n<g id=\"edge40\" class=\"edge\">\n<title>39&#45;&gt;40</title>\n<path fill=\"none\" stroke=\"#000000\" d=\"M1123,-579.8796C1123,-571.6838 1123,-562.9891 1123,-554.5013\"/>\n<polygon fill=\"#000000\" stroke=\"#000000\" points=\"1126.5001,-554.298 1123,-544.2981 1119.5001,-554.2981 1126.5001,-554.298\"/>\n</g>\n<!-- 43 -->\n<g id=\"node44\" class=\"node\">\n<title>43</title>\n<path fill=\"#63b2eb\" stroke=\"#000000\" d=\"M1294.5,-536.5C1294.5,-536.5 1211.5,-536.5 1211.5,-536.5 1205.5,-536.5 1199.5,-530.5 1199.5,-524.5 1199.5,-524.5 1199.5,-480.5 1199.5,-480.5 1199.5,-474.5 1205.5,-468.5 1211.5,-468.5 1211.5,-468.5 1294.5,-468.5 1294.5,-468.5 1300.5,-468.5 1306.5,-474.5 1306.5,-480.5 1306.5,-480.5 1306.5,-524.5 1306.5,-524.5 1306.5,-530.5 1300.5,-536.5 1294.5,-536.5\"/>\n<text text-anchor=\"start\" x=\"1215\" y=\"-521.3\" font-family=\"Helvetica,sans-Serif\" font-size=\"14.00\" fill=\"#000000\">gini = 0.291</text>\n<text text-anchor=\"start\" x=\"1209\" y=\"-506.3\" font-family=\"Helvetica,sans-Serif\" font-size=\"14.00\" fill=\"#000000\">samples = 17</text>\n<text text-anchor=\"start\" x=\"1207.5\" y=\"-491.3\" font-family=\"Helvetica,sans-Serif\" font-size=\"14.00\" fill=\"#000000\">value = [3, 14]</text>\n<text text-anchor=\"start\" x=\"1224\" y=\"-476.3\" font-family=\"Helvetica,sans-Serif\" font-size=\"14.00\" fill=\"#000000\">class = 1</text>\n</g>\n<!-- 39&#45;&gt;43 -->\n<g id=\"edge43\" class=\"edge\">\n<title>39&#45;&gt;43</title>\n<path fill=\"none\" stroke=\"#000000\" d=\"M1168.4677,-579.8796C1181.3211,-568.1138 1195.2979,-555.3197 1208.1166,-543.5855\"/>\n<polygon fill=\"#000000\" stroke=\"#000000\" points=\"1210.5001,-546.1488 1215.5131,-536.8149 1205.7736,-540.9854 1210.5001,-546.1488\"/>\n</g>\n<!-- 41 -->\n<g id=\"node42\" class=\"node\">\n<title>41</title>\n<path fill=\"#eda774\" stroke=\"#000000\" d=\"M1164.5,-417.5C1164.5,-417.5 1081.5,-417.5 1081.5,-417.5 1075.5,-417.5 1069.5,-411.5 1069.5,-405.5 1069.5,-405.5 1069.5,-361.5 1069.5,-361.5 1069.5,-355.5 1075.5,-349.5 1081.5,-349.5 1081.5,-349.5 1164.5,-349.5 1164.5,-349.5 1170.5,-349.5 1176.5,-355.5 1176.5,-361.5 1176.5,-361.5 1176.5,-405.5 1176.5,-405.5 1176.5,-411.5 1170.5,-417.5 1164.5,-417.5\"/>\n<text text-anchor=\"start\" x=\"1085\" y=\"-402.3\" font-family=\"Helvetica,sans-Serif\" font-size=\"14.00\" fill=\"#000000\">gini = 0.355</text>\n<text text-anchor=\"start\" x=\"1079\" y=\"-387.3\" font-family=\"Helvetica,sans-Serif\" font-size=\"14.00\" fill=\"#000000\">samples = 13</text>\n<text text-anchor=\"start\" x=\"1077.5\" y=\"-372.3\" font-family=\"Helvetica,sans-Serif\" font-size=\"14.00\" fill=\"#000000\">value = [10, 3]</text>\n<text text-anchor=\"start\" x=\"1094\" y=\"-357.3\" font-family=\"Helvetica,sans-Serif\" font-size=\"14.00\" fill=\"#000000\">class = 0</text>\n</g>\n<!-- 40&#45;&gt;41 -->\n<g id=\"edge41\" class=\"edge\">\n<title>40&#45;&gt;41</title>\n<path fill=\"none\" stroke=\"#000000\" d=\"M1123,-460.8796C1123,-450.2134 1123,-438.7021 1123,-427.9015\"/>\n<polygon fill=\"#000000\" stroke=\"#000000\" points=\"1126.5001,-427.8149 1123,-417.8149 1119.5001,-427.815 1126.5001,-427.8149\"/>\n</g>\n<!-- 42 -->\n<g id=\"node43\" class=\"node\">\n<title>42</title>\n<path fill=\"#7bbeee\" stroke=\"#000000\" d=\"M1287,-417.5C1287,-417.5 1207,-417.5 1207,-417.5 1201,-417.5 1195,-411.5 1195,-405.5 1195,-405.5 1195,-361.5 1195,-361.5 1195,-355.5 1201,-349.5 1207,-349.5 1207,-349.5 1287,-349.5 1287,-349.5 1293,-349.5 1299,-355.5 1299,-361.5 1299,-361.5 1299,-405.5 1299,-405.5 1299,-411.5 1293,-417.5 1287,-417.5\"/>\n<text text-anchor=\"start\" x=\"1209\" y=\"-402.3\" font-family=\"Helvetica,sans-Serif\" font-size=\"14.00\" fill=\"#000000\">gini = 0.375</text>\n<text text-anchor=\"start\" x=\"1203\" y=\"-387.3\" font-family=\"Helvetica,sans-Serif\" font-size=\"14.00\" fill=\"#000000\">samples = 12</text>\n<text text-anchor=\"start\" x=\"1205.5\" y=\"-372.3\" font-family=\"Helvetica,sans-Serif\" font-size=\"14.00\" fill=\"#000000\">value = [3, 9]</text>\n<text text-anchor=\"start\" x=\"1218\" y=\"-357.3\" font-family=\"Helvetica,sans-Serif\" font-size=\"14.00\" fill=\"#000000\">class = 1</text>\n</g>\n<!-- 40&#45;&gt;42 -->\n<g id=\"edge42\" class=\"edge\">\n<title>40&#45;&gt;42</title>\n<path fill=\"none\" stroke=\"#000000\" d=\"M1166.3692,-460.8796C1178.5148,-449.2237 1191.7119,-436.5587 1203.8451,-424.9148\"/>\n<polygon fill=\"#000000\" stroke=\"#000000\" points=\"1206.4516,-427.2643 1211.2433,-417.8149 1201.6047,-422.2138 1206.4516,-427.2643\"/>\n</g>\n<!-- 45 -->\n<g id=\"node46\" class=\"node\">\n<title>45</title>\n<path fill=\"#eeab7b\" stroke=\"#000000\" d=\"M1356.5,-901C1356.5,-901 1261.5,-901 1261.5,-901 1255.5,-901 1249.5,-895 1249.5,-889 1249.5,-889 1249.5,-830 1249.5,-830 1249.5,-824 1255.5,-818 1261.5,-818 1261.5,-818 1356.5,-818 1356.5,-818 1362.5,-818 1368.5,-824 1368.5,-830 1368.5,-830 1368.5,-889 1368.5,-889 1368.5,-895 1362.5,-901 1356.5,-901\"/>\n<text text-anchor=\"start\" x=\"1257.5\" y=\"-885.8\" font-family=\"Helvetica,sans-Serif\" font-size=\"14.00\" fill=\"#000000\">glucose ≤ 145.5</text>\n<text text-anchor=\"start\" x=\"1271\" y=\"-870.8\" font-family=\"Helvetica,sans-Serif\" font-size=\"14.00\" fill=\"#000000\">gini = 0.375</text>\n<text text-anchor=\"start\" x=\"1265\" y=\"-855.8\" font-family=\"Helvetica,sans-Serif\" font-size=\"14.00\" fill=\"#000000\">samples = 36</text>\n<text text-anchor=\"start\" x=\"1263.5\" y=\"-840.8\" font-family=\"Helvetica,sans-Serif\" font-size=\"14.00\" fill=\"#000000\">value = [27, 9]</text>\n<text text-anchor=\"start\" x=\"1280\" y=\"-825.8\" font-family=\"Helvetica,sans-Serif\" font-size=\"14.00\" fill=\"#000000\">class = 0</text>\n</g>\n<!-- 44&#45;&gt;45 -->\n<g id=\"edge45\" class=\"edge\">\n<title>44&#45;&gt;45</title>\n<path fill=\"none\" stroke=\"#000000\" d=\"M1309,-936.8796C1309,-928.6838 1309,-919.9891 1309,-911.5013\"/>\n<polygon fill=\"#000000\" stroke=\"#000000\" points=\"1312.5001,-911.298 1309,-901.2981 1305.5001,-911.2981 1312.5001,-911.298\"/>\n</g>\n<!-- 48 -->\n<g id=\"node49\" class=\"node\">\n<title>48</title>\n<path fill=\"#90c8f0\" stroke=\"#000000\" d=\"M1719,-901C1719,-901 1619,-901 1619,-901 1613,-901 1607,-895 1607,-889 1607,-889 1607,-830 1607,-830 1607,-824 1613,-818 1619,-818 1619,-818 1719,-818 1719,-818 1725,-818 1731,-824 1731,-830 1731,-830 1731,-889 1731,-889 1731,-895 1725,-901 1719,-901\"/>\n<text text-anchor=\"start\" x=\"1617.5\" y=\"-885.8\" font-family=\"Helvetica,sans-Serif\" font-size=\"14.00\" fill=\"#000000\">glucose ≤ 158.5</text>\n<text text-anchor=\"start\" x=\"1631\" y=\"-870.8\" font-family=\"Helvetica,sans-Serif\" font-size=\"14.00\" fill=\"#000000\">gini = 0.424</text>\n<text text-anchor=\"start\" x=\"1621\" y=\"-855.8\" font-family=\"Helvetica,sans-Serif\" font-size=\"14.00\" fill=\"#000000\">samples = 144</text>\n<text text-anchor=\"start\" x=\"1615\" y=\"-840.8\" font-family=\"Helvetica,sans-Serif\" font-size=\"14.00\" fill=\"#000000\">value = [44, 100]</text>\n<text text-anchor=\"start\" x=\"1640\" y=\"-825.8\" font-family=\"Helvetica,sans-Serif\" font-size=\"14.00\" fill=\"#000000\">class = 1</text>\n</g>\n<!-- 44&#45;&gt;48 -->\n<g id=\"edge48\" class=\"edge\">\n<title>44&#45;&gt;48</title>\n<path fill=\"none\" stroke=\"#000000\" d=\"M1371.2962,-957.9076C1434.21,-937.1111 1531.286,-905.0221 1597.3497,-883.1844\"/>\n<polygon fill=\"#000000\" stroke=\"#000000\" points=\"1598.4678,-886.5011 1606.8641,-880.0394 1596.2708,-879.8548 1598.4678,-886.5011\"/>\n</g>\n<!-- 46 -->\n<g id=\"node47\" class=\"node\">\n<title>46</title>\n<path fill=\"#e68844\" stroke=\"#000000\" d=\"M1288.5,-774.5C1288.5,-774.5 1205.5,-774.5 1205.5,-774.5 1199.5,-774.5 1193.5,-768.5 1193.5,-762.5 1193.5,-762.5 1193.5,-718.5 1193.5,-718.5 1193.5,-712.5 1199.5,-706.5 1205.5,-706.5 1205.5,-706.5 1288.5,-706.5 1288.5,-706.5 1294.5,-706.5 1300.5,-712.5 1300.5,-718.5 1300.5,-718.5 1300.5,-762.5 1300.5,-762.5 1300.5,-768.5 1294.5,-774.5 1288.5,-774.5\"/>\n<text text-anchor=\"start\" x=\"1217.5\" y=\"-759.3\" font-family=\"Helvetica,sans-Serif\" font-size=\"14.00\" fill=\"#000000\">gini = 0.1</text>\n<text text-anchor=\"start\" x=\"1203\" y=\"-744.3\" font-family=\"Helvetica,sans-Serif\" font-size=\"14.00\" fill=\"#000000\">samples = 19</text>\n<text text-anchor=\"start\" x=\"1201.5\" y=\"-729.3\" font-family=\"Helvetica,sans-Serif\" font-size=\"14.00\" fill=\"#000000\">value = [18, 1]</text>\n<text text-anchor=\"start\" x=\"1218\" y=\"-714.3\" font-family=\"Helvetica,sans-Serif\" font-size=\"14.00\" fill=\"#000000\">class = 0</text>\n</g>\n<!-- 45&#45;&gt;46 -->\n<g id=\"edge46\" class=\"edge\">\n<title>45&#45;&gt;46</title>\n<path fill=\"none\" stroke=\"#000000\" d=\"M1287.3154,-817.8796C1281.5864,-806.8835 1275.3894,-794.9893 1269.6126,-783.9015\"/>\n<polygon fill=\"#000000\" stroke=\"#000000\" points=\"1272.603,-782.0662 1264.8784,-774.8149 1266.395,-785.3007 1272.603,-782.0662\"/>\n</g>\n<!-- 47 -->\n<g id=\"node48\" class=\"node\">\n<title>47</title>\n<path fill=\"#fcf1e9\" stroke=\"#000000\" d=\"M1411,-774.5C1411,-774.5 1331,-774.5 1331,-774.5 1325,-774.5 1319,-768.5 1319,-762.5 1319,-762.5 1319,-718.5 1319,-718.5 1319,-712.5 1325,-706.5 1331,-706.5 1331,-706.5 1411,-706.5 1411,-706.5 1417,-706.5 1423,-712.5 1423,-718.5 1423,-718.5 1423,-762.5 1423,-762.5 1423,-768.5 1417,-774.5 1411,-774.5\"/>\n<text text-anchor=\"start\" x=\"1333\" y=\"-759.3\" font-family=\"Helvetica,sans-Serif\" font-size=\"14.00\" fill=\"#000000\">gini = 0.498</text>\n<text text-anchor=\"start\" x=\"1327\" y=\"-744.3\" font-family=\"Helvetica,sans-Serif\" font-size=\"14.00\" fill=\"#000000\">samples = 17</text>\n<text text-anchor=\"start\" x=\"1329.5\" y=\"-729.3\" font-family=\"Helvetica,sans-Serif\" font-size=\"14.00\" fill=\"#000000\">value = [9, 8]</text>\n<text text-anchor=\"start\" x=\"1342\" y=\"-714.3\" font-family=\"Helvetica,sans-Serif\" font-size=\"14.00\" fill=\"#000000\">class = 0</text>\n</g>\n<!-- 45&#45;&gt;47 -->\n<g id=\"edge47\" class=\"edge\">\n<title>45&#45;&gt;47</title>\n<path fill=\"none\" stroke=\"#000000\" d=\"M1330.6846,-817.8796C1336.4136,-806.8835 1342.6106,-794.9893 1348.3874,-783.9015\"/>\n<polygon fill=\"#000000\" stroke=\"#000000\" points=\"1351.605,-785.3007 1353.1216,-774.8149 1345.397,-782.0662 1351.605,-785.3007\"/>\n</g>\n<!-- 49 -->\n<g id=\"node50\" class=\"node\">\n<title>49</title>\n<path fill=\"#c9e4f8\" stroke=\"#000000\" d=\"M1715,-782C1715,-782 1623,-782 1623,-782 1617,-782 1611,-776 1611,-770 1611,-770 1611,-711 1611,-711 1611,-705 1617,-699 1623,-699 1623,-699 1715,-699 1715,-699 1721,-699 1727,-705 1727,-711 1727,-711 1727,-770 1727,-770 1727,-776 1721,-782 1715,-782\"/>\n<text text-anchor=\"start\" x=\"1634.5\" y=\"-766.8\" font-family=\"Helvetica,sans-Serif\" font-size=\"14.00\" fill=\"#000000\">age ≤ 30.5</text>\n<text text-anchor=\"start\" x=\"1631\" y=\"-751.8\" font-family=\"Helvetica,sans-Serif\" font-size=\"14.00\" fill=\"#000000\">gini = 0.487</text>\n<text text-anchor=\"start\" x=\"1625\" y=\"-736.8\" font-family=\"Helvetica,sans-Serif\" font-size=\"14.00\" fill=\"#000000\">samples = 88</text>\n<text text-anchor=\"start\" x=\"1619\" y=\"-721.8\" font-family=\"Helvetica,sans-Serif\" font-size=\"14.00\" fill=\"#000000\">value = [37, 51]</text>\n<text text-anchor=\"start\" x=\"1640\" y=\"-706.8\" font-family=\"Helvetica,sans-Serif\" font-size=\"14.00\" fill=\"#000000\">class = 1</text>\n</g>\n<!-- 48&#45;&gt;49 -->\n<g id=\"edge49\" class=\"edge\">\n<title>48&#45;&gt;49</title>\n<path fill=\"none\" stroke=\"#000000\" d=\"M1669,-817.8796C1669,-809.6838 1669,-800.9891 1669,-792.5013\"/>\n<polygon fill=\"#000000\" stroke=\"#000000\" points=\"1672.5001,-792.298 1669,-782.2981 1665.5001,-792.2981 1672.5001,-792.298\"/>\n</g>\n<!-- 62 -->\n<g id=\"node63\" class=\"node\">\n<title>62</title>\n<path fill=\"#55abe9\" stroke=\"#000000\" d=\"M1969.5,-782C1969.5,-782 1886.5,-782 1886.5,-782 1880.5,-782 1874.5,-776 1874.5,-770 1874.5,-770 1874.5,-711 1874.5,-711 1874.5,-705 1880.5,-699 1886.5,-699 1886.5,-699 1969.5,-699 1969.5,-699 1975.5,-699 1981.5,-705 1981.5,-711 1981.5,-711 1981.5,-770 1981.5,-770 1981.5,-776 1975.5,-782 1969.5,-782\"/>\n<text text-anchor=\"start\" x=\"1893.5\" y=\"-766.8\" font-family=\"Helvetica,sans-Serif\" font-size=\"14.00\" fill=\"#000000\">age ≤ 30.5</text>\n<text text-anchor=\"start\" x=\"1890\" y=\"-751.8\" font-family=\"Helvetica,sans-Serif\" font-size=\"14.00\" fill=\"#000000\">gini = 0.219</text>\n<text text-anchor=\"start\" x=\"1884\" y=\"-736.8\" font-family=\"Helvetica,sans-Serif\" font-size=\"14.00\" fill=\"#000000\">samples = 56</text>\n<text text-anchor=\"start\" x=\"1882.5\" y=\"-721.8\" font-family=\"Helvetica,sans-Serif\" font-size=\"14.00\" fill=\"#000000\">value = [7, 49]</text>\n<text text-anchor=\"start\" x=\"1899\" y=\"-706.8\" font-family=\"Helvetica,sans-Serif\" font-size=\"14.00\" fill=\"#000000\">class = 1</text>\n</g>\n<!-- 48&#45;&gt;62 -->\n<g id=\"edge62\" class=\"edge\">\n<title>48&#45;&gt;62</title>\n<path fill=\"none\" stroke=\"#000000\" d=\"M1731.037,-830.9965C1771.578,-812.3696 1824.3575,-788.1195 1865.0755,-769.4113\"/>\n<polygon fill=\"#000000\" stroke=\"#000000\" points=\"1866.7341,-772.501 1874.3596,-765.1456 1863.8115,-766.1403 1866.7341,-772.501\"/>\n</g>\n<!-- 50 -->\n<g id=\"node51\" class=\"node\">\n<title>50</title>\n<path fill=\"#f8e0ce\" stroke=\"#000000\" d=\"M1648,-663C1648,-663 1556,-663 1556,-663 1550,-663 1544,-657 1544,-651 1544,-651 1544,-592 1544,-592 1544,-586 1550,-580 1556,-580 1556,-580 1648,-580 1648,-580 1654,-580 1660,-586 1660,-592 1660,-592 1660,-651 1660,-651 1660,-657 1654,-663 1648,-663\"/>\n<text text-anchor=\"start\" x=\"1571.5\" y=\"-647.8\" font-family=\"Helvetica,sans-Serif\" font-size=\"14.00\" fill=\"#000000\">bp ≤ 72.0</text>\n<text text-anchor=\"start\" x=\"1568.5\" y=\"-632.8\" font-family=\"Helvetica,sans-Serif\" font-size=\"14.00\" fill=\"#000000\">gini = 0.49</text>\n<text text-anchor=\"start\" x=\"1558\" y=\"-617.8\" font-family=\"Helvetica,sans-Serif\" font-size=\"14.00\" fill=\"#000000\">samples = 42</text>\n<text text-anchor=\"start\" x=\"1552\" y=\"-602.8\" font-family=\"Helvetica,sans-Serif\" font-size=\"14.00\" fill=\"#000000\">value = [24, 18]</text>\n<text text-anchor=\"start\" x=\"1573\" y=\"-587.8\" font-family=\"Helvetica,sans-Serif\" font-size=\"14.00\" fill=\"#000000\">class = 0</text>\n</g>\n<!-- 49&#45;&gt;50 -->\n<g id=\"edge50\" class=\"edge\">\n<title>49&#45;&gt;50</title>\n<path fill=\"none\" stroke=\"#000000\" d=\"M1645.5667,-698.8796C1640.6987,-690.2335 1635.5181,-681.0322 1630.4914,-672.1042\"/>\n<polygon fill=\"#000000\" stroke=\"#000000\" points=\"1633.4893,-670.2947 1625.5334,-663.2981 1627.3897,-673.729 1633.4893,-670.2947\"/>\n</g>\n<!-- 55 -->\n<g id=\"node56\" class=\"node\">\n<title>55</title>\n<path fill=\"#87c4ef\" stroke=\"#000000\" d=\"M1782,-663C1782,-663 1690,-663 1690,-663 1684,-663 1678,-657 1678,-651 1678,-651 1678,-592 1678,-592 1678,-586 1684,-580 1690,-580 1690,-580 1782,-580 1782,-580 1788,-580 1794,-586 1794,-592 1794,-592 1794,-651 1794,-651 1794,-657 1788,-663 1782,-663\"/>\n<text text-anchor=\"start\" x=\"1698\" y=\"-647.8\" font-family=\"Helvetica,sans-Serif\" font-size=\"14.00\" fill=\"#000000\">bmi ≤ 34.05</text>\n<text text-anchor=\"start\" x=\"1698\" y=\"-632.8\" font-family=\"Helvetica,sans-Serif\" font-size=\"14.00\" fill=\"#000000\">gini = 0.405</text>\n<text text-anchor=\"start\" x=\"1692\" y=\"-617.8\" font-family=\"Helvetica,sans-Serif\" font-size=\"14.00\" fill=\"#000000\">samples = 46</text>\n<text text-anchor=\"start\" x=\"1686\" y=\"-602.8\" font-family=\"Helvetica,sans-Serif\" font-size=\"14.00\" fill=\"#000000\">value = [13, 33]</text>\n<text text-anchor=\"start\" x=\"1707\" y=\"-587.8\" font-family=\"Helvetica,sans-Serif\" font-size=\"14.00\" fill=\"#000000\">class = 1</text>\n</g>\n<!-- 49&#45;&gt;55 -->\n<g id=\"edge55\" class=\"edge\">\n<title>49&#45;&gt;55</title>\n<path fill=\"none\" stroke=\"#000000\" d=\"M1692.4333,-698.8796C1697.3013,-690.2335 1702.4819,-681.0322 1707.5086,-672.1042\"/>\n<polygon fill=\"#000000\" stroke=\"#000000\" points=\"1710.6103,-673.729 1712.4666,-663.2981 1704.5107,-670.2947 1710.6103,-673.729\"/>\n</g>\n<!-- 51 -->\n<g id=\"node52\" class=\"node\">\n<title>51</title>\n<path fill=\"#c6e3f8\" stroke=\"#000000\" d=\"M1522,-544C1522,-544 1430,-544 1430,-544 1424,-544 1418,-538 1418,-532 1418,-532 1418,-473 1418,-473 1418,-467 1424,-461 1430,-461 1430,-461 1522,-461 1522,-461 1528,-461 1534,-467 1534,-473 1534,-473 1534,-532 1534,-532 1534,-538 1528,-544 1522,-544\"/>\n<text text-anchor=\"start\" x=\"1438\" y=\"-528.8\" font-family=\"Helvetica,sans-Serif\" font-size=\"14.00\" fill=\"#000000\">bmi ≤ 33.75</text>\n<text text-anchor=\"start\" x=\"1438\" y=\"-513.8\" font-family=\"Helvetica,sans-Serif\" font-size=\"14.00\" fill=\"#000000\">gini = 0.486</text>\n<text text-anchor=\"start\" x=\"1432\" y=\"-498.8\" font-family=\"Helvetica,sans-Serif\" font-size=\"14.00\" fill=\"#000000\">samples = 24</text>\n<text text-anchor=\"start\" x=\"1426\" y=\"-483.8\" font-family=\"Helvetica,sans-Serif\" font-size=\"14.00\" fill=\"#000000\">value = [10, 14]</text>\n<text text-anchor=\"start\" x=\"1447\" y=\"-468.8\" font-family=\"Helvetica,sans-Serif\" font-size=\"14.00\" fill=\"#000000\">class = 1</text>\n</g>\n<!-- 50&#45;&gt;51 -->\n<g id=\"edge51\" class=\"edge\">\n<title>50&#45;&gt;51</title>\n<path fill=\"none\" stroke=\"#000000\" d=\"M1557.9313,-579.8796C1548.2045,-570.6931 1537.8139,-560.8798 1527.8121,-551.4336\"/>\n<polygon fill=\"#000000\" stroke=\"#000000\" points=\"1529.9301,-548.6198 1520.2568,-544.2981 1525.1237,-553.7089 1529.9301,-548.6198\"/>\n</g>\n<!-- 54 -->\n<g id=\"node55\" class=\"node\">\n<title>54</title>\n<path fill=\"#eca572\" stroke=\"#000000\" d=\"M1647.5,-536.5C1647.5,-536.5 1564.5,-536.5 1564.5,-536.5 1558.5,-536.5 1552.5,-530.5 1552.5,-524.5 1552.5,-524.5 1552.5,-480.5 1552.5,-480.5 1552.5,-474.5 1558.5,-468.5 1564.5,-468.5 1564.5,-468.5 1647.5,-468.5 1647.5,-468.5 1653.5,-468.5 1659.5,-474.5 1659.5,-480.5 1659.5,-480.5 1659.5,-524.5 1659.5,-524.5 1659.5,-530.5 1653.5,-536.5 1647.5,-536.5\"/>\n<text text-anchor=\"start\" x=\"1568\" y=\"-521.3\" font-family=\"Helvetica,sans-Serif\" font-size=\"14.00\" fill=\"#000000\">gini = 0.346</text>\n<text text-anchor=\"start\" x=\"1562\" y=\"-506.3\" font-family=\"Helvetica,sans-Serif\" font-size=\"14.00\" fill=\"#000000\">samples = 18</text>\n<text text-anchor=\"start\" x=\"1560.5\" y=\"-491.3\" font-family=\"Helvetica,sans-Serif\" font-size=\"14.00\" fill=\"#000000\">value = [14, 4]</text>\n<text text-anchor=\"start\" x=\"1577\" y=\"-476.3\" font-family=\"Helvetica,sans-Serif\" font-size=\"14.00\" fill=\"#000000\">class = 0</text>\n</g>\n<!-- 50&#45;&gt;54 -->\n<g id=\"edge54\" class=\"edge\">\n<title>50&#45;&gt;54</title>\n<path fill=\"none\" stroke=\"#000000\" d=\"M1603.399,-579.8796C1603.7575,-569.2134 1604.1445,-557.7021 1604.5075,-546.9015\"/>\n<polygon fill=\"#000000\" stroke=\"#000000\" points=\"1608.0085,-546.9269 1604.8466,-536.8149 1601.0125,-546.6917 1608.0085,-546.9269\"/>\n</g>\n<!-- 52 -->\n<g id=\"node53\" class=\"node\">\n<title>52</title>\n<path fill=\"#f2c09c\" stroke=\"#000000\" d=\"M1409,-417.5C1409,-417.5 1329,-417.5 1329,-417.5 1323,-417.5 1317,-411.5 1317,-405.5 1317,-405.5 1317,-361.5 1317,-361.5 1317,-355.5 1323,-349.5 1329,-349.5 1329,-349.5 1409,-349.5 1409,-349.5 1415,-349.5 1421,-355.5 1421,-361.5 1421,-361.5 1421,-405.5 1421,-405.5 1421,-411.5 1415,-417.5 1409,-417.5\"/>\n<text text-anchor=\"start\" x=\"1331\" y=\"-402.3\" font-family=\"Helvetica,sans-Serif\" font-size=\"14.00\" fill=\"#000000\">gini = 0.444</text>\n<text text-anchor=\"start\" x=\"1325\" y=\"-387.3\" font-family=\"Helvetica,sans-Serif\" font-size=\"14.00\" fill=\"#000000\">samples = 12</text>\n<text text-anchor=\"start\" x=\"1327.5\" y=\"-372.3\" font-family=\"Helvetica,sans-Serif\" font-size=\"14.00\" fill=\"#000000\">value = [8, 4]</text>\n<text text-anchor=\"start\" x=\"1340\" y=\"-357.3\" font-family=\"Helvetica,sans-Serif\" font-size=\"14.00\" fill=\"#000000\">class = 0</text>\n</g>\n<!-- 51&#45;&gt;52 -->\n<g id=\"edge52\" class=\"edge\">\n<title>51&#45;&gt;52</title>\n<path fill=\"none\" stroke=\"#000000\" d=\"M1438.5766,-460.8796C1428.2939,-449.4436 1417.1377,-437.0363 1406.8321,-425.575\"/>\n<polygon fill=\"#000000\" stroke=\"#000000\" points=\"1409.1435,-422.9108 1399.8546,-417.8149 1403.9382,-427.5912 1409.1435,-422.9108\"/>\n</g>\n<!-- 53 -->\n<g id=\"node54\" class=\"node\">\n<title>53</title>\n<path fill=\"#61b1ea\" stroke=\"#000000\" d=\"M1534.5,-417.5C1534.5,-417.5 1451.5,-417.5 1451.5,-417.5 1445.5,-417.5 1439.5,-411.5 1439.5,-405.5 1439.5,-405.5 1439.5,-361.5 1439.5,-361.5 1439.5,-355.5 1445.5,-349.5 1451.5,-349.5 1451.5,-349.5 1534.5,-349.5 1534.5,-349.5 1540.5,-349.5 1546.5,-355.5 1546.5,-361.5 1546.5,-361.5 1546.5,-405.5 1546.5,-405.5 1546.5,-411.5 1540.5,-417.5 1534.5,-417.5\"/>\n<text text-anchor=\"start\" x=\"1455\" y=\"-402.3\" font-family=\"Helvetica,sans-Serif\" font-size=\"14.00\" fill=\"#000000\">gini = 0.278</text>\n<text text-anchor=\"start\" x=\"1449\" y=\"-387.3\" font-family=\"Helvetica,sans-Serif\" font-size=\"14.00\" fill=\"#000000\">samples = 12</text>\n<text text-anchor=\"start\" x=\"1447.5\" y=\"-372.3\" font-family=\"Helvetica,sans-Serif\" font-size=\"14.00\" fill=\"#000000\">value = [2, 10]</text>\n<text text-anchor=\"start\" x=\"1464\" y=\"-357.3\" font-family=\"Helvetica,sans-Serif\" font-size=\"14.00\" fill=\"#000000\">class = 1</text>\n</g>\n<!-- 51&#45;&gt;53 -->\n<g id=\"edge53\" class=\"edge\">\n<title>51&#45;&gt;53</title>\n<path fill=\"none\" stroke=\"#000000\" d=\"M1481.9458,-460.8796C1483.4695,-450.2134 1485.114,-438.7021 1486.6569,-427.9015\"/>\n<polygon fill=\"#000000\" stroke=\"#000000\" points=\"1490.1484,-428.2094 1488.0979,-417.8149 1483.2187,-427.2194 1490.1484,-428.2094\"/>\n</g>\n<!-- 56 -->\n<g id=\"node57\" class=\"node\">\n<title>56</title>\n<path fill=\"#cee6f8\" stroke=\"#000000\" d=\"M1775.5,-544C1775.5,-544 1692.5,-544 1692.5,-544 1686.5,-544 1680.5,-538 1680.5,-532 1680.5,-532 1680.5,-473 1680.5,-473 1680.5,-467 1686.5,-461 1692.5,-461 1692.5,-461 1775.5,-461 1775.5,-461 1781.5,-461 1787.5,-467 1787.5,-473 1787.5,-473 1787.5,-532 1787.5,-532 1787.5,-538 1781.5,-544 1775.5,-544\"/>\n<text text-anchor=\"start\" x=\"1703.5\" y=\"-528.8\" font-family=\"Helvetica,sans-Serif\" font-size=\"14.00\" fill=\"#000000\">bp ≤ 83.0</text>\n<text text-anchor=\"start\" x=\"1700.5\" y=\"-513.8\" font-family=\"Helvetica,sans-Serif\" font-size=\"14.00\" fill=\"#000000\">gini = 0.49</text>\n<text text-anchor=\"start\" x=\"1690\" y=\"-498.8\" font-family=\"Helvetica,sans-Serif\" font-size=\"14.00\" fill=\"#000000\">samples = 21</text>\n<text text-anchor=\"start\" x=\"1688.5\" y=\"-483.8\" font-family=\"Helvetica,sans-Serif\" font-size=\"14.00\" fill=\"#000000\">value = [9, 12]</text>\n<text text-anchor=\"start\" x=\"1705\" y=\"-468.8\" font-family=\"Helvetica,sans-Serif\" font-size=\"14.00\" fill=\"#000000\">class = 1</text>\n</g>\n<!-- 55&#45;&gt;56 -->\n<g id=\"edge56\" class=\"edge\">\n<title>55&#45;&gt;56</title>\n<path fill=\"none\" stroke=\"#000000\" d=\"M1735.3005,-579.8796C1735.1628,-571.6838 1735.0166,-562.9891 1734.874,-554.5013\"/>\n<polygon fill=\"#000000\" stroke=\"#000000\" points=\"1738.3701,-554.2378 1734.7025,-544.2981 1731.3711,-554.3555 1738.3701,-554.2378\"/>\n</g>\n<!-- 59 -->\n<g id=\"node60\" class=\"node\">\n<title>59</title>\n<path fill=\"#5fb0ea\" stroke=\"#000000\" d=\"M1918.5,-544C1918.5,-544 1817.5,-544 1817.5,-544 1811.5,-544 1805.5,-538 1805.5,-532 1805.5,-532 1805.5,-473 1805.5,-473 1805.5,-467 1811.5,-461 1817.5,-461 1817.5,-461 1918.5,-461 1918.5,-461 1924.5,-461 1930.5,-467 1930.5,-473 1930.5,-473 1930.5,-532 1930.5,-532 1930.5,-538 1924.5,-544 1918.5,-544\"/>\n<text text-anchor=\"start\" x=\"1813.5\" y=\"-528.8\" font-family=\"Helvetica,sans-Serif\" font-size=\"14.00\" fill=\"#000000\">pedigree ≤ 0.672</text>\n<text text-anchor=\"start\" x=\"1830\" y=\"-513.8\" font-family=\"Helvetica,sans-Serif\" font-size=\"14.00\" fill=\"#000000\">gini = 0.269</text>\n<text text-anchor=\"start\" x=\"1824\" y=\"-498.8\" font-family=\"Helvetica,sans-Serif\" font-size=\"14.00\" fill=\"#000000\">samples = 25</text>\n<text text-anchor=\"start\" x=\"1822.5\" y=\"-483.8\" font-family=\"Helvetica,sans-Serif\" font-size=\"14.00\" fill=\"#000000\">value = [4, 21]</text>\n<text text-anchor=\"start\" x=\"1839\" y=\"-468.8\" font-family=\"Helvetica,sans-Serif\" font-size=\"14.00\" fill=\"#000000\">class = 1</text>\n</g>\n<!-- 55&#45;&gt;59 -->\n<g id=\"edge59\" class=\"edge\">\n<title>55&#45;&gt;59</title>\n<path fill=\"none\" stroke=\"#000000\" d=\"M1782.1672,-579.8796C1792.4571,-570.6031 1803.456,-560.6874 1814.0287,-551.1559\"/>\n<polygon fill=\"#000000\" stroke=\"#000000\" points=\"1816.5519,-553.5935 1821.6358,-544.2981 1811.8648,-548.3944 1816.5519,-553.5935\"/>\n</g>\n<!-- 57 -->\n<g id=\"node58\" class=\"node\">\n<title>57</title>\n<path fill=\"#fbeade\" stroke=\"#000000\" d=\"M1657,-417.5C1657,-417.5 1577,-417.5 1577,-417.5 1571,-417.5 1565,-411.5 1565,-405.5 1565,-405.5 1565,-361.5 1565,-361.5 1565,-355.5 1571,-349.5 1577,-349.5 1577,-349.5 1657,-349.5 1657,-349.5 1663,-349.5 1669,-355.5 1669,-361.5 1669,-361.5 1669,-405.5 1669,-405.5 1669,-411.5 1663,-417.5 1657,-417.5\"/>\n<text text-anchor=\"start\" x=\"1579\" y=\"-402.3\" font-family=\"Helvetica,sans-Serif\" font-size=\"14.00\" fill=\"#000000\">gini = 0.496</text>\n<text text-anchor=\"start\" x=\"1573\" y=\"-387.3\" font-family=\"Helvetica,sans-Serif\" font-size=\"14.00\" fill=\"#000000\">samples = 11</text>\n<text text-anchor=\"start\" x=\"1575.5\" y=\"-372.3\" font-family=\"Helvetica,sans-Serif\" font-size=\"14.00\" fill=\"#000000\">value = [6, 5]</text>\n<text text-anchor=\"start\" x=\"1588\" y=\"-357.3\" font-family=\"Helvetica,sans-Serif\" font-size=\"14.00\" fill=\"#000000\">class = 0</text>\n</g>\n<!-- 56&#45;&gt;57 -->\n<g id=\"edge57\" class=\"edge\">\n<title>56&#45;&gt;57</title>\n<path fill=\"none\" stroke=\"#000000\" d=\"M1693.0791,-460.8796C1681.7272,-449.3337 1669.4018,-436.7976 1658.043,-425.2446\"/>\n<polygon fill=\"#000000\" stroke=\"#000000\" points=\"1660.2449,-422.4919 1650.7382,-417.8149 1655.2534,-427.3995 1660.2449,-422.4919\"/>\n</g>\n<!-- 58 -->\n<g id=\"node59\" class=\"node\">\n<title>58</title>\n<path fill=\"#8ec7f0\" stroke=\"#000000\" d=\"M1779,-417.5C1779,-417.5 1699,-417.5 1699,-417.5 1693,-417.5 1687,-411.5 1687,-405.5 1687,-405.5 1687,-361.5 1687,-361.5 1687,-355.5 1693,-349.5 1699,-349.5 1699,-349.5 1779,-349.5 1779,-349.5 1785,-349.5 1791,-355.5 1791,-361.5 1791,-361.5 1791,-405.5 1791,-405.5 1791,-411.5 1785,-417.5 1779,-417.5\"/>\n<text text-anchor=\"start\" x=\"1705.5\" y=\"-402.3\" font-family=\"Helvetica,sans-Serif\" font-size=\"14.00\" fill=\"#000000\">gini = 0.42</text>\n<text text-anchor=\"start\" x=\"1695\" y=\"-387.3\" font-family=\"Helvetica,sans-Serif\" font-size=\"14.00\" fill=\"#000000\">samples = 10</text>\n<text text-anchor=\"start\" x=\"1697.5\" y=\"-372.3\" font-family=\"Helvetica,sans-Serif\" font-size=\"14.00\" fill=\"#000000\">value = [3, 7]</text>\n<text text-anchor=\"start\" x=\"1710\" y=\"-357.3\" font-family=\"Helvetica,sans-Serif\" font-size=\"14.00\" fill=\"#000000\">class = 1</text>\n</g>\n<!-- 56&#45;&gt;58 -->\n<g id=\"edge58\" class=\"edge\">\n<title>56&#45;&gt;58</title>\n<path fill=\"none\" stroke=\"#000000\" d=\"M1735.7488,-460.8796C1736.1969,-450.2134 1736.6806,-438.7021 1737.1344,-427.9015\"/>\n<polygon fill=\"#000000\" stroke=\"#000000\" points=\"1740.6352,-427.9531 1737.5582,-417.8149 1733.6414,-427.6592 1740.6352,-427.9531\"/>\n</g>\n<!-- 60 -->\n<g id=\"node61\" class=\"node\">\n<title>60</title>\n<path fill=\"#47a4e7\" stroke=\"#000000\" d=\"M1904.5,-417.5C1904.5,-417.5 1821.5,-417.5 1821.5,-417.5 1815.5,-417.5 1809.5,-411.5 1809.5,-405.5 1809.5,-405.5 1809.5,-361.5 1809.5,-361.5 1809.5,-355.5 1815.5,-349.5 1821.5,-349.5 1821.5,-349.5 1904.5,-349.5 1904.5,-349.5 1910.5,-349.5 1916.5,-355.5 1916.5,-361.5 1916.5,-361.5 1916.5,-405.5 1916.5,-405.5 1916.5,-411.5 1910.5,-417.5 1904.5,-417.5\"/>\n<text text-anchor=\"start\" x=\"1825\" y=\"-402.3\" font-family=\"Helvetica,sans-Serif\" font-size=\"14.00\" fill=\"#000000\">gini = 0.124</text>\n<text text-anchor=\"start\" x=\"1819\" y=\"-387.3\" font-family=\"Helvetica,sans-Serif\" font-size=\"14.00\" fill=\"#000000\">samples = 15</text>\n<text text-anchor=\"start\" x=\"1817.5\" y=\"-372.3\" font-family=\"Helvetica,sans-Serif\" font-size=\"14.00\" fill=\"#000000\">value = [1, 14]</text>\n<text text-anchor=\"start\" x=\"1834\" y=\"-357.3\" font-family=\"Helvetica,sans-Serif\" font-size=\"14.00\" fill=\"#000000\">class = 1</text>\n</g>\n<!-- 59&#45;&gt;60 -->\n<g id=\"edge60\" class=\"edge\">\n<title>59&#45;&gt;60</title>\n<path fill=\"none\" stroke=\"#000000\" d=\"M1866.2512,-460.8796C1865.8031,-450.2134 1865.3194,-438.7021 1864.8656,-427.9015\"/>\n<polygon fill=\"#000000\" stroke=\"#000000\" points=\"1868.3586,-427.6592 1864.4418,-417.8149 1861.3648,-427.9531 1868.3586,-427.6592\"/>\n</g>\n<!-- 61 -->\n<g id=\"node62\" class=\"node\">\n<title>61</title>\n<path fill=\"#8ec7f0\" stroke=\"#000000\" d=\"M2027,-417.5C2027,-417.5 1947,-417.5 1947,-417.5 1941,-417.5 1935,-411.5 1935,-405.5 1935,-405.5 1935,-361.5 1935,-361.5 1935,-355.5 1941,-349.5 1947,-349.5 1947,-349.5 2027,-349.5 2027,-349.5 2033,-349.5 2039,-355.5 2039,-361.5 2039,-361.5 2039,-405.5 2039,-405.5 2039,-411.5 2033,-417.5 2027,-417.5\"/>\n<text text-anchor=\"start\" x=\"1953.5\" y=\"-402.3\" font-family=\"Helvetica,sans-Serif\" font-size=\"14.00\" fill=\"#000000\">gini = 0.42</text>\n<text text-anchor=\"start\" x=\"1943\" y=\"-387.3\" font-family=\"Helvetica,sans-Serif\" font-size=\"14.00\" fill=\"#000000\">samples = 10</text>\n<text text-anchor=\"start\" x=\"1945.5\" y=\"-372.3\" font-family=\"Helvetica,sans-Serif\" font-size=\"14.00\" fill=\"#000000\">value = [3, 7]</text>\n<text text-anchor=\"start\" x=\"1958\" y=\"-357.3\" font-family=\"Helvetica,sans-Serif\" font-size=\"14.00\" fill=\"#000000\">class = 1</text>\n</g>\n<!-- 59&#45;&gt;61 -->\n<g id=\"edge61\" class=\"edge\">\n<title>59&#45;&gt;61</title>\n<path fill=\"none\" stroke=\"#000000\" d=\"M1909.6204,-460.8796C1921.2763,-449.2237 1933.9413,-436.5587 1945.5852,-424.9148\"/>\n<polygon fill=\"#000000\" stroke=\"#000000\" points=\"1948.0889,-427.3609 1952.6851,-417.8149 1943.1391,-422.4111 1948.0889,-427.3609\"/>\n</g>\n<!-- 63 -->\n<g id=\"node64\" class=\"node\">\n<title>63</title>\n<path fill=\"#399de5\" stroke=\"#000000\" d=\"M1969.5,-655.5C1969.5,-655.5 1886.5,-655.5 1886.5,-655.5 1880.5,-655.5 1874.5,-649.5 1874.5,-643.5 1874.5,-643.5 1874.5,-599.5 1874.5,-599.5 1874.5,-593.5 1880.5,-587.5 1886.5,-587.5 1886.5,-587.5 1969.5,-587.5 1969.5,-587.5 1975.5,-587.5 1981.5,-593.5 1981.5,-599.5 1981.5,-599.5 1981.5,-643.5 1981.5,-643.5 1981.5,-649.5 1975.5,-655.5 1969.5,-655.5\"/>\n<text text-anchor=\"start\" x=\"1898.5\" y=\"-640.3\" font-family=\"Helvetica,sans-Serif\" font-size=\"14.00\" fill=\"#000000\">gini = 0.0</text>\n<text text-anchor=\"start\" x=\"1884\" y=\"-625.3\" font-family=\"Helvetica,sans-Serif\" font-size=\"14.00\" fill=\"#000000\">samples = 20</text>\n<text text-anchor=\"start\" x=\"1882.5\" y=\"-610.3\" font-family=\"Helvetica,sans-Serif\" font-size=\"14.00\" fill=\"#000000\">value = [0, 20]</text>\n<text text-anchor=\"start\" x=\"1899\" y=\"-595.3\" font-family=\"Helvetica,sans-Serif\" font-size=\"14.00\" fill=\"#000000\">class = 1</text>\n</g>\n<!-- 62&#45;&gt;63 -->\n<g id=\"edge63\" class=\"edge\">\n<title>62&#45;&gt;63</title>\n<path fill=\"none\" stroke=\"#000000\" d=\"M1928,-698.8796C1928,-688.2134 1928,-676.7021 1928,-665.9015\"/>\n<polygon fill=\"#000000\" stroke=\"#000000\" points=\"1931.5001,-665.8149 1928,-655.8149 1924.5001,-665.815 1931.5001,-665.8149\"/>\n</g>\n<!-- 64 -->\n<g id=\"node65\" class=\"node\">\n<title>64</title>\n<path fill=\"#69b5eb\" stroke=\"#000000\" d=\"M2150.5,-663C2150.5,-663 2067.5,-663 2067.5,-663 2061.5,-663 2055.5,-657 2055.5,-651 2055.5,-651 2055.5,-592 2055.5,-592 2055.5,-586 2061.5,-580 2067.5,-580 2067.5,-580 2150.5,-580 2150.5,-580 2156.5,-580 2162.5,-586 2162.5,-592 2162.5,-592 2162.5,-651 2162.5,-651 2162.5,-657 2156.5,-663 2150.5,-663\"/>\n<text text-anchor=\"start\" x=\"2071\" y=\"-647.8\" font-family=\"Helvetica,sans-Serif\" font-size=\"14.00\" fill=\"#000000\">bmi ≤ 36.55</text>\n<text text-anchor=\"start\" x=\"2071\" y=\"-632.8\" font-family=\"Helvetica,sans-Serif\" font-size=\"14.00\" fill=\"#000000\">gini = 0.313</text>\n<text text-anchor=\"start\" x=\"2065\" y=\"-617.8\" font-family=\"Helvetica,sans-Serif\" font-size=\"14.00\" fill=\"#000000\">samples = 36</text>\n<text text-anchor=\"start\" x=\"2063.5\" y=\"-602.8\" font-family=\"Helvetica,sans-Serif\" font-size=\"14.00\" fill=\"#000000\">value = [7, 29]</text>\n<text text-anchor=\"start\" x=\"2080\" y=\"-587.8\" font-family=\"Helvetica,sans-Serif\" font-size=\"14.00\" fill=\"#000000\">class = 1</text>\n</g>\n<!-- 62&#45;&gt;64 -->\n<g id=\"edge64\" class=\"edge\">\n<title>62&#45;&gt;64</title>\n<path fill=\"none\" stroke=\"#000000\" d=\"M1981.8159,-705.1183C2002.24,-691.6903 2025.6647,-676.2895 2046.7998,-662.394\"/>\n<polygon fill=\"#000000\" stroke=\"#000000\" points=\"2048.9584,-665.1636 2055.3914,-656.7454 2045.1128,-659.3145 2048.9584,-665.1636\"/>\n</g>\n<!-- 65 -->\n<g id=\"node66\" class=\"node\">\n<title>65</title>\n<path fill=\"#5dafea\" stroke=\"#000000\" d=\"M2159.5,-544C2159.5,-544 2058.5,-544 2058.5,-544 2052.5,-544 2046.5,-538 2046.5,-532 2046.5,-532 2046.5,-473 2046.5,-473 2046.5,-467 2052.5,-461 2058.5,-461 2058.5,-461 2159.5,-461 2159.5,-461 2165.5,-461 2171.5,-467 2171.5,-473 2171.5,-473 2171.5,-532 2171.5,-532 2171.5,-538 2165.5,-544 2159.5,-544\"/>\n<text text-anchor=\"start\" x=\"2054.5\" y=\"-528.8\" font-family=\"Helvetica,sans-Serif\" font-size=\"14.00\" fill=\"#000000\">pedigree ≤ 0.348</text>\n<text text-anchor=\"start\" x=\"2075.5\" y=\"-513.8\" font-family=\"Helvetica,sans-Serif\" font-size=\"14.00\" fill=\"#000000\">gini = 0.26</text>\n<text text-anchor=\"start\" x=\"2065\" y=\"-498.8\" font-family=\"Helvetica,sans-Serif\" font-size=\"14.00\" fill=\"#000000\">samples = 26</text>\n<text text-anchor=\"start\" x=\"2063.5\" y=\"-483.8\" font-family=\"Helvetica,sans-Serif\" font-size=\"14.00\" fill=\"#000000\">value = [4, 22]</text>\n<text text-anchor=\"start\" x=\"2080\" y=\"-468.8\" font-family=\"Helvetica,sans-Serif\" font-size=\"14.00\" fill=\"#000000\">class = 1</text>\n</g>\n<!-- 64&#45;&gt;65 -->\n<g id=\"edge65\" class=\"edge\">\n<title>64&#45;&gt;65</title>\n<path fill=\"none\" stroke=\"#000000\" d=\"M2109,-579.8796C2109,-571.6838 2109,-562.9891 2109,-554.5013\"/>\n<polygon fill=\"#000000\" stroke=\"#000000\" points=\"2112.5001,-554.298 2109,-544.2981 2105.5001,-554.2981 2112.5001,-554.298\"/>\n</g>\n<!-- 68 -->\n<g id=\"node69\" class=\"node\">\n<title>68</title>\n<path fill=\"#8ec7f0\" stroke=\"#000000\" d=\"M2282,-536.5C2282,-536.5 2202,-536.5 2202,-536.5 2196,-536.5 2190,-530.5 2190,-524.5 2190,-524.5 2190,-480.5 2190,-480.5 2190,-474.5 2196,-468.5 2202,-468.5 2202,-468.5 2282,-468.5 2282,-468.5 2288,-468.5 2294,-474.5 2294,-480.5 2294,-480.5 2294,-524.5 2294,-524.5 2294,-530.5 2288,-536.5 2282,-536.5\"/>\n<text text-anchor=\"start\" x=\"2208.5\" y=\"-521.3\" font-family=\"Helvetica,sans-Serif\" font-size=\"14.00\" fill=\"#000000\">gini = 0.42</text>\n<text text-anchor=\"start\" x=\"2198\" y=\"-506.3\" font-family=\"Helvetica,sans-Serif\" font-size=\"14.00\" fill=\"#000000\">samples = 10</text>\n<text text-anchor=\"start\" x=\"2200.5\" y=\"-491.3\" font-family=\"Helvetica,sans-Serif\" font-size=\"14.00\" fill=\"#000000\">value = [3, 7]</text>\n<text text-anchor=\"start\" x=\"2213\" y=\"-476.3\" font-family=\"Helvetica,sans-Serif\" font-size=\"14.00\" fill=\"#000000\">class = 1</text>\n</g>\n<!-- 64&#45;&gt;68 -->\n<g id=\"edge68\" class=\"edge\">\n<title>64&#45;&gt;68</title>\n<path fill=\"none\" stroke=\"#000000\" d=\"M2155.5169,-579.8796C2168.667,-568.1138 2182.9663,-555.3197 2196.0809,-543.5855\"/>\n<polygon fill=\"#000000\" stroke=\"#000000\" points=\"2198.5294,-546.0913 2203.648,-536.8149 2193.8618,-540.8746 2198.5294,-546.0913\"/>\n</g>\n<!-- 66 -->\n<g id=\"node67\" class=\"node\">\n<title>66</title>\n<path fill=\"#9ccef2\" stroke=\"#000000\" d=\"M2149,-417.5C2149,-417.5 2069,-417.5 2069,-417.5 2063,-417.5 2057,-411.5 2057,-405.5 2057,-405.5 2057,-361.5 2057,-361.5 2057,-355.5 2063,-349.5 2069,-349.5 2069,-349.5 2149,-349.5 2149,-349.5 2155,-349.5 2161,-355.5 2161,-361.5 2161,-361.5 2161,-405.5 2161,-405.5 2161,-411.5 2155,-417.5 2149,-417.5\"/>\n<text text-anchor=\"start\" x=\"2071\" y=\"-402.3\" font-family=\"Helvetica,sans-Serif\" font-size=\"14.00\" fill=\"#000000\">gini = 0.444</text>\n<text text-anchor=\"start\" x=\"2065\" y=\"-387.3\" font-family=\"Helvetica,sans-Serif\" font-size=\"14.00\" fill=\"#000000\">samples = 12</text>\n<text text-anchor=\"start\" x=\"2067.5\" y=\"-372.3\" font-family=\"Helvetica,sans-Serif\" font-size=\"14.00\" fill=\"#000000\">value = [4, 8]</text>\n<text text-anchor=\"start\" x=\"2080\" y=\"-357.3\" font-family=\"Helvetica,sans-Serif\" font-size=\"14.00\" fill=\"#000000\">class = 1</text>\n</g>\n<!-- 65&#45;&gt;66 -->\n<g id=\"edge66\" class=\"edge\">\n<title>65&#45;&gt;66</title>\n<path fill=\"none\" stroke=\"#000000\" d=\"M2109,-460.8796C2109,-450.2134 2109,-438.7021 2109,-427.9015\"/>\n<polygon fill=\"#000000\" stroke=\"#000000\" points=\"2112.5001,-427.8149 2109,-417.8149 2105.5001,-427.815 2112.5001,-427.8149\"/>\n</g>\n<!-- 67 -->\n<g id=\"node68\" class=\"node\">\n<title>67</title>\n<path fill=\"#399de5\" stroke=\"#000000\" d=\"M2274.5,-417.5C2274.5,-417.5 2191.5,-417.5 2191.5,-417.5 2185.5,-417.5 2179.5,-411.5 2179.5,-405.5 2179.5,-405.5 2179.5,-361.5 2179.5,-361.5 2179.5,-355.5 2185.5,-349.5 2191.5,-349.5 2191.5,-349.5 2274.5,-349.5 2274.5,-349.5 2280.5,-349.5 2286.5,-355.5 2286.5,-361.5 2286.5,-361.5 2286.5,-405.5 2286.5,-405.5 2286.5,-411.5 2280.5,-417.5 2274.5,-417.5\"/>\n<text text-anchor=\"start\" x=\"2203.5\" y=\"-402.3\" font-family=\"Helvetica,sans-Serif\" font-size=\"14.00\" fill=\"#000000\">gini = 0.0</text>\n<text text-anchor=\"start\" x=\"2189\" y=\"-387.3\" font-family=\"Helvetica,sans-Serif\" font-size=\"14.00\" fill=\"#000000\">samples = 14</text>\n<text text-anchor=\"start\" x=\"2187.5\" y=\"-372.3\" font-family=\"Helvetica,sans-Serif\" font-size=\"14.00\" fill=\"#000000\">value = [0, 14]</text>\n<text text-anchor=\"start\" x=\"2204\" y=\"-357.3\" font-family=\"Helvetica,sans-Serif\" font-size=\"14.00\" fill=\"#000000\">class = 1</text>\n</g>\n<!-- 65&#45;&gt;67 -->\n<g id=\"edge67\" class=\"edge\">\n<title>65&#45;&gt;67</title>\n<path fill=\"none\" stroke=\"#000000\" d=\"M2152.3692,-460.8796C2164.5148,-449.2237 2177.7119,-436.5587 2189.8451,-424.9148\"/>\n<polygon fill=\"#000000\" stroke=\"#000000\" points=\"2192.4516,-427.2643 2197.2433,-417.8149 2187.6047,-422.2138 2192.4516,-427.2643\"/>\n</g>\n</g>\n</svg>\n"
          },
          "metadata": {},
          "execution_count": 11
        }
      ]
    },
    {
      "cell_type": "markdown",
      "source": [
        "### Application on Cuisines Dataset"
      ],
      "metadata": {
        "id": "hwX49hXC2oU-"
      }
    },
    {
      "cell_type": "code",
      "source": [
        "import pandas as pd\n",
        "cuisines_df = pd.read_csv(\"https://an-utd-python.s3.us-west-1.amazonaws.com/cuisines.csv\")\n",
        "cuisines_df.head()"
      ],
      "metadata": {
        "id": "crBh36AxfT-j"
      },
      "execution_count": null,
      "outputs": []
    },
    {
      "cell_type": "code",
      "source": [
        "cuisines_label_df = cuisines_df['cuisine']\n",
        "cuisines_label_df.head()"
      ],
      "metadata": {
        "id": "BWtwh2C82-Sm"
      },
      "execution_count": null,
      "outputs": []
    },
    {
      "cell_type": "code",
      "source": [
        "cuisines_label_df.value_counts()"
      ],
      "metadata": {
        "id": "WcnvKa3D3wcg"
      },
      "execution_count": null,
      "outputs": []
    },
    {
      "cell_type": "code",
      "source": [
        "type(cuisines_label_df)"
      ],
      "metadata": {
        "id": "dSav2CAO5OB_"
      },
      "execution_count": null,
      "outputs": []
    },
    {
      "cell_type": "code",
      "source": [
        "cuisine_labels_distinct = cuisines_label_df.unique()"
      ],
      "metadata": {
        "id": "OBDjJJIX4rRC"
      },
      "execution_count": null,
      "outputs": []
    },
    {
      "cell_type": "code",
      "source": [
        "cuisine_labels_distinct"
      ],
      "metadata": {
        "id": "FEFS3eqM47ly"
      },
      "execution_count": null,
      "outputs": []
    },
    {
      "cell_type": "code",
      "source": [
        "cuisines_feature_df = cuisines_df.drop(['Unnamed: 0', 'cuisine'], axis=1)\n",
        "cuisines_feature_df.head()"
      ],
      "metadata": {
        "id": "soUQ01EQ3Cv8"
      },
      "execution_count": null,
      "outputs": []
    },
    {
      "cell_type": "code",
      "source": [
        "from sklearn.tree import DecisionTreeClassifier\n",
        "from sklearn.ensemble import RandomForestClassifier, AdaBoostClassifier\n",
        "from sklearn.model_selection import train_test_split, cross_val_score\n",
        "from sklearn.metrics import accuracy_score,precision_score,confusion_matrix,classification_report, precision_recall_curve\n",
        "import numpy as np\n",
        "\n",
        "X_train, X_test, y_train, y_test = train_test_split(cuisines_feature_df, cuisines_label_df, test_size=0.3)"
      ],
      "metadata": {
        "id": "HZKDS-UM3NN_"
      },
      "execution_count": null,
      "outputs": []
    },
    {
      "cell_type": "code",
      "source": [
        "from matplotlib.pyplot import figure\n",
        "\n",
        "figure(figsize=(12, 12), dpi=80)\n",
        "from sklearn import tree\n",
        "clf = tree.DecisionTreeClassifier(max_depth = 5)\n",
        "clf = clf.fit(X_train, y_train)\n",
        "tree.plot_tree(clf)"
      ],
      "metadata": {
        "id": "2Pvn3_qA3TG5"
      },
      "execution_count": null,
      "outputs": []
    },
    {
      "cell_type": "code",
      "source": [
        "import graphviz \n",
        "dot_data = tree.export_graphviz(clf, out_file=None, \n",
        "                     feature_names=cuisines_feature_df.columns,  \n",
        "                     class_names=cuisine_labels_distinct,  \n",
        "                     filled=True, rounded=True,\n",
        "                     special_characters=True)  \n",
        "graph = graphviz.Source(dot_data)  \n",
        "graph "
      ],
      "metadata": {
        "id": "HanSk-YF3-QA"
      },
      "execution_count": null,
      "outputs": []
    },
    {
      "cell_type": "code",
      "source": [
        "y_pred = clf.predict(X_test)\n",
        "accuracy = accuracy_score(y_test, y_pred)\n",
        "print(classification_report(y_test,y_pred))"
      ],
      "metadata": {
        "id": "YrHY2bav5pgD"
      },
      "execution_count": null,
      "outputs": []
    },
    {
      "cell_type": "code",
      "source": [
        "rf = RandomForestClassifier(max_depth=3, random_state=0, n_estimators = 100)\n",
        "rf.fit(X_train, y_train)"
      ],
      "metadata": {
        "id": "nD13MTIL81vC"
      },
      "execution_count": null,
      "outputs": []
    },
    {
      "cell_type": "code",
      "source": [
        "y_pred = rf.predict(X_test)\n",
        "accuracy = accuracy_score(y_test, y_pred)\n",
        "print(classification_report(y_test,y_pred))"
      ],
      "metadata": {
        "id": "8iP_6XWu9OTL"
      },
      "execution_count": null,
      "outputs": []
    },
    {
      "cell_type": "code",
      "source": [
        "cars = pd.read_csv(\"https://an-vistra.s3.us-west-1.amazonaws.com/data/auto-mpg.csv\")"
      ],
      "metadata": {
        "id": "4hXtYQCV-dvN"
      },
      "execution_count": null,
      "outputs": []
    },
    {
      "cell_type": "code",
      "source": [
        "X = cars[['mpg', 'cyl', 'displ', 'hp', 'weight', 'accel', 'size']]"
      ],
      "metadata": {
        "id": "x7uQxtuLBFGh"
      },
      "execution_count": null,
      "outputs": []
    },
    {
      "cell_type": "code",
      "source": [
        "y = cars['origin']"
      ],
      "metadata": {
        "id": "kkAeVoULBI1A"
      },
      "execution_count": null,
      "outputs": []
    },
    {
      "cell_type": "code",
      "source": [
        "from sklearn.model_selection import train_test_split\n",
        "X_train, X_test, y_train, y_test = train_test_split(X, y, test_size=0.2, random_state=0)"
      ],
      "metadata": {
        "id": "NrOQZ6ZCBLbi"
      },
      "execution_count": null,
      "outputs": []
    },
    {
      "cell_type": "code",
      "source": [
        "clf = tree.DecisionTreeClassifier(max_depth = 5)\n",
        "clf = clf.fit(X_train, y_train)"
      ],
      "metadata": {
        "id": "cbwpp2_nBSTk"
      },
      "execution_count": null,
      "outputs": []
    },
    {
      "cell_type": "code",
      "source": [
        "import graphviz \n",
        "dot_data = tree.export_graphviz(clf, out_file=None, \n",
        "                     feature_names=X.columns,  \n",
        "                     class_names=y.unique(),  \n",
        "                     filled=True, rounded=True,\n",
        "                     special_characters=True)  \n",
        "graph = graphviz.Source(dot_data)  \n",
        "graph "
      ],
      "metadata": {
        "id": "JHtlbzY8BZp6"
      },
      "execution_count": null,
      "outputs": []
    },
    {
      "cell_type": "code",
      "source": [
        "y_pred = clf.predict(X_test)\n",
        "accuracy = accuracy_score(y_test, y_pred)\n",
        "print(classification_report(y_test,y_pred))"
      ],
      "metadata": {
        "id": "MJIr7UeOBoaD"
      },
      "execution_count": null,
      "outputs": []
    },
    {
      "cell_type": "markdown",
      "source": [
        "# Parameter Grid Builder for Parameter Tuning"
      ],
      "metadata": {
        "id": "kd4v5vv29Syg"
      }
    },
    {
      "cell_type": "code",
      "source": [
        "from sklearn.tree import DecisionTreeClassifier\n",
        "from sklearn.model_selection import GridSearchCV\n",
        "from sklearn.pipeline import Pipeline\n",
        "from sklearn.preprocessing import MinMaxScaler\n",
        "\n",
        "dt_pipe = Pipeline([('mms', MinMaxScaler()),\n",
        "                     ('dt', DecisionTreeClassifier())])\n",
        "params = [{'dt__max_depth': [3, 5, 7, 9],\n",
        "         'dt__min_samples_leaf': [2, 3, 5]}]\n",
        "         \n",
        "gs_dt = GridSearchCV(dt_pipe,\n",
        "                      param_grid=params,\n",
        "                      scoring='accuracy',\n",
        "                      cv=5)\n",
        "gs_dt.fit(cuisines_feature_df, cuisines_label_df)\n",
        "print(gs_dt.best_params_)\n",
        "# find best model score\n",
        "print(gs_dt.score(cuisines_feature_df, cuisines_label_df))\n"
      ],
      "metadata": {
        "id": "2VEI9b-X9RbS"
      },
      "execution_count": null,
      "outputs": []
    },
    {
      "cell_type": "code",
      "source": [
        "from sklearn.ensemble import RandomForestClassifier, AdaBoostClassifier\n",
        "\n",
        "rf = RandomForestClassifier()\n",
        "\n",
        "params = {'max_depth': [5, 7, 9], \n",
        "          'n_estimators': [50, 100, 200],\n",
        "          'max_features': ['sqrt', 'log2']\n",
        "          }  \n",
        "\n",
        "grid = GridSearchCV(rf, params, cv=10, scoring='accuracy', return_train_score=False)\n",
        "grid.fit(cuisines_feature_df, cuisines_label_df)\n",
        "\n",
        "print(grid.best_params_)\n",
        "# find best model score\n",
        "print(grid.score(cuisines_feature_df, cuisines_label_df))"
      ],
      "metadata": {
        "id": "FWC5VRse-aMv"
      },
      "execution_count": null,
      "outputs": []
    },
    {
      "cell_type": "markdown",
      "source": [
        "# Regression Trees"
      ],
      "metadata": {
        "id": "KLnAz07LGFV4"
      }
    },
    {
      "cell_type": "code",
      "source": [
        "cars = pd.read_csv(\"https://an-vistra.s3.us-west-1.amazonaws.com/data/auto-mpg.csv\")"
      ],
      "metadata": {
        "id": "9QDRwsbWBzkn"
      },
      "execution_count": null,
      "outputs": []
    },
    {
      "cell_type": "code",
      "source": [
        "cars.head()"
      ],
      "metadata": {
        "id": "qXggyyrjyYNr"
      },
      "execution_count": null,
      "outputs": []
    },
    {
      "cell_type": "code",
      "source": [
        "from sklearn.tree import DecisionTreeRegressor \n",
        "from sklearn import preprocessing\n",
        "\n",
        "X = cars[['cyl', 'displ', 'hp', 'weight', 'accel', 'origin', 'size']]\n",
        "y = cars['mpg']\n",
        "le = preprocessing.LabelEncoder()\n",
        "X['origin'] = le.fit_transform(X['origin'])\n",
        "\n",
        "X_train, X_test, y_train, y_test = train_test_split(X, y, test_size=0.2, random_state=0)\n",
        "# create a regressor object\n",
        "regressor = DecisionTreeRegressor(random_state = 0) \n",
        "  \n",
        "# fit the regressor with X and Y data\n",
        "regressor.fit(X_train, y_train)"
      ],
      "metadata": {
        "id": "Vrllymr3GIws"
      },
      "execution_count": null,
      "outputs": []
    },
    {
      "cell_type": "code",
      "source": [
        "from sklearn.model_selection import train_test_split, cross_val_score\n",
        "from sklearn.metrics import accuracy_score,precision_score,confusion_matrix, mean_squared_error, mean_absolute_error, r2_score, explained_variance_score\n",
        "import numpy as np\n",
        "# finish\n",
        "predictions = regressor.predict(X_test)\n",
        "\n",
        "print(\"R2 square = \", r2_score(y_test, predictions))\n",
        "print(\"MSE = \", mean_squared_error(y_test, predictions))\n",
        "print(\"MAE = \", mean_absolute_error(y_test, predictions))\n",
        "print(\"Explained variance score = \", explained_variance_score(y_test, predictions))"
      ],
      "metadata": {
        "id": "wOUR129VIHbS"
      },
      "execution_count": null,
      "outputs": []
    },
    {
      "cell_type": "code",
      "source": [
        "import graphviz \n",
        "dot_data = tree.export_graphviz(regressor, out_file=None, \n",
        "                     feature_names=X.columns,  \n",
        "                     class_names=y.unique(),  \n",
        "                     filled=True, rounded=True,\n",
        "                     special_characters=True)  \n",
        "graph = graphviz.Source(dot_data)  \n",
        "graph "
      ],
      "metadata": {
        "id": "drDD-mwGGreK"
      },
      "execution_count": null,
      "outputs": []
    }
  ]
}