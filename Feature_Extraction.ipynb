{
  "cells": [
    {
      "cell_type": "markdown",
      "metadata": {
        "id": "view-in-github",
        "colab_type": "text"
      },
      "source": [
        "<a href=\"https://colab.research.google.com/github/penny1xu/Capstone-Project/blob/main/Feature_Extraction.ipynb\" target=\"_parent\"><img src=\"https://colab.research.google.com/assets/colab-badge.svg\" alt=\"Open In Colab\"/></a>"
      ]
    },
    {
      "cell_type": "code",
      "execution_count": null,
      "metadata": {
        "id": "ub9I-7MnITRo",
        "colab": {
          "base_uri": "https://localhost:8080/"
        },
        "outputId": "df5574ce-e62f-499e-b65e-a8a3e750377a"
      },
      "outputs": [
        {
          "output_type": "stream",
          "name": "stdout",
          "text": [
            "Collecting pyradiomics\n",
            "  Downloading pyradiomics-3.0.1-cp37-cp37m-manylinux1_x86_64.whl (188 kB)\n",
            "\u001b[?25l\r\u001b[K     |█▊                              | 10 kB 18.3 MB/s eta 0:00:01\r\u001b[K     |███▌                            | 20 kB 9.6 MB/s eta 0:00:01\r\u001b[K     |█████▏                          | 30 kB 7.6 MB/s eta 0:00:01\r\u001b[K     |███████                         | 40 kB 7.1 MB/s eta 0:00:01\r\u001b[K     |████████▊                       | 51 kB 3.6 MB/s eta 0:00:01\r\u001b[K     |██████████▍                     | 61 kB 4.2 MB/s eta 0:00:01\r\u001b[K     |████████████▏                   | 71 kB 4.5 MB/s eta 0:00:01\r\u001b[K     |██████████████                  | 81 kB 3.5 MB/s eta 0:00:01\r\u001b[K     |███████████████▋                | 92 kB 3.9 MB/s eta 0:00:01\r\u001b[K     |█████████████████▍              | 102 kB 4.3 MB/s eta 0:00:01\r\u001b[K     |███████████████████▏            | 112 kB 4.3 MB/s eta 0:00:01\r\u001b[K     |████████████████████▉           | 122 kB 4.3 MB/s eta 0:00:01\r\u001b[K     |██████████████████████▋         | 133 kB 4.3 MB/s eta 0:00:01\r\u001b[K     |████████████████████████▍       | 143 kB 4.3 MB/s eta 0:00:01\r\u001b[K     |██████████████████████████      | 153 kB 4.3 MB/s eta 0:00:01\r\u001b[K     |███████████████████████████▉    | 163 kB 4.3 MB/s eta 0:00:01\r\u001b[K     |█████████████████████████████▋  | 174 kB 4.3 MB/s eta 0:00:01\r\u001b[K     |███████████████████████████████▎| 184 kB 4.3 MB/s eta 0:00:01\r\u001b[K     |████████████████████████████████| 188 kB 4.3 MB/s \n",
            "\u001b[?25hCollecting pykwalify>=1.6.0\n",
            "  Downloading pykwalify-1.8.0-py2.py3-none-any.whl (24 kB)\n",
            "Collecting SimpleITK>=0.9.1\n",
            "  Downloading SimpleITK-2.1.1-cp37-cp37m-manylinux_2_12_x86_64.manylinux2010_x86_64.whl (48.4 MB)\n",
            "\u001b[K     |████████████████████████████████| 48.4 MB 19 kB/s \n",
            "\u001b[?25hRequirement already satisfied: PyWavelets>=0.4.0 in /usr/local/lib/python3.7/dist-packages (from pyradiomics) (1.2.0)\n",
            "Requirement already satisfied: numpy>=1.9.2 in /usr/local/lib/python3.7/dist-packages (from pyradiomics) (1.21.5)\n",
            "Requirement already satisfied: six>=1.10.0 in /usr/local/lib/python3.7/dist-packages (from pyradiomics) (1.15.0)\n",
            "Collecting ruamel.yaml>=0.16.0\n",
            "  Downloading ruamel.yaml-0.17.21-py3-none-any.whl (109 kB)\n",
            "\u001b[K     |████████████████████████████████| 109 kB 44.6 MB/s \n",
            "\u001b[?25hRequirement already satisfied: python-dateutil>=2.8.0 in /usr/local/lib/python3.7/dist-packages (from pykwalify>=1.6.0->pyradiomics) (2.8.2)\n",
            "Requirement already satisfied: docopt>=0.6.2 in /usr/local/lib/python3.7/dist-packages (from pykwalify>=1.6.0->pyradiomics) (0.6.2)\n",
            "Collecting ruamel.yaml.clib>=0.2.6\n",
            "  Downloading ruamel.yaml.clib-0.2.6-cp37-cp37m-manylinux1_x86_64.whl (546 kB)\n",
            "\u001b[K     |████████████████████████████████| 546 kB 54.0 MB/s \n",
            "\u001b[?25hInstalling collected packages: ruamel.yaml.clib, ruamel.yaml, SimpleITK, pykwalify, pyradiomics\n",
            "Successfully installed SimpleITK-2.1.1 pykwalify-1.8.0 pyradiomics-3.0.1 ruamel.yaml-0.17.21 ruamel.yaml.clib-0.2.6\n"
          ]
        }
      ],
      "source": [
        "# install PyRadiomics if not installed already\n",
        "!pip install pyradiomics"
      ]
    },
    {
      "cell_type": "code",
      "execution_count": null,
      "metadata": {
        "id": "eZ8EJ3IUIhx-"
      },
      "outputs": [],
      "source": [
        "# importing libraries\n",
        "from __future__ import print_function\n",
        "import sys\n",
        "import os\n",
        "import collections\n",
        "import SimpleITK as sitk\n",
        "from SimpleITK.SimpleITK import JoinSeries\n",
        "import logging\n",
        "import six\n",
        "import radiomics\n",
        "from radiomics import featureextractor, getFeatureClasses, getTestCase, firstorder, glcm, imageoperations, shape, glrlm, glszm\n",
        "import numpy as np\n",
        "import pandas as pd\n",
        "import seaborn as sns\n",
        "import zipfile\n",
        "import PIL\n",
        "from PIL import Image"
      ]
    },
    {
      "cell_type": "code",
      "source": [
        "!wget --no-check-certificate \\\n",
        "    \"https://github.com/lukevrobbins/covid_19_severity_prediction/archive/refs/heads/Justin.zip\" \\\n",
        "    -O \"/tmp/chest-x-rays.zip\"\n",
        "\n",
        "zip_ref = zipfile.ZipFile('/tmp/chest-x-rays.zip', 'r') # Opens the zip file in read mode\n",
        "zip_ref.extractall('/tmp') # Extracts the files into the /tmp folder\n",
        "zip_ref.close()\n"
      ],
      "metadata": {
        "colab": {
          "base_uri": "https://localhost:8080/"
        },
        "id": "k3KUa65nOrEk",
        "outputId": "0db838a6-beee-4f51-f15f-3ee681e883f3"
      },
      "execution_count": null,
      "outputs": [
        {
          "output_type": "stream",
          "name": "stdout",
          "text": [
            "--2022-02-25 18:31:35--  https://github.com/lukevrobbins/covid_19_severity_prediction/archive/refs/heads/Justin.zip\n",
            "Resolving github.com (github.com)... 13.114.40.48\n",
            "Connecting to github.com (github.com)|13.114.40.48|:443... connected.\n",
            "HTTP request sent, awaiting response... 302 Found\n",
            "Location: https://codeload.github.com/lukevrobbins/covid_19_severity_prediction/zip/refs/heads/Justin [following]\n",
            "--2022-02-25 18:31:36--  https://codeload.github.com/lukevrobbins/covid_19_severity_prediction/zip/refs/heads/Justin\n",
            "Resolving codeload.github.com (codeload.github.com)... 52.193.111.178\n",
            "Connecting to codeload.github.com (codeload.github.com)|52.193.111.178|:443... connected.\n",
            "HTTP request sent, awaiting response... 200 OK\n",
            "Length: unspecified [application/zip]\n",
            "Saving to: ‘/tmp/chest-x-rays.zip’\n",
            "\n",
            "/tmp/chest-x-rays.z     [  <=>               ]   2.03M  7.88MB/s    in 0.3s    \n",
            "\n",
            "2022-02-25 18:31:37 (7.88 MB/s) - ‘/tmp/chest-x-rays.zip’ saved [2124428]\n",
            "\n"
          ]
        }
      ]
    },
    {
      "cell_type": "code",
      "source": [
        "# Define the testcase name\n",
        "testCase = \"1\"\n",
        "\n",
        "# Get the relative path to pyradiomics\\data\n",
        "# os.cwd() returns the current working directory\n",
        "# \"..\" points to the parent directory: \\pyradiomics\\bin\\Notebooks\\..\\ is equal to \\pyradiomics\\bin\\\n",
        "# Move up 2 directories (i.e. go to \\pyradiomics\\) and then move into \\pyradiomics\\data\n",
        "\n",
        "dataDir = os.path.join('/tmp/covid_19_severity_prediction-Justin/Chest X-ray Image Data sets')\n",
        "print(\"dataDir, relative path:\", dataDir)\n",
        "print(\"dataDir, absolute path:\", os.path.abspath(dataDir))\n",
        "\n",
        "# Resizing images to 256 x 256\n",
        "for file in os.listdir(dataDir):\n",
        "    f_img = dataDir + \"/\" + file\n",
        "    img = Image.open(f_img)\n",
        "    img = img.resize((256,256))\n",
        "    img.save(f_img)\n",
        "\n",
        "# Store the file paths of our testing image and label map into two variables\n",
        "imagePath = os.path.join(dataDir, testCase + \".jpg\")\n",
        "maskPath = os.path.join(dataDir, testCase + \"-mask.png\")\n",
        "\n",
        "# Transforming into \"3D\" image for pyradiomics\n",
        "image = sitk.ReadImage(imagePath)\n",
        "image3d = sitk.JoinSeries(image)\n",
        "mask = sitk.ReadImage(maskPath)\n",
        "mask3d = sitk.JoinSeries(mask)\n"
      ],
      "metadata": {
        "colab": {
          "base_uri": "https://localhost:8080/"
        },
        "id": "1KiCLABTM5lb",
        "outputId": "f222c49a-34ee-45d9-a87c-39d2c859b29d"
      },
      "execution_count": 27,
      "outputs": [
        {
          "output_type": "stream",
          "name": "stdout",
          "text": [
            "dataDir, relative path: /tmp/covid_19_severity_prediction-Justin/Chest X-ray Image Data sets\n",
            "dataDir, absolute path: /tmp/covid_19_severity_prediction-Justin/Chest X-ray Image Data sets\n"
          ]
        }
      ]
    },
    {
      "cell_type": "code",
      "execution_count": 57,
      "metadata": {
        "colab": {
          "base_uri": "https://localhost:8080/"
        },
        "id": "hEXtipUKMBML",
        "outputId": "62e32190-841e-4c51-d9b3-6844319af3cd"
      },
      "outputs": [
        {
          "output_type": "stream",
          "name": "stdout",
          "text": [
            "Extraction parameters:\n",
            "\t {'minimumROIDimensions': 2, 'minimumROISize': None, 'normalize': False, 'normalizeScale': 1, 'removeOutliers': None, 'resampledPixelSpacing': None, 'interpolator': 'sitkBSpline', 'preCrop': False, 'padDistance': 5, 'distances': [1], 'force2D': False, 'force2Ddimension': 0, 'resegmentRange': None, 'label': 1, 'additionalInfo': True}\n",
            "\n",
            "Enabled filters:\n",
            "\t {'Original': {}, 'LoG': {}}\n",
            "\n",
            "Enabled features:\n",
            "\t {'firstorder': [], 'glcm': [], 'gldm': [], 'glrlm': [], 'glszm': [], 'ngtdm': [], 'shape': [], 'shape2D': []}\n"
          ]
        }
      ],
      "source": [
        "# First define the settings of extractor\n",
        "settings = {}\n",
        "#settings['binWidth'] = 25\n",
        "#settings['resampledPixelSpacing'] = None\n",
        "#settings['resampledPixelSpacing'] = [3, 3, 3]  # This is an example for defining resampling (voxels with size 3x3x3mm)\n",
        "#settings['interpolator'] = 'sitkBSpline'\n",
        "#settings['verbose'] = True\n",
        "extractor = featureextractor.RadiomicsFeatureExtractor(**settings)\n",
        "print('Extraction parameters:\\n\\t', extractor.settings)\n",
        "\n",
        "# Enable a filter (in addition to the 'Original' filter already enabled)\n",
        "extractor.enableImageTypeByName('LoG')\n",
        "print('')\n",
        "print('Enabled filters:\\n\\t', extractor.enabledImagetypes)\n",
        "\n",
        "# Specify feature classes, all are enabled by default\n",
        "extractor.disableAllFeatures()\n",
        "extractor.enableAllFeatures()\n",
        "#extractor.enableFeatureClassByName('firstorder')\n",
        "\n",
        "# Specify some additional features in the GLCM feature class\n",
        "#extractor.enableFeaturesByName(glcm=['Autocorrelation', 'Homogeneity1', 'SumSquares'])\n",
        "print('')\n",
        "print('Enabled features:\\n\\t', extractor.enabledFeatures)\n"
      ]
    },
    {
      "cell_type": "code",
      "execution_count": null,
      "metadata": {
        "id": "4x5RQyWCOCQM"
      },
      "outputs": [],
      "source": [
        "# Extract features\n",
        "result = extractor.execute(image3d, mask3d)\n",
        "print('Result type:', type(result))  # result is returned in a Python ordered dictionary\n",
        "print('')\n",
        "print('Calculated features')\n",
        "for key, value in six.iteritems(result):\n",
        "    print('\\t', key, ':', value)"
      ]
    },
    {
      "cell_type": "code",
      "source": [
        "# same the feature to csv file\n",
        "from google.colab import files\n",
        "import pandas as pd\n",
        "import csv\n",
        "\n",
        "field_value= []\n",
        "field_names= []\n",
        "for key,value in six.iteritems(result):\n",
        "    field_names.append(key)\n",
        "    field_value.append(value)\n",
        "with open(\"result.csv\", \"w\") as outfile:\n",
        "    csvwriter = csv.writer(outfile)\n",
        "    csvwriter.writerow(field_names)\n",
        "    csvwriter.writerow(field_value)"
      ],
      "metadata": {
        "id": "YHPkZT5GWS9X"
      },
      "execution_count": 99,
      "outputs": []
    },
    {
      "cell_type": "code",
      "source": [
        "# Get the relative path to pyradiomics\\data\n",
        "# os.cwd() returns the current working directory\n",
        "# \"..\" points to the parent directory: \\pyradiomics\\bin\\Notebooks\\..\\ is equal to \\pyradiomics\\bin\\\n",
        "# Move up 2 directories (i.e. go to \\pyradiomics\\) and then move into \\pyradiomics\\data\n",
        "\n",
        "dataDir = os.path.join('/tmp/covid_19_severity_prediction-Justin/Chest X-ray Image Data sets')\n",
        "print(\"dataDir, relative path:\", dataDir)\n",
        "print(\"dataDir, absolute path:\", os.path.abspath(dataDir))\n",
        "\n",
        "for file in os.listdir(dataDir): \n",
        "  # Define the testcase name\n",
        "  count = 1\n",
        "  CXR_name = count + \"\"\n",
        "\n",
        "\n",
        "# Resizing images to 256 x 256\n",
        "for file in os.listdir(dataDir):\n",
        "    f_img = dataDir + \"/\" + file\n",
        "    img = Image.open(f_img)\n",
        "    img = img.resize((256,256))\n",
        "    img.save(f_img)\n",
        "\n",
        "# Store the file paths of our testing image and label map into two variables\n",
        "imagePath = os.path.join(dataDir, CXR_name + \".jpg\")\n",
        "maskPath = os.path.join(dataDir, CXR_name + \"-mask.png\")\n",
        "\n",
        "# Transforming into \"3D\" image for pyradiomics\n",
        "image = sitk.ReadImage(imagePath)\n",
        "image3d = sitk.JoinSeries(image)\n",
        "mask = sitk.ReadImage(maskPath)"
      ],
      "metadata": {
        "id": "IlmLS0jlLcPK"
      },
      "execution_count": null,
      "outputs": []
    }
  ],
  "metadata": {
    "colab": {
      "name": "Feature Extraction.ipynb",
      "provenance": [],
      "collapsed_sections": [],
      "include_colab_link": true
    },
    "kernelspec": {
      "display_name": "Python 3",
      "name": "python3"
    },
    "language_info": {
      "name": "python"
    }
  },
  "nbformat": 4,
  "nbformat_minor": 0
}