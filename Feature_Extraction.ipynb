{
  "cells": [
    {
      "cell_type": "markdown",
      "metadata": {
        "id": "view-in-github",
        "colab_type": "text"
      },
      "source": [
        "<a href=\"https://colab.research.google.com/github/penny1xu/Capstone-Project/blob/main/Feature_Extraction.ipynb\" target=\"_parent\"><img src=\"https://colab.research.google.com/assets/colab-badge.svg\" alt=\"Open In Colab\"/></a>"
      ]
    },
    {
      "cell_type": "code",
      "execution_count": null,
      "metadata": {
        "id": "ub9I-7MnITRo",
        "colab": {
          "base_uri": "https://localhost:8080/"
        },
        "outputId": "556b8152-af21-48f7-956c-c9cffc53ec6b"
      },
      "outputs": [
        {
          "output_type": "stream",
          "name": "stdout",
          "text": [
            "Requirement already satisfied: pyradiomics in /usr/local/lib/python3.7/dist-packages (3.0.1)\n",
            "Requirement already satisfied: PyWavelets>=0.4.0 in /usr/local/lib/python3.7/dist-packages (from pyradiomics) (1.2.0)\n",
            "Requirement already satisfied: six>=1.10.0 in /usr/local/lib/python3.7/dist-packages (from pyradiomics) (1.15.0)\n",
            "Requirement already satisfied: SimpleITK>=0.9.1 in /usr/local/lib/python3.7/dist-packages (from pyradiomics) (2.1.1)\n",
            "Requirement already satisfied: numpy>=1.9.2 in /usr/local/lib/python3.7/dist-packages (from pyradiomics) (1.21.5)\n",
            "Requirement already satisfied: pykwalify>=1.6.0 in /usr/local/lib/python3.7/dist-packages (from pyradiomics) (1.8.0)\n",
            "Requirement already satisfied: python-dateutil>=2.8.0 in /usr/local/lib/python3.7/dist-packages (from pykwalify>=1.6.0->pyradiomics) (2.8.2)\n",
            "Requirement already satisfied: ruamel.yaml>=0.16.0 in /usr/local/lib/python3.7/dist-packages (from pykwalify>=1.6.0->pyradiomics) (0.17.21)\n",
            "Requirement already satisfied: docopt>=0.6.2 in /usr/local/lib/python3.7/dist-packages (from pykwalify>=1.6.0->pyradiomics) (0.6.2)\n",
            "Requirement already satisfied: ruamel.yaml.clib>=0.2.6 in /usr/local/lib/python3.7/dist-packages (from ruamel.yaml>=0.16.0->pykwalify>=1.6.0->pyradiomics) (0.2.6)\n"
          ]
        }
      ],
      "source": [
        "# install PyRadiomics if not installed already\n",
        "!pip install pyradiomics"
      ]
    },
    {
      "cell_type": "code",
      "execution_count": null,
      "metadata": {
        "id": "eZ8EJ3IUIhx-"
      },
      "outputs": [],
      "source": [
        "# importing libraries\n",
        "from __future__ import print_function\n",
        "import sys\n",
        "import os\n",
        "import collections\n",
        "import SimpleITK as sitk\n",
        "from SimpleITK.SimpleITK import JoinSeries\n",
        "import logging\n",
        "import six\n",
        "import radiomics\n",
        "from radiomics import featureextractor, getFeatureClasses, getTestCase, firstorder, glcm, imageoperations, shape, glrlm, glszm\n",
        "import numpy as np\n",
        "import pandas as pd\n",
        "import seaborn as sns\n",
        "import zipfile\n",
        "import PIL\n",
        "from PIL import Image\n",
        "from google.colab import files\n",
        "import pandas as pd\n",
        "import csv"
      ]
    },
    {
      "cell_type": "code",
      "source": [
        "!wget --no-check-certificate \\\n",
        "    \"https://github.com/lukevrobbins/covid_19_severity_prediction/archive/refs/heads/Justin.zip\" \\\n",
        "    -O \"/tmp/chest-x-rays.zip\"\n",
        "\n",
        "zip_ref = zipfile.ZipFile('/tmp/covid_19_severity_prediction-Justin/Chest X-ray Image Data sets.zip', 'r') # Opens the zip file in read mode\n",
        "zip_ref.extractall('/tmp') # Extracts the files into the /tmp folder\n",
        "zip_ref.close()\n"
      ],
      "metadata": {
        "id": "k3KUa65nOrEk"
      },
      "execution_count": null,
      "outputs": []
    },
    {
      "cell_type": "code",
      "execution_count": null,
      "metadata": {
        "id": "hEXtipUKMBML"
      },
      "outputs": [],
      "source": [
        "# First define the settings of extractor\n",
        "settings = {}\n",
        "settings['label'] = 255\n",
        "#settings['binWidth'] = 25\n",
        "#settings['resampledPixelSpacing'] = None\n",
        "#settings['resampledPixelSpacing'] = [3, 3, 3]  # This is an example for defining resampling (voxels with size 3x3x3mm)\n",
        "#settings['interpolator'] = 'sitkBSpline'\n",
        "#settings['verbose'] = True\n",
        "extractor = featureextractor.RadiomicsFeatureExtractor(**settings)\n",
        "print('Extraction parameters:\\n\\t', extractor.settings)\n",
        "\n",
        "# Enable a filter (in addition to the 'Original' filter already enabled)\n",
        "extractor.enableImageTypeByName('LoG')\n",
        "print('')\n",
        "print('Enabled filters:\\n\\t', extractor.enabledImagetypes)\n",
        "\n",
        "# Specify feature classes, all are enabled by default\n",
        "extractor.disableAllFeatures()\n",
        "extractor.enableAllFeatures()\n",
        "#extractor.enableFeatureClassByName('firstorder')\n",
        "\n",
        "# Specify some additional features in the GLCM feature class\n",
        "#extractor.enableFeaturesByName(glcm=['Autocorrelation', 'Homogeneity1', 'SumSquares'])\n",
        "print('')\n",
        "print('Enabled features:\\n\\t', extractor.enabledFeatures)\n"
      ]
    },
    {
      "cell_type": "code",
      "source": [
        "dataDir = os.path.join('/tmp/Chest X-ray Image Data sets')\n",
        "print(\"dataDir, relative path:\", dataDir)\n",
        "print(\"dataDir, absolute path:\", os.path.abspath(dataDir))\n",
        "\n",
        "count = 1\n",
        "field_value= []\n",
        "field_names= []\n",
        "for file in os.listdir(dataDir):\n",
        "  if(count > len(os.listdir(dataDir))/2):\n",
        "    break\n",
        "  # Define the testcase name\n",
        "  CXR_name = str(count)\n",
        "  # Store the file paths of our testing image and label map into two variables\n",
        "  imagePath = os.path.join(dataDir, CXR_name + \".jpg\")\n",
        "  maskPath = os.path.join(dataDir, CXR_name + \"-mask.png\")\n",
        "  # Transforming into \"3D\" image for pyradiomics\n",
        "  image = sitk.ReadImage(imagePath, sitk.sitkInt16)\n",
        "  image3d = sitk.JoinSeries(image)\n",
        "  mask = sitk.ReadImage(maskPath, sitk.sitkInt16)\n",
        "  mask3d = sitk.JoinSeries(mask)\n",
        "\n",
        "  # Extract features\n",
        "  result = extractor.execute(image3d, mask3d)\n",
        "  # print('----------------------------------------------------------------------------------------------------------------------------------------------------------------------------------------------------------------------------------------------')\n",
        "  # print('Features extracted for image ' + str(count))\n",
        "  # print('Result type:', type(result))  # result is returned in a Python ordered dictionary\n",
        "  # print('')\n",
        "  # print('Calculated features')\n",
        "  for key, value in six.iteritems(result):\n",
        "      field_names.append(key)\n",
        "      field_value.append(value)\n",
        "  with open(\"frequencies.csv\", \"w\") as outfile:\n",
        "      csvwriter = csv.writer(outfile)\n",
        "      csvwriter.writerow(field_names)\n",
        "      csvwriter.writerow(field_value)\n",
        "  field_value= []\n",
        "  field_names= []\n",
        "  count = count + 1\n",
        "\n",
        "\n",
        "    "
      ],
      "metadata": {
        "id": "IlmLS0jlLcPK"
      },
      "execution_count": null,
      "outputs": []
    },
    {
      "cell_type": "code",
      "source": [
        "CXR_name = \"1\"\n",
        "\n",
        "imagePath = os.path.join(dataDir, CXR_name + \".jpg\")\n",
        "maskPath = os.path.join(dataDir, CXR_name + \"-mask.png\")\n",
        "\n",
        "image = sitk.ReadImage(imagePath, sitk.sitkInt16)\n",
        "image3d = sitk.JoinSeries(image)\n",
        "mask = sitk.ReadImage(maskPath, sitk.sitkInt16)\n",
        "mask3d = sitk.JoinSeries(mask)\n",
        "result = extractor.execute(image3d, mask3d)\n",
        "\n",
        "for key, value in six.iteritems(result):\n",
        "    field_names.append(key)\n",
        "    field_value.append(value)\n",
        "with open(\"frequencies.csv\", \"w\") as outfile:\n",
        "    csvwriter = csv.writer(outfile)\n",
        "    csvwriter.writerow(field_names)\n",
        "    csvwriter.writerow(field_value)"
      ],
      "metadata": {
        "colab": {
          "base_uri": "https://localhost:8080/"
        },
        "id": "nWQ0RCTwvXqW",
        "outputId": "5001c92f-b61f-4be1-9c7f-819084787d8f"
      },
      "execution_count": null,
      "outputs": [
        {
          "output_type": "stream",
          "name": "stderr",
          "text": [
            "parameter force2D must be set to True to enable shape2D extraction\n",
            "GLCM is symmetrical, therefore Sum Average = 2 * Joint Average, only 1 needs to be calculated\n",
            "Image too small to apply LoG filter, size: [256 256   1]\n"
          ]
        }
      ]
    }
  ],
  "metadata": {
    "colab": {
      "name": "Feature Extraction.ipynb",
      "provenance": [],
      "collapsed_sections": [],
      "include_colab_link": true
    },
    "kernelspec": {
      "display_name": "Python 3",
      "name": "python3"
    },
    "language_info": {
      "name": "python"
    }
  },
  "nbformat": 4,
  "nbformat_minor": 0
}