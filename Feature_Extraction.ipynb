{
  "cells": [
    {
      "cell_type": "markdown",
      "metadata": {
        "id": "view-in-github",
        "colab_type": "text"
      },
      "source": [
        "<a href=\"https://colab.research.google.com/github/penny1xu/Capstone-Project/blob/main/Feature_Extraction.ipynb\" target=\"_parent\"><img src=\"https://colab.research.google.com/assets/colab-badge.svg\" alt=\"Open In Colab\"/></a>"
      ]
    },
    {
      "cell_type": "code",
      "execution_count": null,
      "metadata": {
        "id": "ub9I-7MnITRo"
      },
      "outputs": [],
      "source": [
        "# install PyRadiomics if not installed already\n",
        "!pip install pyradiomics"
      ]
    },
    {
      "cell_type": "code",
      "execution_count": null,
      "metadata": {
        "id": "eZ8EJ3IUIhx-"
      },
      "outputs": [],
      "source": [
        "# importing libraries\n",
        "from __future__ import print_function\n",
        "import sys\n",
        "import os\n",
        "import collections\n",
        "import SimpleITK as sitk\n",
        "from SimpleITK.SimpleITK import JoinSeries\n",
        "import logging\n",
        "import six\n",
        "import radiomics\n",
        "from radiomics import featureextractor, getFeatureClasses, getTestCase, firstorder, glcm, imageoperations, shape, glrlm, glszm\n",
        "import numpy as np\n",
        "import pandas as pd\n",
        "import seaborn as sns\n",
        "import zipfile\n",
        "import PIL\n",
        "from PIL import Image"
      ]
    },
    {
      "cell_type": "code",
      "source": [
        "!wget --no-check-certificate \\\n",
        "    \"https://github.com/lukevrobbins/covid_19_severity_prediction/archive/refs/heads/Justin.zip\" \\\n",
        "    -O \"/tmp/chest-x-rays.zip\"\n",
        "\n",
        "zip_ref = zipfile.ZipFile('/tmp/chest-x-rays.zip', 'r') # Opens the zip file in read mode\n",
        "zip_ref.extractall('/tmp') # Extracts the files into the /tmp folder\n",
        "zip_ref.close()\n"
      ],
      "metadata": {
        "id": "k3KUa65nOrEk"
      },
      "execution_count": null,
      "outputs": []
    },
    {
      "cell_type": "code",
      "execution_count": 110,
      "metadata": {
        "id": "hEXtipUKMBML",
        "colab": {
          "base_uri": "https://localhost:8080/"
        },
        "outputId": "0683fa28-391f-45cd-e3b7-ed20cc35a7f1"
      },
      "outputs": [
        {
          "output_type": "stream",
          "name": "stdout",
          "text": [
            "Extraction parameters:\n",
            "\t {'minimumROIDimensions': 2, 'minimumROISize': None, 'normalize': False, 'normalizeScale': 1, 'removeOutliers': None, 'resampledPixelSpacing': None, 'interpolator': 'sitkBSpline', 'preCrop': False, 'padDistance': 5, 'distances': [1], 'force2D': False, 'force2Ddimension': 0, 'resegmentRange': None, 'label': 255, 'additionalInfo': True}\n",
            "\n",
            "Enabled filters:\n",
            "\t {'Original': {}, 'LoG': {}}\n",
            "\n",
            "Enabled features:\n",
            "\t {'firstorder': [], 'glcm': [], 'gldm': [], 'glrlm': [], 'glszm': [], 'ngtdm': [], 'shape': [], 'shape2D': []}\n"
          ]
        }
      ],
      "source": [
        "# First define the settings of extractor\n",
        "settings = {}\n",
        "settings['label'] = 255\n",
        "#settings['binWidth'] = 25\n",
        "#settings['resampledPixelSpacing'] = None\n",
        "#settings['resampledPixelSpacing'] = [3, 3, 3]  # This is an example for defining resampling (voxels with size 3x3x3mm)\n",
        "#settings['interpolator'] = 'sitkBSpline'\n",
        "#settings['verbose'] = True\n",
        "extractor = featureextractor.RadiomicsFeatureExtractor(**settings)\n",
        "print('Extraction parameters:\\n\\t', extractor.settings)\n",
        "\n",
        "# Enable a filter (in addition to the 'Original' filter already enabled)\n",
        "extractor.enableImageTypeByName('LoG')\n",
        "print('')\n",
        "print('Enabled filters:\\n\\t', extractor.enabledImagetypes)\n",
        "\n",
        "# Specify feature classes, all are enabled by default\n",
        "extractor.disableAllFeatures()\n",
        "extractor.enableAllFeatures()\n",
        "#extractor.enableFeatureClassByName('firstorder')\n",
        "\n",
        "# Specify some additional features in the GLCM feature class\n",
        "#extractor.enableFeaturesByName(glcm=['Autocorrelation', 'Homogeneity1', 'SumSquares'])\n",
        "print('')\n",
        "print('Enabled features:\\n\\t', extractor.enabledFeatures)\n"
      ]
    },
    {
      "cell_type": "code",
      "source": [
        "dataDir = os.path.join('/tmp/Chest X-ray Image Data sets')\n",
        "print(\"dataDir, relative path:\", dataDir)\n",
        "print(\"dataDir, absolute path:\", os.path.abspath(dataDir))\n",
        "\n",
        "count = 1\n",
        "for file in os.listdir(dataDir):\n",
        "  if(count > len(os.listdir(dataDir))/2):\n",
        "    break\n",
        "  # Define the testcase name\n",
        "  CXR_name = str(count)\n",
        "  # Resizing images to 256 x 256\n",
        "  for file in os.listdir(dataDir):\n",
        "    f_img = dataDir + \"/\" + file\n",
        "    img = Image.open(f_img)\n",
        "    img = img.resize((256,256))\n",
        "    img.save(f_img)\n",
        "  # Store the file paths of our testing image and label map into two variables\n",
        "  imagePath = os.path.join(dataDir, CXR_name + \".jpg\")\n",
        "  maskPath = os.path.join(dataDir, CXR_name + \"-mask.png\")\n",
        "  # Transforming into \"3D\" image for pyradiomics\n",
        "  image = sitk.ReadImage(imagePath, sitk.sitkInt16)\n",
        "  image3d = sitk.JoinSeries(image)\n",
        "  mask = sitk.ReadImage(maskPath, sitk.sitkInt16)\n",
        "  mask3d = sitk.JoinSeries(mask)\n",
        "\n",
        "  # Extract features\n",
        "  result = extractor.execute(image3d, mask3d)\n",
        "  print('----------------------------------------------------------------------------------------------------------------------------------------------------------------------------------------------------------------------------------------------')\n",
        "  print('Features extracted for image ' + str(count))\n",
        "  print('Result type:', type(result))  # result is returned in a Python ordered dictionary\n",
        "  print('')\n",
        "  print('Calculated features')\n",
        "  for key, value in six.iteritems(result):\n",
        "      print('\\t', key, ':', value)\n",
        "  count = count + 1\n",
        "\n",
        "    "
      ],
      "metadata": {
        "id": "IlmLS0jlLcPK",
        "colab": {
          "base_uri": "https://localhost:8080/",
          "height": 276
        },
        "outputId": "18eba4c1-69d4-4e78-d834-a325221a5778"
      },
      "execution_count": 111,
      "outputs": [
        {
          "output_type": "stream",
          "name": "stdout",
          "text": [
            "dataDir, relative path: /tmp/Chest X-ray Image Data sets\n",
            "dataDir, absolute path: /tmp/Chest X-ray Image Data sets\n"
          ]
        },
        {
          "output_type": "error",
          "ename": "FileNotFoundError",
          "evalue": "ignored",
          "traceback": [
            "\u001b[0;31m---------------------------------------------------------------------------\u001b[0m",
            "\u001b[0;31mFileNotFoundError\u001b[0m                         Traceback (most recent call last)",
            "\u001b[0;32m<ipython-input-111-b999101d1a8f>\u001b[0m in \u001b[0;36m<module>\u001b[0;34m()\u001b[0m\n\u001b[1;32m      4\u001b[0m \u001b[0;34m\u001b[0m\u001b[0m\n\u001b[1;32m      5\u001b[0m \u001b[0mcount\u001b[0m \u001b[0;34m=\u001b[0m \u001b[0;36m1\u001b[0m\u001b[0;34m\u001b[0m\u001b[0;34m\u001b[0m\u001b[0m\n\u001b[0;32m----> 6\u001b[0;31m \u001b[0;32mfor\u001b[0m \u001b[0mfile\u001b[0m \u001b[0;32min\u001b[0m \u001b[0mos\u001b[0m\u001b[0;34m.\u001b[0m\u001b[0mlistdir\u001b[0m\u001b[0;34m(\u001b[0m\u001b[0mdataDir\u001b[0m\u001b[0;34m)\u001b[0m\u001b[0;34m:\u001b[0m\u001b[0;34m\u001b[0m\u001b[0;34m\u001b[0m\u001b[0m\n\u001b[0m\u001b[1;32m      7\u001b[0m   \u001b[0;32mif\u001b[0m\u001b[0;34m(\u001b[0m\u001b[0mcount\u001b[0m \u001b[0;34m>\u001b[0m \u001b[0mlen\u001b[0m\u001b[0;34m(\u001b[0m\u001b[0mos\u001b[0m\u001b[0;34m.\u001b[0m\u001b[0mlistdir\u001b[0m\u001b[0;34m(\u001b[0m\u001b[0mdataDir\u001b[0m\u001b[0;34m)\u001b[0m\u001b[0;34m)\u001b[0m\u001b[0;34m/\u001b[0m\u001b[0;36m2\u001b[0m\u001b[0;34m)\u001b[0m\u001b[0;34m:\u001b[0m\u001b[0;34m\u001b[0m\u001b[0;34m\u001b[0m\u001b[0m\n\u001b[1;32m      8\u001b[0m     \u001b[0;32mbreak\u001b[0m\u001b[0;34m\u001b[0m\u001b[0;34m\u001b[0m\u001b[0m\n",
            "\u001b[0;31mFileNotFoundError\u001b[0m: [Errno 2] No such file or directory: '/tmp/Chest X-ray Image Data sets'"
          ]
        }
      ]
    },
    {
      "cell_type": "code",
      "source": [
        "from google.colab import files\n",
        "import pandas as pd\n",
        "import csv\n",
        "# test if the \n",
        "field_value= []\n",
        "field_names= []\n",
        "for key,value in six.iteritems(result):\n",
        "    field_names.append(key)\n",
        "    field_value.append(value)\n",
        "with open(\"frequencies.csv\", \"w\") as outfile:\n",
        "    csvwriter = csv.writer(outfile)\n",
        "    csvwriter.writerow(field_names)\n",
        "    csvwriter.writerow(field_value)"
      ],
      "metadata": {
        "id": "BwlcNedUpKso"
      },
      "execution_count": 108,
      "outputs": []
    }
  ],
  "metadata": {
    "colab": {
      "name": "Feature Extraction.ipynb",
      "provenance": [],
      "collapsed_sections": [],
      "include_colab_link": true
    },
    "kernelspec": {
      "display_name": "Python 3",
      "name": "python3"
    },
    "language_info": {
      "name": "python"
    }
  },
  "nbformat": 4,
  "nbformat_minor": 0
}